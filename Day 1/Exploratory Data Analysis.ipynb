{
 "cells": [
  {
   "cell_type": "code",
   "execution_count": null,
   "id": "5e7010e4",
   "metadata": {},
   "outputs": [],
   "source": [
    "#Data Manipulation \n",
    "1. You need data set \n",
    "2. we need find noise of data set \n",
    "3. check missing data set  \n",
    "\n"
   ]
  },
  {
   "cell_type": "code",
   "execution_count": null,
   "id": "f7274130",
   "metadata": {},
   "outputs": [],
   "source": [
    "Data -  text, numeric,\n",
    "\n",
    "using  - text file (1kb - 5mb)\n",
    "       - database 2 - 3 laks gb  \n",
    "       - why csv ?? \n",
    "        \n",
    "---- \n",
    "Pandas lib \n",
    "1. pandas series - temp = [22,3,3,4,4,5,5,6]\n",
    "2. pandas dataframe - rows & colums = pandas data frame. \n",
    "\n",
    "\n"
   ]
  },
  {
   "attachments": {
    "image.png": {
     "image/png": "[encoded data removed]"
    }
   },
   "cell_type": "markdown",
   "id": "7484596f",
   "metadata": {},
   "source": [
    "![image.png](attachment:image.png)"
   ]
  },
  {
   "cell_type": "code",
   "execution_count": null,
   "id": "808ca4cf",
   "metadata": {},
   "outputs": [],
   "source": [
    "!pip install pandas \n",
    "\n",
    "or \n",
    "\n",
    "!conda install pandas "
   ]
  },
  {
   "cell_type": "code",
   "execution_count": 1,
   "id": "f8851193",
   "metadata": {},
   "outputs": [],
   "source": [
    "#import the lib \n",
    "\n",
    "import pandas as pd  \n",
    "\n",
    "dataframe = pd.DataFrame({\n",
    "    \"Name\": [\"Ramar\",\"Vinay\",\"Mukta\",\"Sharma\"],\n",
    "    \"Age\":[28,29,30,32],\n",
    "    \"Gender\":['Male','Male','Female','Male']\n",
    "}\n",
    "\n",
    ")"
   ]
  },
  {
   "cell_type": "code",
   "execution_count": 4,
   "id": "65beb812",
   "metadata": {},
   "outputs": [
    {
     "data": {
      "text/html": [
       "<div>\n",
       "<style scoped>\n",
       "    .dataframe tbody tr th:only-of-type {\n",
       "        vertical-align: middle;\n",
       "    }\n",
       "\n",
       "    .dataframe tbody tr th {\n",
       "        vertical-align: top;\n",
       "    }\n",
       "\n",
       "    .dataframe thead th {\n",
       "        text-align: right;\n",
       "    }\n",
       "</style>\n",
       "<table border=\"1\" class=\"dataframe\">\n",
       "  <thead>\n",
       "    <tr style=\"text-align: right;\">\n",
       "      <th></th>\n",
       "      <th>Name</th>\n",
       "      <th>Age</th>\n",
       "      <th>Gender</th>\n",
       "    </tr>\n",
       "  </thead>\n",
       "  <tbody>\n",
       "    <tr>\n",
       "      <th>0</th>\n",
       "      <td>Ramar</td>\n",
       "      <td>28</td>\n",
       "      <td>Male</td>\n",
       "    </tr>\n",
       "    <tr>\n",
       "      <th>1</th>\n",
       "      <td>Vinay</td>\n",
       "      <td>29</td>\n",
       "      <td>Male</td>\n",
       "    </tr>\n",
       "    <tr>\n",
       "      <th>2</th>\n",
       "      <td>Mukta</td>\n",
       "      <td>30</td>\n",
       "      <td>Female</td>\n",
       "    </tr>\n",
       "    <tr>\n",
       "      <th>3</th>\n",
       "      <td>Sharma</td>\n",
       "      <td>32</td>\n",
       "      <td>Male</td>\n",
       "    </tr>\n",
       "  </tbody>\n",
       "</table>\n",
       "</div>"
      ],
      "text/plain": [
       "     Name  Age  Gender\n",
       "0   Ramar   28    Male\n",
       "1   Vinay   29    Male\n",
       "2   Mukta   30  Female\n",
       "3  Sharma   32    Male"
      ]
     },
     "execution_count": 4,
     "metadata": {},
     "output_type": "execute_result"
    }
   ],
   "source": [
    "dataframe"
   ]
  },
  {
   "cell_type": "code",
   "execution_count": 5,
   "id": "596e8616",
   "metadata": {},
   "outputs": [
    {
     "data": {
      "text/plain": [
       "0    28\n",
       "1    29\n",
       "2    30\n",
       "3    32\n",
       "Name: Age, dtype: int64"
      ]
     },
     "execution_count": 5,
     "metadata": {},
     "output_type": "execute_result"
    }
   ],
   "source": [
    "## When selecting a single column of a pandas DataFrame, the result is a \n",
    "## pandas Series.\n",
    "dataframe['Age']"
   ]
  },
  {
   "cell_type": "code",
   "execution_count": 7,
   "id": "e5f7798b",
   "metadata": {},
   "outputs": [
    {
     "data": {
      "text/plain": [
       "32"
      ]
     },
     "execution_count": 7,
     "metadata": {},
     "output_type": "execute_result"
    }
   ],
   "source": [
    "dataframe['Age'].max()"
   ]
  },
  {
   "cell_type": "code",
   "execution_count": 9,
   "id": "07c5d079",
   "metadata": {},
   "outputs": [
    {
     "data": {
      "text/html": [
       "<div>\n",
       "<style scoped>\n",
       "    .dataframe tbody tr th:only-of-type {\n",
       "        vertical-align: middle;\n",
       "    }\n",
       "\n",
       "    .dataframe tbody tr th {\n",
       "        vertical-align: top;\n",
       "    }\n",
       "\n",
       "    .dataframe thead th {\n",
       "        text-align: right;\n",
       "    }\n",
       "</style>\n",
       "<table border=\"1\" class=\"dataframe\">\n",
       "  <thead>\n",
       "    <tr style=\"text-align: right;\">\n",
       "      <th></th>\n",
       "      <th>Name</th>\n",
       "      <th>Age</th>\n",
       "      <th>Gender</th>\n",
       "    </tr>\n",
       "  </thead>\n",
       "  <tbody>\n",
       "    <tr>\n",
       "      <th>0</th>\n",
       "      <td>Ramar</td>\n",
       "      <td>28</td>\n",
       "      <td>Male</td>\n",
       "    </tr>\n",
       "    <tr>\n",
       "      <th>1</th>\n",
       "      <td>Vinay</td>\n",
       "      <td>29</td>\n",
       "      <td>Male</td>\n",
       "    </tr>\n",
       "    <tr>\n",
       "      <th>2</th>\n",
       "      <td>Mukta</td>\n",
       "      <td>30</td>\n",
       "      <td>Female</td>\n",
       "    </tr>\n",
       "    <tr>\n",
       "      <th>3</th>\n",
       "      <td>Sharma</td>\n",
       "      <td>32</td>\n",
       "      <td>Male</td>\n",
       "    </tr>\n",
       "  </tbody>\n",
       "</table>\n",
       "</div>"
      ],
      "text/plain": [
       "     Name  Age  Gender\n",
       "0   Ramar   28    Male\n",
       "1   Vinay   29    Male\n",
       "2   Mukta   30  Female\n",
       "3  Sharma   32    Male"
      ]
     },
     "execution_count": 9,
     "metadata": {},
     "output_type": "execute_result"
    }
   ],
   "source": [
    "dataframe\n"
   ]
  },
  {
   "cell_type": "code",
   "execution_count": 8,
   "id": "3587aeb4",
   "metadata": {},
   "outputs": [
    {
     "data": {
      "text/html": [
       "<div>\n",
       "<style scoped>\n",
       "    .dataframe tbody tr th:only-of-type {\n",
       "        vertical-align: middle;\n",
       "    }\n",
       "\n",
       "    .dataframe tbody tr th {\n",
       "        vertical-align: top;\n",
       "    }\n",
       "\n",
       "    .dataframe thead th {\n",
       "        text-align: right;\n",
       "    }\n",
       "</style>\n",
       "<table border=\"1\" class=\"dataframe\">\n",
       "  <thead>\n",
       "    <tr style=\"text-align: right;\">\n",
       "      <th></th>\n",
       "      <th>Age</th>\n",
       "    </tr>\n",
       "  </thead>\n",
       "  <tbody>\n",
       "    <tr>\n",
       "      <th>count</th>\n",
       "      <td>4.000000</td>\n",
       "    </tr>\n",
       "    <tr>\n",
       "      <th>mean</th>\n",
       "      <td>29.750000</td>\n",
       "    </tr>\n",
       "    <tr>\n",
       "      <th>std</th>\n",
       "      <td>1.707825</td>\n",
       "    </tr>\n",
       "    <tr>\n",
       "      <th>min</th>\n",
       "      <td>28.000000</td>\n",
       "    </tr>\n",
       "    <tr>\n",
       "      <th>25%</th>\n",
       "      <td>28.750000</td>\n",
       "    </tr>\n",
       "    <tr>\n",
       "      <th>50%</th>\n",
       "      <td>29.500000</td>\n",
       "    </tr>\n",
       "    <tr>\n",
       "      <th>75%</th>\n",
       "      <td>30.500000</td>\n",
       "    </tr>\n",
       "    <tr>\n",
       "      <th>max</th>\n",
       "      <td>32.000000</td>\n",
       "    </tr>\n",
       "  </tbody>\n",
       "</table>\n",
       "</div>"
      ],
      "text/plain": [
       "             Age\n",
       "count   4.000000\n",
       "mean   29.750000\n",
       "std     1.707825\n",
       "min    28.000000\n",
       "25%    28.750000\n",
       "50%    29.500000\n",
       "75%    30.500000\n",
       "max    32.000000"
      ]
     },
     "execution_count": 8,
     "metadata": {},
     "output_type": "execute_result"
    }
   ],
   "source": [
    "#  Describe ()  \n",
    "\n",
    "dataframe.describe()"
   ]
  },
  {
   "cell_type": "code",
   "execution_count": 10,
   "id": "2e0c11c4",
   "metadata": {},
   "outputs": [],
   "source": [
    "import pandas as pd "
   ]
  },
  {
   "cell_type": "code",
   "execution_count": 42,
   "id": "6f75d94c",
   "metadata": {},
   "outputs": [],
   "source": [
    "t_df = pd.read_csv('data/titanic_train.csv')"
   ]
  },
  {
   "cell_type": "code",
   "execution_count": 43,
   "id": "4a8976f7",
   "metadata": {},
   "outputs": [
    {
     "data": {
      "text/html": [
       "<div>\n",
       "<style scoped>\n",
       "    .dataframe tbody tr th:only-of-type {\n",
       "        vertical-align: middle;\n",
       "    }\n",
       "\n",
       "    .dataframe tbody tr th {\n",
       "        vertical-align: top;\n",
       "    }\n",
       "\n",
       "    .dataframe thead th {\n",
       "        text-align: right;\n",
       "    }\n",
       "</style>\n",
       "<table border=\"1\" class=\"dataframe\">\n",
       "  <thead>\n",
       "    <tr style=\"text-align: right;\">\n",
       "      <th></th>\n",
       "      <th>passenger_id</th>\n",
       "      <th>pclass</th>\n",
       "      <th>name</th>\n",
       "      <th>sex</th>\n",
       "      <th>age</th>\n",
       "      <th>sibsp</th>\n",
       "      <th>parch</th>\n",
       "      <th>ticket</th>\n",
       "      <th>fare</th>\n",
       "      <th>cabin</th>\n",
       "      <th>embarked</th>\n",
       "      <th>boat</th>\n",
       "      <th>body</th>\n",
       "      <th>home.dest</th>\n",
       "      <th>survived</th>\n",
       "    </tr>\n",
       "  </thead>\n",
       "  <tbody>\n",
       "    <tr>\n",
       "      <th>0</th>\n",
       "      <td>1216</td>\n",
       "      <td>3</td>\n",
       "      <td>Smyth, Miss. Julia</td>\n",
       "      <td>female</td>\n",
       "      <td>NaN</td>\n",
       "      <td>0</td>\n",
       "      <td>0</td>\n",
       "      <td>335432</td>\n",
       "      <td>7.7333</td>\n",
       "      <td>NaN</td>\n",
       "      <td>Q</td>\n",
       "      <td>13</td>\n",
       "      <td>NaN</td>\n",
       "      <td>NaN</td>\n",
       "      <td>1</td>\n",
       "    </tr>\n",
       "    <tr>\n",
       "      <th>1</th>\n",
       "      <td>699</td>\n",
       "      <td>3</td>\n",
       "      <td>Cacic, Mr. Luka</td>\n",
       "      <td>male</td>\n",
       "      <td>38.0</td>\n",
       "      <td>0</td>\n",
       "      <td>0</td>\n",
       "      <td>315089</td>\n",
       "      <td>8.6625</td>\n",
       "      <td>NaN</td>\n",
       "      <td>S</td>\n",
       "      <td>NaN</td>\n",
       "      <td>NaN</td>\n",
       "      <td>Croatia</td>\n",
       "      <td>0</td>\n",
       "    </tr>\n",
       "    <tr>\n",
       "      <th>2</th>\n",
       "      <td>1267</td>\n",
       "      <td>3</td>\n",
       "      <td>Van Impe, Mrs. Jean Baptiste (Rosalie Paula Go...</td>\n",
       "      <td>female</td>\n",
       "      <td>30.0</td>\n",
       "      <td>1</td>\n",
       "      <td>1</td>\n",
       "      <td>345773</td>\n",
       "      <td>24.1500</td>\n",
       "      <td>NaN</td>\n",
       "      <td>S</td>\n",
       "      <td>NaN</td>\n",
       "      <td>NaN</td>\n",
       "      <td>NaN</td>\n",
       "      <td>0</td>\n",
       "    </tr>\n",
       "    <tr>\n",
       "      <th>3</th>\n",
       "      <td>449</td>\n",
       "      <td>2</td>\n",
       "      <td>Hocking, Mrs. Elizabeth (Eliza Needs)</td>\n",
       "      <td>female</td>\n",
       "      <td>54.0</td>\n",
       "      <td>1</td>\n",
       "      <td>3</td>\n",
       "      <td>29105</td>\n",
       "      <td>23.0000</td>\n",
       "      <td>NaN</td>\n",
       "      <td>S</td>\n",
       "      <td>4</td>\n",
       "      <td>NaN</td>\n",
       "      <td>Cornwall / Akron, OH</td>\n",
       "      <td>1</td>\n",
       "    </tr>\n",
       "    <tr>\n",
       "      <th>4</th>\n",
       "      <td>576</td>\n",
       "      <td>2</td>\n",
       "      <td>Veal, Mr. James</td>\n",
       "      <td>male</td>\n",
       "      <td>40.0</td>\n",
       "      <td>0</td>\n",
       "      <td>0</td>\n",
       "      <td>28221</td>\n",
       "      <td>13.0000</td>\n",
       "      <td>NaN</td>\n",
       "      <td>S</td>\n",
       "      <td>NaN</td>\n",
       "      <td>NaN</td>\n",
       "      <td>Barre, Co Washington, VT</td>\n",
       "      <td>0</td>\n",
       "    </tr>\n",
       "  </tbody>\n",
       "</table>\n",
       "</div>"
      ],
      "text/plain": [
       "   passenger_id  pclass                                               name  \\\n",
       "0          1216       3                                 Smyth, Miss. Julia   \n",
       "1           699       3                                    Cacic, Mr. Luka   \n",
       "2          1267       3  Van Impe, Mrs. Jean Baptiste (Rosalie Paula Go...   \n",
       "3           449       2              Hocking, Mrs. Elizabeth (Eliza Needs)   \n",
       "4           576       2                                    Veal, Mr. James   \n",
       "\n",
       "      sex   age  sibsp  parch  ticket     fare cabin embarked boat  body  \\\n",
       "0  female   NaN      0      0  335432   7.7333   NaN        Q   13   NaN   \n",
       "1    male  38.0      0      0  315089   8.6625   NaN        S  NaN   NaN   \n",
       "2  female  30.0      1      1  345773  24.1500   NaN        S  NaN   NaN   \n",
       "3  female  54.0      1      3   29105  23.0000   NaN        S    4   NaN   \n",
       "4    male  40.0      0      0   28221  13.0000   NaN        S  NaN   NaN   \n",
       "\n",
       "                  home.dest  survived  \n",
       "0                       NaN         1  \n",
       "1                   Croatia         0  \n",
       "2                       NaN         0  \n",
       "3      Cornwall / Akron, OH         1  \n",
       "4  Barre, Co Washington, VT         0  "
      ]
     },
     "execution_count": 43,
     "metadata": {},
     "output_type": "execute_result"
    }
   ],
   "source": [
    "t_df.head()"
   ]
  },
  {
   "cell_type": "code",
   "execution_count": 17,
   "id": "33f9752a",
   "metadata": {},
   "outputs": [
    {
     "data": {
      "text/plain": [
       "0                                     Smyth, Miss. Julia\n",
       "1                                        Cacic, Mr. Luka\n",
       "2      Van Impe, Mrs. Jean Baptiste (Rosalie Paula Go...\n",
       "3                  Hocking, Mrs. Elizabeth (Eliza Needs)\n",
       "4                                        Veal, Mr. James\n",
       "                             ...                        \n",
       "845                          Hipkins, Mr. William Edward\n",
       "846                              Kent, Mr. Edward Austin\n",
       "847                  Kantor, Mrs. Sinai (Miriam Sternin)\n",
       "848                            Peacock, Miss. Treasteall\n",
       "849                                Greenberg, Mr. Samuel\n",
       "Name: name, Length: 850, dtype: object"
      ]
     },
     "execution_count": 17,
     "metadata": {},
     "output_type": "execute_result"
    }
   ],
   "source": [
    "t_df['name']"
   ]
  },
  {
   "cell_type": "code",
   "execution_count": 18,
   "id": "de546c3f",
   "metadata": {},
   "outputs": [
    {
     "data": {
      "text/plain": [
       "0                                     smyth, miss. julia\n",
       "1                                        cacic, mr. luka\n",
       "2      van impe, mrs. jean baptiste (rosalie paula go...\n",
       "3                  hocking, mrs. elizabeth (eliza needs)\n",
       "4                                        veal, mr. james\n",
       "                             ...                        \n",
       "845                          hipkins, mr. william edward\n",
       "846                              kent, mr. edward austin\n",
       "847                  kantor, mrs. sinai (miriam sternin)\n",
       "848                            peacock, miss. treasteall\n",
       "849                                greenberg, mr. samuel\n",
       "Name: name, Length: 850, dtype: object"
      ]
     },
     "execution_count": 18,
     "metadata": {},
     "output_type": "execute_result"
    }
   ],
   "source": [
    "#Task 1 \n",
    "t_df['name'].str.lower()"
   ]
  },
  {
   "cell_type": "code",
   "execution_count": 19,
   "id": "555a7208",
   "metadata": {},
   "outputs": [
    {
     "data": {
      "text/plain": [
       "0                                  [Smyth,  Miss. Julia]\n",
       "1                                     [Cacic,  Mr. Luka]\n",
       "2      [Van Impe,  Mrs. Jean Baptiste (Rosalie Paula ...\n",
       "3               [Hocking,  Mrs. Elizabeth (Eliza Needs)]\n",
       "4                                     [Veal,  Mr. James]\n",
       "                             ...                        \n",
       "845                       [Hipkins,  Mr. William Edward]\n",
       "846                           [Kent,  Mr. Edward Austin]\n",
       "847               [Kantor,  Mrs. Sinai (Miriam Sternin)]\n",
       "848                         [Peacock,  Miss. Treasteall]\n",
       "849                             [Greenberg,  Mr. Samuel]\n",
       "Name: name, Length: 850, dtype: object"
      ]
     },
     "execution_count": 19,
     "metadata": {},
     "output_type": "execute_result"
    }
   ],
   "source": [
    "#Task 2 split data into surname \n",
    "\n",
    "t_df['name'].str.split(\",\")"
   ]
  },
  {
   "cell_type": "code",
   "execution_count": 21,
   "id": "d973544b",
   "metadata": {},
   "outputs": [],
   "source": [
    "t_df['surname'] = t_df['name'].str.split(',').str.get(0)"
   ]
  },
  {
   "cell_type": "code",
   "execution_count": 22,
   "id": "ecedd11a",
   "metadata": {},
   "outputs": [
    {
     "data": {
      "text/plain": [
       "0          Smyth\n",
       "1          Cacic\n",
       "2       Van Impe\n",
       "3        Hocking\n",
       "4           Veal\n",
       "         ...    \n",
       "845      Hipkins\n",
       "846         Kent\n",
       "847       Kantor\n",
       "848      Peacock\n",
       "849    Greenberg\n",
       "Name: surname, Length: 850, dtype: object"
      ]
     },
     "execution_count": 22,
     "metadata": {},
     "output_type": "execute_result"
    }
   ],
   "source": [
    "t_df['surname']"
   ]
  },
  {
   "cell_type": "markdown",
   "id": "e113e724",
   "metadata": {},
   "source": [
    "\n",
    "#### Exploratory Data Analysis\n",
    "Technically, The primary motive of EDA is to\n",
    "\n",
    "1. Examine the data distribution\n",
    "2. Handling missing values of the dataset(a most common issue with every dataset)\n",
    "3. Handling the outliers\n",
    "4. Removing duplicate data\n",
    "5. Encoding the categorical variables\n",
    "6. Normalizing and Scaling\n"
   ]
  },
  {
   "cell_type": "code",
   "execution_count": 23,
   "id": "c121bd2a",
   "metadata": {},
   "outputs": [],
   "source": [
    "#Step 1 - import the lib \n",
    "\n",
    "import numpy as np # numerical calculation \n",
    "import pandas as pd # handling data \n",
    "import matplotlib.pyplot as plt # data visulaization low level \n",
    "import seaborn as sns # high level data visulaization \n",
    "\n",
    "from pylab import rcParams  \n",
    "rcParams['figure.figsize'] = (12,6) \n",
    "sns.set()"
   ]
  },
  {
   "cell_type": "code",
   "execution_count": 44,
   "id": "61c5a52b",
   "metadata": {},
   "outputs": [],
   "source": [
    "#setp 2: load data - use pandas lib \n",
    "\n",
    "df = pd.read_csv('data/Happiness.csv')"
   ]
  },
  {
   "cell_type": "code",
   "execution_count": 45,
   "id": "4922b6cb",
   "metadata": {},
   "outputs": [
    {
     "data": {
      "text/html": [
       "<div>\n",
       "<style scoped>\n",
       "    .dataframe tbody tr th:only-of-type {\n",
       "        vertical-align: middle;\n",
       "    }\n",
       "\n",
       "    .dataframe tbody tr th {\n",
       "        vertical-align: top;\n",
       "    }\n",
       "\n",
       "    .dataframe thead th {\n",
       "        text-align: right;\n",
       "    }\n",
       "</style>\n",
       "<table border=\"1\" class=\"dataframe\">\n",
       "  <thead>\n",
       "    <tr style=\"text-align: right;\">\n",
       "      <th></th>\n",
       "      <th>Country</th>\n",
       "      <th>Region</th>\n",
       "      <th>Happiness Rank</th>\n",
       "      <th>Happiness Score</th>\n",
       "      <th>Standard Error</th>\n",
       "      <th>Economy (GDP per Capita)</th>\n",
       "      <th>Family</th>\n",
       "      <th>Health (Life Expectancy)</th>\n",
       "      <th>Freedom</th>\n",
       "      <th>Trust (Government Corruption)</th>\n",
       "      <th>Generosity</th>\n",
       "      <th>Dystopia Residual</th>\n",
       "    </tr>\n",
       "  </thead>\n",
       "  <tbody>\n",
       "    <tr>\n",
       "      <th>0</th>\n",
       "      <td>Switzerland</td>\n",
       "      <td>Western Europe</td>\n",
       "      <td>1</td>\n",
       "      <td>7.587</td>\n",
       "      <td>0.03411</td>\n",
       "      <td>1.39651</td>\n",
       "      <td>1.34951</td>\n",
       "      <td>0.94143</td>\n",
       "      <td>0.66557</td>\n",
       "      <td>0.41978</td>\n",
       "      <td>0.29678</td>\n",
       "      <td>2.51738</td>\n",
       "    </tr>\n",
       "    <tr>\n",
       "      <th>1</th>\n",
       "      <td>Switzerland</td>\n",
       "      <td>Western Europe</td>\n",
       "      <td>1</td>\n",
       "      <td>7.587</td>\n",
       "      <td>0.03411</td>\n",
       "      <td>1.39651</td>\n",
       "      <td>1.34951</td>\n",
       "      <td>0.94143</td>\n",
       "      <td>0.66557</td>\n",
       "      <td>0.41978</td>\n",
       "      <td>0.29678</td>\n",
       "      <td>2.51738</td>\n",
       "    </tr>\n",
       "    <tr>\n",
       "      <th>2</th>\n",
       "      <td>Switzerland</td>\n",
       "      <td>Western Europe</td>\n",
       "      <td>1</td>\n",
       "      <td>237.587</td>\n",
       "      <td>0.03411</td>\n",
       "      <td>1.39651</td>\n",
       "      <td>1.34951</td>\n",
       "      <td>0.94143</td>\n",
       "      <td>0.66557</td>\n",
       "      <td>0.41978</td>\n",
       "      <td>0.29678</td>\n",
       "      <td>2.51738</td>\n",
       "    </tr>\n",
       "    <tr>\n",
       "      <th>3</th>\n",
       "      <td>Iceland</td>\n",
       "      <td>Western Europe</td>\n",
       "      <td>2</td>\n",
       "      <td>7.561</td>\n",
       "      <td>0.04884</td>\n",
       "      <td>1.30232</td>\n",
       "      <td>1.40223</td>\n",
       "      <td>0.94784</td>\n",
       "      <td>0.62877</td>\n",
       "      <td>0.14145</td>\n",
       "      <td>0.43630</td>\n",
       "      <td>2.70201</td>\n",
       "    </tr>\n",
       "    <tr>\n",
       "      <th>4</th>\n",
       "      <td>Denmark</td>\n",
       "      <td>Western Europe</td>\n",
       "      <td>3</td>\n",
       "      <td>7.527</td>\n",
       "      <td>0.03328</td>\n",
       "      <td>1.32548</td>\n",
       "      <td>1.36058</td>\n",
       "      <td>0.87464</td>\n",
       "      <td>0.64938</td>\n",
       "      <td>0.48357</td>\n",
       "      <td>0.34139</td>\n",
       "      <td>2.49204</td>\n",
       "    </tr>\n",
       "  </tbody>\n",
       "</table>\n",
       "</div>"
      ],
      "text/plain": [
       "       Country          Region  Happiness Rank  Happiness Score  \\\n",
       "0  Switzerland  Western Europe               1            7.587   \n",
       "1  Switzerland  Western Europe               1            7.587   \n",
       "2  Switzerland  Western Europe               1          237.587   \n",
       "3      Iceland  Western Europe               2            7.561   \n",
       "4      Denmark  Western Europe               3            7.527   \n",
       "\n",
       "   Standard Error  Economy (GDP per Capita)   Family  \\\n",
       "0         0.03411                   1.39651  1.34951   \n",
       "1         0.03411                   1.39651  1.34951   \n",
       "2         0.03411                   1.39651  1.34951   \n",
       "3         0.04884                   1.30232  1.40223   \n",
       "4         0.03328                   1.32548  1.36058   \n",
       "\n",
       "   Health (Life Expectancy)  Freedom  Trust (Government Corruption)  \\\n",
       "0                   0.94143  0.66557                        0.41978   \n",
       "1                   0.94143  0.66557                        0.41978   \n",
       "2                   0.94143  0.66557                        0.41978   \n",
       "3                   0.94784  0.62877                        0.14145   \n",
       "4                   0.87464  0.64938                        0.48357   \n",
       "\n",
       "   Generosity  Dystopia Residual  \n",
       "0     0.29678            2.51738  \n",
       "1     0.29678            2.51738  \n",
       "2     0.29678            2.51738  \n",
       "3     0.43630            2.70201  \n",
       "4     0.34139            2.49204  "
      ]
     },
     "execution_count": 45,
     "metadata": {},
     "output_type": "execute_result"
    }
   ],
   "source": [
    "#step 3 \n",
    "df.head() \n"
   ]
  },
  {
   "cell_type": "code",
   "execution_count": 28,
   "id": "4f779781",
   "metadata": {},
   "outputs": [
    {
     "data": {
      "text/html": [
       "<div>\n",
       "<style scoped>\n",
       "    .dataframe tbody tr th:only-of-type {\n",
       "        vertical-align: middle;\n",
       "    }\n",
       "\n",
       "    .dataframe tbody tr th {\n",
       "        vertical-align: top;\n",
       "    }\n",
       "\n",
       "    .dataframe thead th {\n",
       "        text-align: right;\n",
       "    }\n",
       "</style>\n",
       "<table border=\"1\" class=\"dataframe\">\n",
       "  <thead>\n",
       "    <tr style=\"text-align: right;\">\n",
       "      <th></th>\n",
       "      <th>Country</th>\n",
       "      <th>Region</th>\n",
       "      <th>Happiness Rank</th>\n",
       "      <th>Happiness Score</th>\n",
       "      <th>Standard Error</th>\n",
       "      <th>Economy (GDP per Capita)</th>\n",
       "      <th>Family</th>\n",
       "      <th>Health (Life Expectancy)</th>\n",
       "      <th>Freedom</th>\n",
       "      <th>Trust (Government Corruption)</th>\n",
       "      <th>Generosity</th>\n",
       "      <th>Dystopia Residual</th>\n",
       "    </tr>\n",
       "  </thead>\n",
       "  <tbody>\n",
       "    <tr>\n",
       "      <th>154</th>\n",
       "      <td>Rwanda</td>\n",
       "      <td>Sub-Saharan Africa</td>\n",
       "      <td>154</td>\n",
       "      <td>3.465</td>\n",
       "      <td>0.03464</td>\n",
       "      <td>0.22208</td>\n",
       "      <td>0.77370</td>\n",
       "      <td>0.42864</td>\n",
       "      <td>0.59201</td>\n",
       "      <td>0.55191</td>\n",
       "      <td>0.22628</td>\n",
       "      <td>0.67042</td>\n",
       "    </tr>\n",
       "    <tr>\n",
       "      <th>155</th>\n",
       "      <td>Benin</td>\n",
       "      <td>Sub-Saharan Africa</td>\n",
       "      <td>155</td>\n",
       "      <td>3.340</td>\n",
       "      <td>0.03656</td>\n",
       "      <td>0.28665</td>\n",
       "      <td>0.35386</td>\n",
       "      <td>0.31910</td>\n",
       "      <td>0.48450</td>\n",
       "      <td>0.08010</td>\n",
       "      <td>0.18260</td>\n",
       "      <td>1.63328</td>\n",
       "    </tr>\n",
       "    <tr>\n",
       "      <th>156</th>\n",
       "      <td>Syria</td>\n",
       "      <td>Middle East and Northern Africa</td>\n",
       "      <td>156</td>\n",
       "      <td>3.006</td>\n",
       "      <td>0.05015</td>\n",
       "      <td>0.66320</td>\n",
       "      <td>0.47489</td>\n",
       "      <td>0.72193</td>\n",
       "      <td>0.15684</td>\n",
       "      <td>0.18906</td>\n",
       "      <td>0.47179</td>\n",
       "      <td>0.32858</td>\n",
       "    </tr>\n",
       "    <tr>\n",
       "      <th>157</th>\n",
       "      <td>Burundi</td>\n",
       "      <td>Sub-Saharan Africa</td>\n",
       "      <td>157</td>\n",
       "      <td>2.905</td>\n",
       "      <td>0.08658</td>\n",
       "      <td>0.01530</td>\n",
       "      <td>0.41587</td>\n",
       "      <td>0.22396</td>\n",
       "      <td>0.11850</td>\n",
       "      <td>0.10062</td>\n",
       "      <td>0.19727</td>\n",
       "      <td>1.83302</td>\n",
       "    </tr>\n",
       "    <tr>\n",
       "      <th>158</th>\n",
       "      <td>Togo</td>\n",
       "      <td>Sub-Saharan Africa</td>\n",
       "      <td>158</td>\n",
       "      <td>2.839</td>\n",
       "      <td>0.06727</td>\n",
       "      <td>0.20868</td>\n",
       "      <td>0.13995</td>\n",
       "      <td>0.28443</td>\n",
       "      <td>0.36453</td>\n",
       "      <td>0.10731</td>\n",
       "      <td>0.16681</td>\n",
       "      <td>1.56726</td>\n",
       "    </tr>\n",
       "  </tbody>\n",
       "</table>\n",
       "</div>"
      ],
      "text/plain": [
       "     Country                           Region  Happiness Rank  \\\n",
       "154   Rwanda               Sub-Saharan Africa             154   \n",
       "155    Benin               Sub-Saharan Africa             155   \n",
       "156    Syria  Middle East and Northern Africa             156   \n",
       "157  Burundi               Sub-Saharan Africa             157   \n",
       "158     Togo               Sub-Saharan Africa             158   \n",
       "\n",
       "     Happiness Score  Standard Error  Economy (GDP per Capita)   Family  \\\n",
       "154            3.465         0.03464                   0.22208  0.77370   \n",
       "155            3.340         0.03656                   0.28665  0.35386   \n",
       "156            3.006         0.05015                   0.66320  0.47489   \n",
       "157            2.905         0.08658                   0.01530  0.41587   \n",
       "158            2.839         0.06727                   0.20868  0.13995   \n",
       "\n",
       "     Health (Life Expectancy)  Freedom  Trust (Government Corruption)  \\\n",
       "154                   0.42864  0.59201                        0.55191   \n",
       "155                   0.31910  0.48450                        0.08010   \n",
       "156                   0.72193  0.15684                        0.18906   \n",
       "157                   0.22396  0.11850                        0.10062   \n",
       "158                   0.28443  0.36453                        0.10731   \n",
       "\n",
       "     Generosity  Dystopia Residual  \n",
       "154     0.22628            0.67042  \n",
       "155     0.18260            1.63328  \n",
       "156     0.47179            0.32858  \n",
       "157     0.19727            1.83302  \n",
       "158     0.16681            1.56726  "
      ]
     },
     "execution_count": 28,
     "metadata": {},
     "output_type": "execute_result"
    }
   ],
   "source": [
    "df.tail()"
   ]
  },
  {
   "cell_type": "code",
   "execution_count": 29,
   "id": "cb7dbb03",
   "metadata": {},
   "outputs": [
    {
     "data": {
      "text/plain": [
       "(159, 12)"
      ]
     },
     "execution_count": 29,
     "metadata": {},
     "output_type": "execute_result"
    }
   ],
   "source": [
    "# Step 4: Dimension of the data \n",
    "\n",
    "df.shape"
   ]
  },
  {
   "cell_type": "code",
   "execution_count": 30,
   "id": "040df90e",
   "metadata": {},
   "outputs": [
    {
     "name": "stdout",
     "output_type": "stream",
     "text": [
      "<class 'pandas.core.frame.DataFrame'>\n",
      "RangeIndex: 159 entries, 0 to 158\n",
      "Data columns (total 12 columns):\n",
      " #   Column                         Non-Null Count  Dtype  \n",
      "---  ------                         --------------  -----  \n",
      " 0   Country                        159 non-null    object \n",
      " 1   Region                         159 non-null    object \n",
      " 2   Happiness Rank                 159 non-null    int64  \n",
      " 3   Happiness Score                159 non-null    float64\n",
      " 4   Standard Error                 159 non-null    float64\n",
      " 5   Economy (GDP per Capita)       159 non-null    float64\n",
      " 6   Family                         159 non-null    float64\n",
      " 7   Health (Life Expectancy)       159 non-null    float64\n",
      " 8   Freedom                        159 non-null    float64\n",
      " 9   Trust (Government Corruption)  159 non-null    float64\n",
      " 10  Generosity                     159 non-null    float64\n",
      " 11  Dystopia Residual              159 non-null    float64\n",
      "dtypes: float64(9), int64(1), object(2)\n",
      "memory usage: 15.0+ KB\n"
     ]
    }
   ],
   "source": [
    "# step 5 - \n",
    "# 1. Characteristics of the data \n",
    "# 2. no. of null-values are their \n",
    "# 3. data type \n",
    "# 4. memory of usages  \n",
    "\n",
    "df.info()"
   ]
  },
  {
   "cell_type": "code",
   "execution_count": 31,
   "id": "a9733299",
   "metadata": {},
   "outputs": [
    {
     "data": {
      "text/html": [
       "<div>\n",
       "<style scoped>\n",
       "    .dataframe tbody tr th:only-of-type {\n",
       "        vertical-align: middle;\n",
       "    }\n",
       "\n",
       "    .dataframe tbody tr th {\n",
       "        vertical-align: top;\n",
       "    }\n",
       "\n",
       "    .dataframe thead th {\n",
       "        text-align: right;\n",
       "    }\n",
       "</style>\n",
       "<table border=\"1\" class=\"dataframe\">\n",
       "  <thead>\n",
       "    <tr style=\"text-align: right;\">\n",
       "      <th></th>\n",
       "      <th>Happiness Rank</th>\n",
       "      <th>Happiness Score</th>\n",
       "      <th>Standard Error</th>\n",
       "      <th>Economy (GDP per Capita)</th>\n",
       "      <th>Family</th>\n",
       "      <th>Health (Life Expectancy)</th>\n",
       "      <th>Freedom</th>\n",
       "      <th>Trust (Government Corruption)</th>\n",
       "      <th>Generosity</th>\n",
       "      <th>Dystopia Residual</th>\n",
       "    </tr>\n",
       "  </thead>\n",
       "  <tbody>\n",
       "    <tr>\n",
       "      <th>count</th>\n",
       "      <td>159.000000</td>\n",
       "      <td>159.000000</td>\n",
       "      <td>159.000000</td>\n",
       "      <td>159.000000</td>\n",
       "      <td>159.000000</td>\n",
       "      <td>159.000000</td>\n",
       "      <td>159.000000</td>\n",
       "      <td>159.000000</td>\n",
       "      <td>159.000000</td>\n",
       "      <td>159.000000</td>\n",
       "    </tr>\n",
       "    <tr>\n",
       "      <th>mean</th>\n",
       "      <td>79.000000</td>\n",
       "      <td>6.836182</td>\n",
       "      <td>0.047798</td>\n",
       "      <td>0.849599</td>\n",
       "      <td>0.993300</td>\n",
       "      <td>0.632216</td>\n",
       "      <td>0.430105</td>\n",
       "      <td>0.145160</td>\n",
       "      <td>0.237670</td>\n",
       "      <td>2.101608</td>\n",
       "    </tr>\n",
       "    <tr>\n",
       "      <th>std</th>\n",
       "      <td>46.032185</td>\n",
       "      <td>18.450888</td>\n",
       "      <td>0.017127</td>\n",
       "      <td>0.404207</td>\n",
       "      <td>0.272990</td>\n",
       "      <td>0.247528</td>\n",
       "      <td>0.151386</td>\n",
       "      <td>0.121644</td>\n",
       "      <td>0.126371</td>\n",
       "      <td>0.552792</td>\n",
       "    </tr>\n",
       "    <tr>\n",
       "      <th>min</th>\n",
       "      <td>1.000000</td>\n",
       "      <td>2.839000</td>\n",
       "      <td>0.018480</td>\n",
       "      <td>0.000000</td>\n",
       "      <td>0.000000</td>\n",
       "      <td>0.000000</td>\n",
       "      <td>0.000000</td>\n",
       "      <td>0.000000</td>\n",
       "      <td>0.000000</td>\n",
       "      <td>0.328580</td>\n",
       "    </tr>\n",
       "    <tr>\n",
       "      <th>25%</th>\n",
       "      <td>39.500000</td>\n",
       "      <td>4.534000</td>\n",
       "      <td>0.037030</td>\n",
       "      <td>0.546035</td>\n",
       "      <td>0.858015</td>\n",
       "      <td>0.439640</td>\n",
       "      <td>0.328480</td>\n",
       "      <td>0.061890</td>\n",
       "      <td>0.151285</td>\n",
       "      <td>1.760090</td>\n",
       "    </tr>\n",
       "    <tr>\n",
       "      <th>50%</th>\n",
       "      <td>79.000000</td>\n",
       "      <td>5.253000</td>\n",
       "      <td>0.043940</td>\n",
       "      <td>0.918510</td>\n",
       "      <td>1.032760</td>\n",
       "      <td>0.697020</td>\n",
       "      <td>0.436260</td>\n",
       "      <td>0.107310</td>\n",
       "      <td>0.216840</td>\n",
       "      <td>2.100170</td>\n",
       "    </tr>\n",
       "    <tr>\n",
       "      <th>75%</th>\n",
       "      <td>118.500000</td>\n",
       "      <td>6.282000</td>\n",
       "      <td>0.052280</td>\n",
       "      <td>1.164410</td>\n",
       "      <td>1.217935</td>\n",
       "      <td>0.812425</td>\n",
       "      <td>0.552430</td>\n",
       "      <td>0.180750</td>\n",
       "      <td>0.308715</td>\n",
       "      <td>2.465505</td>\n",
       "    </tr>\n",
       "    <tr>\n",
       "      <th>max</th>\n",
       "      <td>158.000000</td>\n",
       "      <td>237.587000</td>\n",
       "      <td>0.136930</td>\n",
       "      <td>1.690420</td>\n",
       "      <td>1.402230</td>\n",
       "      <td>1.025250</td>\n",
       "      <td>0.669730</td>\n",
       "      <td>0.551910</td>\n",
       "      <td>0.795880</td>\n",
       "      <td>3.602140</td>\n",
       "    </tr>\n",
       "  </tbody>\n",
       "</table>\n",
       "</div>"
      ],
      "text/plain": [
       "       Happiness Rank  Happiness Score  Standard Error  \\\n",
       "count      159.000000       159.000000      159.000000   \n",
       "mean        79.000000         6.836182        0.047798   \n",
       "std         46.032185        18.450888        0.017127   \n",
       "min          1.000000         2.839000        0.018480   \n",
       "25%         39.500000         4.534000        0.037030   \n",
       "50%         79.000000         5.253000        0.043940   \n",
       "75%        118.500000         6.282000        0.052280   \n",
       "max        158.000000       237.587000        0.136930   \n",
       "\n",
       "       Economy (GDP per Capita)      Family  Health (Life Expectancy)  \\\n",
       "count                159.000000  159.000000                159.000000   \n",
       "mean                   0.849599    0.993300                  0.632216   \n",
       "std                    0.404207    0.272990                  0.247528   \n",
       "min                    0.000000    0.000000                  0.000000   \n",
       "25%                    0.546035    0.858015                  0.439640   \n",
       "50%                    0.918510    1.032760                  0.697020   \n",
       "75%                    1.164410    1.217935                  0.812425   \n",
       "max                    1.690420    1.402230                  1.025250   \n",
       "\n",
       "          Freedom  Trust (Government Corruption)  Generosity  \\\n",
       "count  159.000000                     159.000000  159.000000   \n",
       "mean     0.430105                       0.145160    0.237670   \n",
       "std      0.151386                       0.121644    0.126371   \n",
       "min      0.000000                       0.000000    0.000000   \n",
       "25%      0.328480                       0.061890    0.151285   \n",
       "50%      0.436260                       0.107310    0.216840   \n",
       "75%      0.552430                       0.180750    0.308715   \n",
       "max      0.669730                       0.551910    0.795880   \n",
       "\n",
       "       Dystopia Residual  \n",
       "count         159.000000  \n",
       "mean            2.101608  \n",
       "std             0.552792  \n",
       "min             0.328580  \n",
       "25%             1.760090  \n",
       "50%             2.100170  \n",
       "75%             2.465505  \n",
       "max             3.602140  "
      ]
     },
     "execution_count": 31,
     "metadata": {},
     "output_type": "execute_result"
    }
   ],
   "source": [
    "#step 6 show the statistical report \n",
    "\n",
    "df.describe()"
   ]
  },
  {
   "cell_type": "code",
   "execution_count": 33,
   "id": "06500361",
   "metadata": {},
   "outputs": [
    {
     "data": {
      "text/plain": [
       "Country                          0\n",
       "Region                           0\n",
       "Happiness Rank                   0\n",
       "Happiness Score                  0\n",
       "Standard Error                   0\n",
       "Economy (GDP per Capita)         0\n",
       "Family                           0\n",
       "Health (Life Expectancy)         0\n",
       "Freedom                          0\n",
       "Trust (Government Corruption)    0\n",
       "Generosity                       0\n",
       "Dystopia Residual                0\n",
       "dtype: int64"
      ]
     },
     "execution_count": 33,
     "metadata": {},
     "output_type": "execute_result"
    }
   ],
   "source": [
    "# step 7 : handling missing values \n",
    "\n",
    "df.isnull().sum()"
   ]
  },
  {
   "cell_type": "code",
   "execution_count": 37,
   "id": "f7dd5bd9",
   "metadata": {},
   "outputs": [
    {
     "data": {
      "text/plain": [
       "Country                          0\n",
       "Region                           0\n",
       "Happiness Rank                   1\n",
       "Happiness Score                  0\n",
       "Standard Error                   0\n",
       "Economy (GDP per Capita)         0\n",
       "Family                           0\n",
       "Health (Life Expectancy)         0\n",
       "Freedom                          0\n",
       "Trust (Government Corruption)    0\n",
       "Generosity                       0\n",
       "Dystopia Residual                0\n",
       "dtype: int64"
      ]
     },
     "execution_count": 37,
     "metadata": {},
     "output_type": "execute_result"
    }
   ],
   "source": [
    "df.isnull().sum()"
   ]
  },
  {
   "cell_type": "markdown",
   "id": "56bbc1f3",
   "metadata": {},
   "source": [
    "#### Drop the missing values\n",
    "If the dataset is huge and missing values are very few then we can directly drop the values because it will not have much impact. \n",
    "\n",
    "\n",
    "#### Replace with mean values \n",
    "We can replace the missing values with mean values, but this is not advisable in case if the data has outliers.  \n",
    "\n",
    "#### Replace with median values \n",
    "\n",
    "We can replace the missing values with median values, and it is recommended in case if the data has outliers. \n",
    "\n",
    "\n",
    "### categorical data \n",
    "\n",
    "#### Replace with mode values \n",
    "We can do this in the case of a Categorical feature.   \n",
    "\n",
    "#### Regression \n",
    "\n",
    "It can be used to predict the null value using other details from the dataset."
   ]
  },
  {
   "cell_type": "code",
   "execution_count": 39,
   "id": "72a5eda2",
   "metadata": {},
   "outputs": [],
   "source": [
    "median_hpScore = df['Happiness Score'].median()"
   ]
  },
  {
   "cell_type": "code",
   "execution_count": 40,
   "id": "a301b4bf",
   "metadata": {},
   "outputs": [
    {
     "data": {
      "text/plain": [
       "5.253"
      ]
     },
     "execution_count": 40,
     "metadata": {},
     "output_type": "execute_result"
    }
   ],
   "source": [
    "median_hpScore"
   ]
  },
  {
   "cell_type": "code",
   "execution_count": null,
   "id": "0ce7d066",
   "metadata": {},
   "outputs": [],
   "source": [
    "## step 8 duplicate values "
   ]
  },
  {
   "cell_type": "code",
   "execution_count": 46,
   "id": "304694b8",
   "metadata": {},
   "outputs": [
    {
     "name": "stdout",
     "output_type": "stream",
     "text": [
      "1\n"
     ]
    }
   ],
   "source": [
    "duplicateValue = df.duplicated()\n",
    "print(duplicateValue.sum())"
   ]
  },
  {
   "cell_type": "code",
   "execution_count": 48,
   "id": "7ac7fb15",
   "metadata": {},
   "outputs": [],
   "source": [
    "# step 9 - outliers  \n",
    "\n",
    "1,2,3,4,5,70  = 85/7 = 12.5   \n",
    "\n",
    "outlier 70 \n",
    "\n",
    "1,2,3,4,5 = 15 /7 = 2.5 \n"
   ]
  },
  {
   "cell_type": "code",
   "execution_count": 49,
   "id": "8ebcf6f0",
   "metadata": {},
   "outputs": [
    {
     "data": {
      "image/png": "[encoded data removed]",
      "text/plain": [
       "<Figure size 864x432 with 1 Axes>"
      ]
     },
     "metadata": {},
     "output_type": "display_data"
    }
   ],
   "source": [
    "df.boxplot(column=['Happiness Score']) \n",
    "plt.show()"
   ]
  },
  {
   "cell_type": "code",
   "execution_count": 51,
   "id": "beff7131",
   "metadata": {},
   "outputs": [],
   "source": [
    "def removeOutlier(col): \n",
    "    sorted(col)\n",
    "    quant1, quant2 = col.quantile([0.25,0.75]) \n",
    "    IQR = quant2 -  quant1\n",
    "    \n",
    "    lowerRange = quant1 - (1.5 * IQR)\n",
    "    upperRange = quant2 + (1.5 * IQR)\n",
    "    return lowerRange, upperRange"
   ]
  },
  {
   "cell_type": "code",
   "execution_count": 52,
   "id": "eaf78c66",
   "metadata": {},
   "outputs": [],
   "source": [
    "lowScore, highScore = removeOutlier(df['Happiness Score'])\n",
    "df['Happiness Score']= np.where(df['Happiness Score'] > highScore, highScore, df['Happiness Score'])\n",
    "df['Happiness Score']= np.where(df['Happiness Score'] > lowScore, lowScore, df['Happiness Score'])"
   ]
  },
  {
   "cell_type": "code",
   "execution_count": 53,
   "id": "af14f0ed",
   "metadata": {},
   "outputs": [
    {
     "data": {
      "image/png": "[encoded data removed]",
      "text/plain": [
       "<Figure size 864x432 with 1 Axes>"
      ]
     },
     "metadata": {},
     "output_type": "display_data"
    }
   ],
   "source": [
    "df.boxplot(column=['Happiness Score']) \n",
    "plt.show()"
   ]
  }
 ],
 "metadata": {
  "kernelspec": {
   "display_name": "Python 3 (ipykernel)",
   "language": "python",
   "name": "python3"
  },
  "language_info": {
   "codemirror_mode": {
    "name": "ipython",
    "version": 3
   },
   "file_extension": ".py",
   "mimetype": "text/x-python",
   "name": "python",
   "nbconvert_exporter": "python",
   "pygments_lexer": "ipython3",
   "version": "3.8.8"
  }
 },
 "nbformat": 4,
 "nbformat_minor": 5
}
