{
 "cells": [
  {
   "cell_type": "markdown",
   "metadata": {},
   "source": [
    "# 1. Artificial Neural Networks"
   ]
  },
  {
   "cell_type": "markdown",
   "metadata": {},
   "source": [
    "## 1.1 Introduction"
   ]
  },
  {
   "cell_type": "markdown",
   "metadata": {},
   "source": [
    "In this notebook, we will exam computational abstractions of neural networks. These can help us understand the essence of what neurons compute, but can also be used to compute functions for which we don't know how otherwise."
   ]
  },
  {
   "cell_type": "code",
   "execution_count": 125,
   "metadata": {
    "collapsed": true
   },
   "outputs": [],
   "source": [
    "import matplotlib.pyplot as plt\n",
    "from IPython.display import Audio\n",
    "import numpy as np\n",
    "import math\n",
    "\n",
    "%matplotlib inline"
   ]
  },
  {
   "cell_type": "markdown",
   "metadata": {},
   "source": [
    "### 1.1.1 The Neuron"
   ]
  },
  {
   "cell_type": "markdown",
   "metadata": {},
   "source": [
    "The human nervous system is composed of more than 100 billion cells known as neurons. A neuron is a cell in the nervous system whose function it is to receive and transmit information. Neurons are made up of three major parts:\n",
    "\n",
    "* the cell body, or **soma**, which contains the nucleus of the cell and keeps the cell alive\n",
    "* a branching treelike fiber known as the **dendrite**, which collects information from other cells and sends the information to the soma\n",
    "* a long, segmented fiber known as the **axon**, which transmits information away from the cell body toward other neurons or to the muscles and glands\n",
    "\n",
    "<img src=\"https://c4.staticflickr.com/3/2656/4253587827_9723c3ffd3_z.jpg\" />\n",
    "\n",
    "*Photo courtesy of GE Healthcare, http://www.flickr.com/photos/gehealthcare/4253587827/ *\n",
    "\n",
    "<img src=\"https://askabiologist.asu.edu/sites/default/files/resources/articles/neuron_anatomy.jpg\"/>\n",
    "\n",
    "Some neurons have hundreds or even thousands of dendrites, and these dendrites may themselves be branched to allow the cell to receive information from thousands of other cells. \n",
    "\n",
    "The axons are also specialized; some, such as those that send messages from the spinal cord to the muscles in the hands or feet, may be very long---even up to several feet in length. To improve the speed of their communication, and to keep their electrical charges from shorting out with other neurons, axons are often surrounded by a **myelin sheath**. The myelin sheath is a layer of fatty tissue surrounding the axon of a neuron that both acts as an insulator and allows faster transmission of the electrical signal. Axons branch out toward their ends, and at the tip of each branch is a *terminal button*.\n",
    "\n",
    "The actual working of neurons involves many aspects (including chemical, electrical, physical, timings). We will abstract all of this away into three numbers:\n",
    "\n",
    "* **activation** - a value representing the excitement of a neuron\n",
    "* **default bias** - a value representing a default or bias (sometimes called a threshold)\n",
    "* **weight** - a value representing a connection to another neuron\n",
    "\n",
    "In addition, there is a **transfer function** that takes all of the incoming activations times their associated weights plus the bias, and squashes the resulting sum. This limits the activations from growing too big or too small.\n",
    "\n",
    "Time is handled in discrete steps. Real cells, of course, fire in non-discrete intervals. Consider the trigeminal ganglion cell: this is about 2 seconds of activity that was recorded from a rat ganglion cell after a single whisker (vibrissa) was moved and held in position. Listen for the rapid steady burst of action potentials. This neuron was firing about 100 action potentials every second. The picture below is the actual recording of a portion of what you are hearing...each action potential in this record is separated by about 10 milliseconds. There are 21 action potentials displayed in this picture of the recording.\n",
    "\n",
    "<img src=\"https://faculty.washington.edu/chudler/gif/spikes2.gif\" />"
   ]
  },
  {
   "cell_type": "code",
   "execution_count": 113,
   "metadata": {
    "collapsed": false,
    "format": "tab"
   },
   "outputs": [
    {
     "data": {
      "text/html": [
       "\n",
       "                <audio controls=\"controls\" >\n",
       "                    <source src=\"data:audio/x-wav;base64,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\" type=\"audio/x-wav\" />\n",
       "                    Your browser does not support the audio element.\n",
       "                </audio>\n",
       "              "
      ],
      "text/plain": [
       "<IPython.lib.display.Audio object>"
      ]
     },
     "execution_count": 113,
     "metadata": {},
     "output_type": "execute_result"
    }
   ],
   "source": [
    "Audio(\"https://faculty.washington.edu/chudler/wav/sndhair.wav\")"
   ]
  },
  {
   "cell_type": "markdown",
   "metadata": {},
   "source": [
    "To examine neurons could compute something useful, we will consider a network of neurons."
   ]
  },
  {
   "cell_type": "markdown",
   "metadata": {},
   "source": [
    "## 1.2 Network of Neurons"
   ]
  },
  {
   "cell_type": "markdown",
   "metadata": {},
   "source": [
    "To build a network of neurons, we first start by grouping neurons together in **layers**.\n",
    "\n",
    "A typical Artificial Neural Network (ANN) is composed of three layers: **input**, **hidden**, and **output**. Each layer contains a collection of neurons, or simply **nodes** for short. Typically, the nodes in a layer are **fully connected** to the nodes in the next layer. For instance, every input node will have a weighted connection to every hidden node. Similarly, every hidden node will have a *weighted connection* to every output node.\n",
    "\n",
    "Processing in a network works as follows. Input is propagated forward from the input layer through the hidden layer and finally through the output layer to produce a response. Each node, regardless of the layer it is in, uses the same transfer function in order to propagate its information forward to the next layer. This is described next."
   ]
  },
  {
   "cell_type": "markdown",
   "metadata": {},
   "source": [
    "## 1.3 Transfer function of a node"
   ]
  },
  {
   "cell_type": "markdown",
   "metadata": {},
   "source": [
    "Each node maintains an activation value that depends on the activation values of its incoming neighbors, the weights from its incoming neighbors, and an additional value, called the **default bias value**. To compute this activation value, we first calculate the node's net input.\n",
    "\n",
    "The net input is a weighted sum of all the incoming activations plus the node's bias value:\n",
    "\n",
    "$$ net_i = \\sum\\limits_{j=1}^n w_{ij} x_j + b_i $$\n",
    "\n",
    "where $w_{ij}$ is the weight, or connection strength, from the $j^{th}$ node to the $i^{th}$ node, $x_j$ is the activation signal of the $j^{th}$ input node, and $b_i$ is the bias value of the $i^{th}$ node. \n",
    "\n",
    "Here is some corresponding Python code to compute this function for each node:"
   ]
  },
  {
   "cell_type": "markdown",
   "metadata": {},
   "source": [
    "First, we define the indexes for the result nodes (`toNodes`) and the incoming nodes (`fromNodes`):"
   ]
  },
  {
   "cell_type": "code",
   "execution_count": null,
   "metadata": {
    "collapsed": true
   },
   "outputs": [],
   "source": [
    "toNodes = range(3, 5)\n",
    "fromNodes = range(0, 2)"
   ]
  },
  {
   "cell_type": "markdown",
   "metadata": {},
   "source": [
    "That allows us to store the weights between the nodes in a matrix, and other related values in lists:"
   ]
  },
  {
   "cell_type": "code",
   "execution_count": null,
   "metadata": {
    "collapsed": true
   },
   "outputs": [],
   "source": [
    "bias       = [0.2, -0.1, 0.5, 0.1, 0.4, 0.9]\n",
    "activation = [0.8, -0.3, -0.8, 0.1, 0.5]\n",
    "netInput   = [0, 0, 0, 0, 0]\n",
    "weight = [[ 0.1, -0.8], \n",
    "          [-0.3,  0.1], \n",
    "          [ 0.2, -0.1], \n",
    "          [ 0.0,  0.1], \n",
    "          [ 0.8, -0.8], \n",
    "          [ 0.4, 0.5]]"
   ]
  },
  {
   "cell_type": "markdown",
   "metadata": {},
   "source": [
    "We can then compute the `netInput[i]` as per the above equation:"
   ]
  },
  {
   "cell_type": "code",
   "execution_count": 20,
   "metadata": {
    "collapsed": false
   },
   "outputs": [
    {
     "data": {
      "text/plain": [
       "[0, 0, 0, 0.07, 1.28]"
      ]
     },
     "execution_count": 20,
     "metadata": {},
     "output_type": "execute_result"
    }
   ],
   "source": [
    "for i in toNodes:\n",
    "    netInput[i] = bias[i]\n",
    "    for j in fromNodes:\n",
    "        netInput[i] += (weight[i][j] * activation[j]) \n",
    "netInput"
   ]
  },
  {
   "cell_type": "markdown",
   "metadata": {},
   "source": [
    "where `weight[i][j]` is the weight $w_{ij}$, or connection strength, from the $j^{th}$ node to the $i^{th}$ node, `activation[j]` is the activation signal $x_j$ of the $j^{th}$ input node, and `bias[i]` is the bias value $b_i$ of the $i^{th}$ node. "
   ]
  },
  {
   "cell_type": "markdown",
   "metadata": {},
   "source": [
    "After computing the net input, each node has to compute its output activation. The value that results from applying the activation function to the net input is the signal that will be sent as output to all the nodes in the next layer. The **activation function** used in backprop networks is generally:\n",
    "\n",
    "$$ a_i = \\sigma(net_i) $$\n",
    "\n",
    "where \n",
    "\n",
    "$$ \\sigma(x) = \\dfrac{1}{1 + e^{-x}} $$"
   ]
  },
  {
   "cell_type": "markdown",
   "metadata": {},
   "source": [
    "The method math.exp() returns returns exponential of x: $e^{x}$."
   ]
  },
  {
   "cell_type": "code",
   "execution_count": 22,
   "metadata": {
    "collapsed": true
   },
   "outputs": [],
   "source": [
    "def activationFunction(netInput):\n",
    "    return 1.0 / (1.0 + math.exp(-netInput))"
   ]
  },
  {
   "cell_type": "markdown",
   "metadata": {},
   "source": [
    "Now we can compute the complete activation of a unit:"
   ]
  },
  {
   "cell_type": "code",
   "execution_count": 23,
   "metadata": {
    "collapsed": false
   },
   "outputs": [
    {
     "data": {
      "text/plain": [
       "[0.8, -0.3, -0.8, 0.5174928576663897, 0.7824497764231124]"
      ]
     },
     "execution_count": 23,
     "metadata": {},
     "output_type": "execute_result"
    }
   ],
   "source": [
    "for i in toNodes:\n",
    "    activation[i] = activationFunction(netInput[i])\n",
    "activation"
   ]
  },
  {
   "cell_type": "markdown",
   "metadata": {},
   "source": [
    "This $\\sigma$ is the activation function, as shown in the plot below. Notice that the function is monotonically increasing and bounded by 0.0 and 1.0 as the net input approaches negative infinity and positive infinity, respectively."
   ]
  },
  {
   "cell_type": "code",
   "execution_count": 30,
   "metadata": {
    "collapsed": false
   },
   "outputs": [],
   "source": [
    "xs = range(-10, 10)\n",
    "pts = [activationFunction(x) for x in xs]"
   ]
  },
  {
   "cell_type": "code",
   "execution_count": 110,
   "metadata": {
    "collapsed": false
   },
   "outputs": [
    {
     "data": {
      "image/png": "[encoded data removed]",
      "text/plain": [
       "<matplotlib.figure.Figure at 0x7f6dcd5be898>"
      ]
     },
     "metadata": {},
     "output_type": "display_data"
    }
   ],
   "source": [
    "plt.plot(xs, pts)\n",
    "plt.xlabel(\"input\")\n",
    "plt.ylabel(\"output\")\n",
    "plt.show()"
   ]
  },
  {
   "cell_type": "markdown",
   "metadata": {},
   "source": [
    "## 1.4 How to set the weights?"
   ]
  },
  {
   "cell_type": "markdown",
   "metadata": {},
   "source": [
    "For many years, it was unknown how to learn the weights in a multi-layered neural network. In addition, Marvin Minsky and Seymour Papert proved in their 1969 book [Perceptrons](https://en.wikipedia.org/wiki/Perceptrons_(book)) that you could not do simple functions without having multi-layers. (Actually, the idea of using simulated evolution to search for the weights could have been used, but no one thought to do that.) \n",
    "\n",
    "Specifically, they looked at the function XOR:\n",
    "\n",
    "**Input 1** | **Input 2** | **Target**\n",
    "------------|-------------|-------\n",
    " 0 | 0 | 0\n",
    " 0 | 1 | 1 \n",
    " 1 | 0 | 1 \n",
    " 1 | 1 | 0 \n",
    "\n",
    "This killed research into neural networks for more than a decade. So, the idea of neural networks generally was ignored until the mid 1980s when the **Back-Propagation of Error** (backprop) was created."
   ]
  },
  {
   "cell_type": "markdown",
   "metadata": {},
   "source": [
    "## 1.5 Learning Rule"
   ]
  },
  {
   "cell_type": "markdown",
   "metadata": {},
   "source": [
    "Backprop networks fall under the category of *supervised learning* schemes. That is, during training, the network is presented a training input, the inputs are propagated using the transfer function, until output appears in the output layer. The output is then compared with the expected or target output and an error is computed. The error is then backpropagated by applying the learning rule. \n",
    "\n",
    "A learning rule modifies the weights between nodes. The backpropagation algorithm, also called the *generalized delta rule*, systematically changes the weights by using a weight change equation. We use an optional momentum term in the weight change rule to help speed up convergence. The weight change rule is different for weights between the hidden-output layer nodes and the input-hidden layer nodes. For the hidden-output layer nodes it is:"
   ]
  },
  {
   "cell_type": "code",
   "execution_count": 55,
   "metadata": {
    "collapsed": true
   },
   "outputs": [],
   "source": [
    "desiredOutput = [0.1, 0.2, 0.3, 0.4, 0.5]\n",
    "actualOutput = [0.8, 0.6, 0.5, 0.8, 0.3]\n",
    "\n",
    "error = [0.0 for i in desiredOutput]\n",
    "delta = [0.0 for i in desiredOutput]\n",
    "\n",
    "EPSILON = 0.1   # learning rate\n",
    "MOMENTUM = 0.01 # a smoothing term\n",
    "\n",
    "weightUpdate = [[ 0.0, 0.0], \n",
    "                [ 0.0, 0.0], \n",
    "                [ 0.0, 0.0], \n",
    "                [ 0.0, 0.0], \n",
    "                [ 0.0, 0.0], \n",
    "                [ 0.0, 0.0]]"
   ]
  },
  {
   "cell_type": "markdown",
   "metadata": {},
   "source": [
    "And the learning rule applied:"
   ]
  },
  {
   "cell_type": "code",
   "execution_count": 56,
   "metadata": {
    "collapsed": false
   },
   "outputs": [
    {
     "data": {
      "text/plain": [
       "[[0.0, 0.0],\n",
       " [0.0, 0.0],\n",
       " [0.0, 0.0],\n",
       " [-0.00512, -0.00384],\n",
       " [0.00336, 0.0025199999999999997],\n",
       " [0.0, 0.0]]"
      ]
     },
     "execution_count": 56,
     "metadata": {},
     "output_type": "execute_result"
    }
   ],
   "source": [
    "for i in toNodes:\n",
    "    error[i] = (desiredOutput[i] - actualOutput[i])\n",
    "    delta[i] = error[i] * actualOutput[i] * (1 - actualOutput[i])\n",
    "    for j in fromNodes:\n",
    "        weightUpdate[i][j] = (EPSILON * delta[i] * actualOutput[j]) + (MOMENTUM * weightUpdate[i][j])\n",
    "        \n",
    "weightUpdate"
   ]
  },
  {
   "cell_type": "markdown",
   "metadata": {},
   "source": [
    "That is, at the $i^{th}$ output node, the error is the difference between desired and actual outputs. The weight change between a hidden layer node $j$ and output node $i$ --- `weightUpdate[i][j]` --- is a fraction of the computed delta value and additionally a fraction of the weight change from the previous training step. MOMENTUM is a constant that ranges between 0.0 and 1.0 and **EPSILON** is called the **learning rate** and is also a constant that varies between 0.0 and 1.0.\n",
    "\n",
    "In the above code `delta[i] * actualOutput[j]` is the partial derivative of the overall error with respect to each weight. This is the slope of error. Thus, backprop changes the weight a tiny portion of the slope of the error. We only know the slope of this curve, not the shape, and thus have to take very small steps.\n",
    "\n",
    "And that is all of the math, and Python, necessary to train a back-propagation of error neural network. Even though this is a very simple formulation, it has been proved that such three-layer network (input, hidden, output) is capable of computing any function that can be computed (Franklin and Garzon).\n",
    "\n",
    "\n",
    "To make coding these networks easier (and faster, using matrix multiplication) we have created a Python library called `conx`."
   ]
  },
  {
   "cell_type": "markdown",
   "metadata": {},
   "source": [
    "## 1.6 Training a Neural Network"
   ]
  },
  {
   "cell_type": "markdown",
   "metadata": {},
   "source": [
    "Given a task, how does one train a neural network to do/solve the task? This involves the following steps:\n",
    "\n",
    " 1. Determine an appropriate network architecture.\n",
    " 1. Define a data set that will be used for training.\n",
    " 1. Define the neural network parameters to be used for training.\n",
    " 1. Train the network.\n",
    " 1. Test the trained network.\n",
    " 1. Do post training analysis."
   ]
  },
  {
   "cell_type": "markdown",
   "metadata": {},
   "source": [
    "### 1.6.1 Determining an appropriate architecture"
   ]
  },
  {
   "cell_type": "markdown",
   "metadata": {},
   "source": [
    "Recall that a neural network consists of an input layer, an output layer, and zero or more hidden layers. Once a network has been trained, when you present an input to the network, the network will propagate the inputs through its layers to produce an output (using the transfer function described above). If the input represents an instance of the task, the output should be the solution to that instance after the network has been trained. Thus, one can view a neural network as a general pattern associator. Thus, given a task, the first step is to identify the nature of inputs to the pattern associator. This is normally in the form of number of nodes required to represent the input. Similarly, you will need to determine how many output nodes will be required. For example, consider a simple logical connective, AND whose input-output characteristics are summarized in the table below:\n",
    "\n",
    "**Input A** | **Input B** | **Target**\n",
    "------------|-------------|-------\n",
    " 0 | 0 | 0\n",
    " 0 | 1 | 0 \n",
    " 1 | 0 | 0 \n",
    " 1 | 1 | 1 \n",
    "\n",
    "This is a very simple example, but it will help us illustrate all of the important concepts in defining and training neural networks.\n",
    "\n",
    "In this example, it is clear that we will need two nodes in the input layer, and one in the output layer. We can start by assuming that we will not need a hidden layer. In general, as far as the design of a neural network is concerned, you always begin by identifying the size of the input and output layers. Then, you decide how many hidden layers you would use. In most situations you will need one hidden layer, though there are no hard and fast rules about its size. Through much empirical practice, you will develop your own heuristics about this. We will return to this issue later. In the case of the AND network, it is simple enough that we have decided not to use any hidden layers."
   ]
  },
  {
   "cell_type": "markdown",
   "metadata": {},
   "source": [
    "### 1.6.2 Define a data set that will be used for training"
   ]
  },
  {
   "cell_type": "markdown",
   "metadata": {},
   "source": [
    "Once you have decided on the network architecture, you have to prepare the data set that will be used for training. Each item in the data set represents an input pattern and the correct output pattern that should be produced by the network (since this is supervised training). In most tasks, there can be an infinite number of such input-output associations. Obviously it would be impossible to enumerate all associations for all tasks (and it would make little sense to even try to do this!). You have to then decide what comprises a good representative data set that, when used in training a network, would generalize to all situations.\n",
    "\n",
    "In the case of the AND network, the data set is very small, finite (only 4 cases!), and exhaustive.\n",
    "\n",
    "The other issue you have to take into consideration here is that of the range of each input and output value. Remember the transfer function of a node is a sigmoid-function that serves to squash all input values between 0.0 and 1.0. Thus, regardless of the size of each input value into a node, the output produced by each node is between 0.0 and 1.0. This means that all output nodes have values in that range. If the task you are dealing with expects outputs between 0.0 and 1.0, then there is nothing to worry about. However, in most situations, you will need to *scale* the output values back to the values in the task domain. \n",
    "\n",
    "In reality, it is also a good idea to scale the input values from the domain into the 0.0 to 1.0 range (especially if most input values are outside the -5.0 and 5.0 range). Thus, defining a data set for training almost always requires a collection of input-output pairs, as well as scaling and unscaling operations. Luckily, for the AND task, we do not need to do any scaling, but we will see several examples of this later."
   ]
  },
  {
   "cell_type": "markdown",
   "metadata": {},
   "source": [
    "### 1.6.3 Define the neural network parameters"
   ]
  },
  {
   "cell_type": "markdown",
   "metadata": {},
   "source": [
    "The next step is to define the parameters required to train the neural network. These include the following:\n",
    "\n",
    " 1. The learning constant\n",
    " 1. The momentum constant\n",
    " 1. The tolerance\n",
    " 1. Other training-related parameters\n",
    "\n",
    "The learning rate, EPSILON, and the momentum constant, MOMENTUM, have to be between 0.0 and 1.0 and are critical to the overall training algorithm. The appropriate values of these constants are best determined by experimentation. Tolerance (which is also between 0.0 and 1.0) refers to the level of tolerance that is acceptable for determining correctness of the output. For example, if tolerance is set to 0.1, then an output value within 10% of the desired output is considered correct. Other training parameters generally exist to specify the reporting rate of the progress of the training, where to log such progress, etc. We will see specific examples of these as we start working with actual networks.\n",
    "\n",
    "For the AND network, we will set EPSILON to 0.5, MOMENTUM to 0.0, report the progress every 5 epochs (see below)."
   ]
  },
  {
   "cell_type": "markdown",
   "metadata": {},
   "source": [
    "### 1.6.4 Train the network"
   ]
  },
  {
   "cell_type": "markdown",
   "metadata": {},
   "source": [
    "Once all the parameters are specified, you start the training process. This involves presenting each input pattern to the network, propagating it all the way until an output is produced, comparing the output with the desired target, computing the error, backpropagating the error, and applying the learning rule.  This process is repeated  until all inputs are exhausted. A single pass through an entire data set is called an *epoch*. In general, you always train the network for several epochs (can be anywhere from a few hundred to millions!) until the network begins to show more improved and stable performance. Performance of the network is generally measured in terms of the *total sum-squared error* or *TSS* for short. This is the error in each pattern squared and summed over all the patterns. Initially, you will notice that the TSS is quite high, but it will slowly decrease as the number of epochs increase. \n",
    "\n",
    "You can either stop the training process after a certain number of epochs have elapsed, or after the TSS has decreased to a specific amount."
   ]
  },
  {
   "cell_type": "markdown",
   "metadata": {},
   "source": [
    "### 1.6.5 Test the trained network"
   ]
  },
  {
   "cell_type": "markdown",
   "metadata": {},
   "source": [
    "Once the network has been trained, it is time to test it. There are several ways of doing this. Perhaps the easiest is to turn learning off (another training parameter) and then see the outputs produced by the network for each input in the data set. When a trained network is going to be used in a *deployed* application, all you have to do is save the weights of all interconnections in the network into a file. The trained network can then be recreated at anytime by reloading the weights.\n",
    "\n",
    "Note: Instead of training-then-testing, there is another methodology: you can test-while-training. Conx's neural network system supports the idea of **cross validation**. With cross validation one defines a training corpus and testing corpus at the beginning. Occasionally, as training proceeds on the training corpus, the system will stop training momentarily (by turning learning off) and test its current weights on the test corpus. This methodology has the advantage of being able to stop when performance on the test corpus begins to drop, thereby preventing over-training. See [Conx Implementation Details]() for more details on cross validation."
   ]
  },
  {
   "cell_type": "markdown",
   "metadata": {},
   "source": [
    "### 1.6.6 Do post training analysis"
   ]
  },
  {
   "cell_type": "markdown",
   "metadata": {},
   "source": [
    "Perhaps the most important step in using neural networks is the analysis one performs once a network has been trained. There are a whole host of analysis techniques, we will present some of them as we go along.\n",
    "\n",
    "Next, we will introduce you to the Python package called, `conx` that is used to create and experiment with neural networks. We will use the AND network example from this section to learn about conx."
   ]
  },
  {
   "cell_type": "markdown",
   "metadata": {},
   "source": [
    "# 2. Learning AND"
   ]
  },
  {
   "cell_type": "markdown",
   "metadata": {},
   "source": [
    "Consider the AND function:\n",
    "\n",
    "**Input A** | **Input B** | **Target**\n",
    "------------|-------------|-------\n",
    " 0 | 0 | 0\n",
    " 0 | 1 | 0 \n",
    " 1 | 0 | 0 \n",
    " 1 | 1 | 1"
   ]
  },
  {
   "cell_type": "markdown",
   "metadata": {},
   "source": [
    "First, we import all of the items from the `conx` library:"
   ]
  },
  {
   "cell_type": "code",
   "execution_count": 117,
   "metadata": {
    "collapsed": false
   },
   "outputs": [],
   "source": [
    "from calysto.ai.conx import *"
   ]
  },
  {
   "cell_type": "markdown",
   "metadata": {},
   "source": [
    "For the AND experiment, we will create a 2-3-1 network:\n",
    "\n",
    "* input layer of two units\n",
    "* hidden layer of three (arbitrary, but not too big)\n",
    "* output layer of one unit"
   ]
  },
  {
   "cell_type": "code",
   "execution_count": 118,
   "metadata": {
    "collapsed": false
   },
   "outputs": [
    {
     "name": "stdout",
     "output_type": "stream",
     "text": [
      "Conx using seed: 1460030085.723039\n"
     ]
    },
    {
     "data": {
      "text/plain": [
       "Layer 'output': (Kind: Output, Size: 1, Active: 1, Frozen: 0)\n",
       "Target    : 0.00  \n",
       "Activation: 0.00  \n",
       "Layer 'hidden': (Kind: Hidden, Size: 3, Active: 1, Frozen: 0)\n",
       "Activation: 0.00  0.00  0.00  \n",
       "Layer 'input': (Kind: Input, Size: 2, Active: 1, Frozen: 0)\n",
       "Activation: 0.00  0.00  "
      ]
     },
     "execution_count": 118,
     "metadata": {},
     "output_type": "execute_result"
    }
   ],
   "source": [
    "net = Network()\n",
    "net.addLayers(2, 3, 1)\n",
    "net"
   ]
  },
  {
   "cell_type": "markdown",
   "metadata": {},
   "source": [
    "We can propagate activation through the network (from input layer, through the hidden layer, to output layer):"
   ]
  },
  {
   "cell_type": "code",
   "execution_count": 119,
   "metadata": {
    "collapsed": false
   },
   "outputs": [
    {
     "data": {
      "text/plain": [
       "array('d', [0.4890668465009166])"
      ]
     },
     "execution_count": 119,
     "metadata": {},
     "output_type": "execute_result"
    }
   ],
   "source": [
    "net.propagate(input=[0, 0])"
   ]
  },
  {
   "cell_type": "markdown",
   "metadata": {},
   "source": [
    "To see how an untrained network works on the AND problem, we can just propagate the input activations for each input pattern:"
   ]
  },
  {
   "cell_type": "code",
   "execution_count": 120,
   "metadata": {
    "collapsed": false
   },
   "outputs": [
    {
     "name": "stdout",
     "output_type": "stream",
     "text": [
      "[0, 0] array('d', [0.4890668465009166])\n",
      "[0, 1] array('d', [0.4886646672983125])\n",
      "[1, 0] array('d', [0.4886851480302152])\n",
      "[1, 1] array('d', [0.48828357145399326])\n"
     ]
    }
   ],
   "source": [
    "for pattern in [[0, 0], [0, 1], [1, 0], [1, 1]]:\n",
    "    print(pattern, net.propagate(input=pattern))"
   ]
  },
  {
   "cell_type": "markdown",
   "metadata": {},
   "source": [
    "Now, let's train a network to determine the weights to compute the AND function:"
   ]
  },
  {
   "cell_type": "code",
   "execution_count": 121,
   "metadata": {
    "collapsed": false
   },
   "outputs": [
    {
     "name": "stdout",
     "output_type": "stream",
     "text": [
      "Epoch #     1 | TSS Error: 1.0810 | Correct: 0.0000 | RMS Error: 0.5199\n",
      "Epoch #     2 | TSS Error: 0.8780 | Correct: 0.2500 | RMS Error: 0.4685\n",
      "Epoch #     3 | TSS Error: 0.8072 | Correct: 0.7500 | RMS Error: 0.4492\n",
      "Epoch #     4 | TSS Error: 0.7740 | Correct: 0.7500 | RMS Error: 0.4399\n",
      "Epoch #     5 | TSS Error: 0.8227 | Correct: 0.0000 | RMS Error: 0.4535\n",
      "Epoch #     6 | TSS Error: 0.7738 | Correct: 0.0000 | RMS Error: 0.4398\n",
      "Epoch #     7 | TSS Error: 0.7281 | Correct: 0.0000 | RMS Error: 0.4266\n",
      "Epoch #     8 | TSS Error: 0.7029 | Correct: 0.0000 | RMS Error: 0.4192\n",
      "Epoch #     9 | TSS Error: 0.6816 | Correct: 0.2500 | RMS Error: 0.4128\n",
      "Epoch #    10 | TSS Error: 0.6703 | Correct: 0.2500 | RMS Error: 0.4094\n",
      "Epoch #    11 | TSS Error: 0.6438 | Correct: 0.2500 | RMS Error: 0.4012\n",
      "Epoch #    12 | TSS Error: 0.6028 | Correct: 0.2500 | RMS Error: 0.3882\n",
      "Epoch #    13 | TSS Error: 0.5810 | Correct: 0.2500 | RMS Error: 0.3811\n",
      "Epoch #    14 | TSS Error: 0.5936 | Correct: 0.2500 | RMS Error: 0.3852\n",
      "Epoch #    15 | TSS Error: 0.5223 | Correct: 0.2500 | RMS Error: 0.3614\n",
      "Epoch #    16 | TSS Error: 0.4675 | Correct: 0.2500 | RMS Error: 0.3419\n",
      "Epoch #    17 | TSS Error: 0.4624 | Correct: 0.2500 | RMS Error: 0.3400\n",
      "Epoch #    18 | TSS Error: 0.4470 | Correct: 0.5000 | RMS Error: 0.3343\n",
      "Epoch #    19 | TSS Error: 0.4061 | Correct: 0.2500 | RMS Error: 0.3186\n",
      "Epoch #    20 | TSS Error: 0.4289 | Correct: 0.2500 | RMS Error: 0.3275\n",
      "Epoch #    21 | TSS Error: 0.3323 | Correct: 0.2500 | RMS Error: 0.2882\n",
      "Epoch #    22 | TSS Error: 0.2752 | Correct: 0.2500 | RMS Error: 0.2623\n",
      "Epoch #    23 | TSS Error: 0.2441 | Correct: 0.7500 | RMS Error: 0.2471\n",
      "Epoch #    24 | TSS Error: 0.2317 | Correct: 0.7500 | RMS Error: 0.2407\n",
      "Epoch #    25 | TSS Error: 0.2130 | Correct: 0.7500 | RMS Error: 0.2308\n",
      "Epoch #    26 | TSS Error: 0.1869 | Correct: 0.2500 | RMS Error: 0.2161\n",
      "Epoch #    27 | TSS Error: 0.1496 | Correct: 0.2500 | RMS Error: 0.1934\n",
      "Epoch #    28 | TSS Error: 0.1075 | Correct: 0.7500 | RMS Error: 0.1639\n",
      "Epoch #    29 | TSS Error: 0.0910 | Correct: 0.7500 | RMS Error: 0.1508\n",
      "Epoch #    30 | TSS Error: 0.0819 | Correct: 0.7500 | RMS Error: 0.1430\n",
      "Epoch #    31 | TSS Error: 0.0650 | Correct: 0.7500 | RMS Error: 0.1275\n",
      "Epoch #    32 | TSS Error: 0.0571 | Correct: 1.0000 | RMS Error: 0.1195\n",
      "Final #    32 | TSS Error: 0.0571 | Correct: 1.0000 | RMS Error: 0.1195\n"
     ]
    }
   ],
   "source": [
    "# provide training patterns (inputs and outputs)\n",
    "net.setInputs([[0.0, 0.0],[0.0, 1.0],[1.0, 0.0],[1.0, 1.0]])\n",
    "net.setOutputs([[0.0],[0.0],[0.0],[1.0]])\n",
    "\n",
    "# set learning parameters\n",
    "net.setEpsilon(0.5)\n",
    "net.setTolerance(0.2)\n",
    "net.setReportRate(1)\n",
    "\n",
    "# learn\n",
    "net.train()"
   ]
  },
  {
   "cell_type": "markdown",
   "metadata": {},
   "source": [
    "It should be pretty easy to learn this function, taking around 10 to 20 cycles through the 4 training patterns (called an **epoch**). We can test each input pattern to see if it really works:"
   ]
  },
  {
   "cell_type": "code",
   "execution_count": 122,
   "metadata": {
    "collapsed": false
   },
   "outputs": [
    {
     "name": "stdout",
     "output_type": "stream",
     "text": [
      "[0, 0] array('d', [0.0005876478328580145])\n",
      "[0, 1] array('d', [0.09218343992922205])\n",
      "[1, 0] array('d', [0.09265035496723815])\n",
      "[1, 1] array('d', [0.8278728539132639])\n"
     ]
    }
   ],
   "source": [
    "for pattern in [[0, 0], [0, 1], [1, 0], [1, 1]]:\n",
    "    print(pattern, net.propagate(input=pattern))"
   ]
  },
  {
   "cell_type": "markdown",
   "metadata": {},
   "source": [
    "Yes! It really works. But it gets even better."
   ]
  },
  {
   "cell_type": "markdown",
   "metadata": {},
   "source": [
    "## 2.1 Generalization"
   ]
  },
  {
   "cell_type": "markdown",
   "metadata": {},
   "source": [
    "One of the great side benefits of using a neural network to solve a problem is that it can also do slightly different problems that it was not trained on.\n",
    "\n",
    "For example, we didn't explicitly train the network on [0.8, 0.8] for the AND problem, but we can see what the network thinks:"
   ]
  },
  {
   "cell_type": "code",
   "execution_count": 123,
   "metadata": {
    "collapsed": false
   },
   "outputs": [
    {
     "data": {
      "text/plain": [
       "array('d', [0.6732356030203668])"
      ]
     },
     "execution_count": 123,
     "metadata": {},
     "output_type": "execute_result"
    }
   ],
   "source": [
    "net.propagate(input=[0.8, 0.8])"
   ]
  },
  {
   "cell_type": "markdown",
   "metadata": {},
   "source": [
    "That is a reasonable answer. To see all of the reasonable answers, we can sample the entire input space for the two input units:"
   ]
  },
  {
   "cell_type": "code",
   "execution_count": 124,
   "metadata": {
    "collapsed": false
   },
   "outputs": [
    {
     "data": {
      "image/png": "[encoded data removed]",
      "text/plain": [
       "<matplotlib.figure.Figure at 0x7f6dcf1a4128>"
      ]
     },
     "metadata": {},
     "output_type": "display_data"
    }
   ],
   "source": [
    "z = np.zeros((100, 100))\n",
    "\n",
    "for x in range(100):\n",
    "    for y in range(100):\n",
    "        z[x][y] = net.propagate(input=[x/100, y/100])[0]\n",
    "\n",
    "plt.imshow(z, cmap=plt.cm.gray, interpolation='nearest')\n",
    "plt.xlabel(\"input 1\")\n",
    "plt.ylabel(\"input 2\")\n",
    "plt.title(\"Output Activation\")\n",
    "\n",
    "plt.show()"
   ]
  },
  {
   "cell_type": "markdown",
   "metadata": {},
   "source": [
    "We can see that the bottom, right-hand corner is white, meaning close to 1.0. However, the network has learned the surrounding area is a gradation between black (0.0) and white. We can describe this as **generalization**."
   ]
  },
  {
   "cell_type": "code",
   "execution_count": null,
   "metadata": {
    "collapsed": true
   },
   "outputs": [],
   "source": [
    "# Compute the XOR function here"
   ]
  },
  {
   "cell_type": "code",
   "execution_count": null,
   "metadata": {
    "collapsed": true
   },
   "outputs": [],
   "source": [
    "# Examine the Output Activations"
   ]
  },
  {
   "cell_type": "code",
   "execution_count": null,
   "metadata": {
    "collapsed": true
   },
   "outputs": [],
   "source": [
    "# Design your own problem"
   ]
  },
  {
   "cell_type": "markdown",
   "metadata": {},
   "source": [
    "# 3. Further Reading"
   ]
  },
  {
   "cell_type": "markdown",
   "metadata": {},
   "source": [
    "1. Rumlehart, McClelland, PDP Research Group. (1987) *Parallel Distributed Processing: Explorations in the Microstructure of Cognition*. Cambridge, Mass. : MIT Press.\n",
    "1. Rumlehart, McClelland. (1988) *Explorations in Parallel Distributed Processing: A Handbook of Models, Programs, and Exercises*. Cambridge, Mass. : MIT Press.\n",
    "1. Elman, et al. (1998) *Rethinking Innateness: A Connectionist Perspective on Development*. Cambridge, Mass. : MIT Press.\n",
    "1. Elman, J. & Plunkett, K. (1998) *Exercises in Rethinking Innateness: A Handbook for Connectionist Simulations*. Cambridge, Mass. : MIT Press.\n",
    "1. Hinton, G. (1992) How Neural Networks Learn From Experience. *Scientific American*. September, 1992."
   ]
  },
  {
   "cell_type": "markdown",
   "metadata": {},
   "source": [
    "## 3.1 Sources"
   ]
  },
  {
   "cell_type": "markdown",
   "metadata": {},
   "source": [
    "1. http://2012books.lardbucket.org/books/beginning-psychology/s07-01-the-neuron-is-the-building-blo.html\n",
    "2. https://faculty.washington.edu/chudler/son.html"
   ]
  }
 ],
 "metadata": {
  "kernelspec": {
   "display_name": "Python 3",
   "language": "python",
   "name": "python3"
  },
  "language_info": {
   "codemirror_mode": {
    "name": "ipython",
    "version": 3
   },
   "file_extension": ".py",
   "mimetype": "text/x-python",
   "name": "python",
   "nbconvert_exporter": "python",
   "pygments_lexer": "ipython3",
   "version": "3.5.1"
  }
 },
 "nbformat": 4,
 "nbformat_minor": 0
}
