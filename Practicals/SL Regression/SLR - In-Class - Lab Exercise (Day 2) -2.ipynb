{
 "cells": [
  {
   "cell_type": "markdown",
   "metadata": {},
   "source": [
    "<table align=\"center\" width=100%>\n",
    "    <tr>\n",
    "        <td width=\"15%\">\n",
    "            <img src=\"in_class.png\">\n",
    "        </td>\n",
    "        <td>\n",
    "            <div align=\"center\">\n",
    "                <font color=\"#21618C\" size=8px>\n",
    "                    <b> Inclass - Lab <br>(Day 3)\n",
    "                    </b>\n",
    "                </font>\n",
    "            </div>\n",
    "        </td>\n",
    "    </tr>\n",
    "</table>"
   ]
  },
  {
   "cell_type": "markdown",
   "metadata": {},
   "source": [
    "### About the data set  (Life Expectancy data)\n",
    "\n",
    "The dataset contains information about several health and economic factors that contribute to average life expectancy for different countries. <br> Attribute information: \n",
    "\n",
    "**Country:** Name of the country\n",
    "\n",
    "**Year:** Year the observations were recorded\n",
    "\n",
    "**Status:** Whether the country is Developed or Developing\n",
    "\n",
    "**Adult_Mortality:** Mortality rate for age group 15-60 out of every 1000 individuals of the population\n",
    "\n",
    "**Infant_Deaths:** Number of infant deaths per 1000 population\n",
    "\n",
    "**Alcohol:** Alcohol, recorded per capita (15+) consumption (in litres of pure alcohol)\n",
    "\n",
    "**Hepatitis B:** Hepatitis B (HepB) immunization coverage for 1 year olds (Percentage)\n",
    "\n",
    "**Measles:** Number of reported cases for measles per 1000 from population\n",
    "\n",
    "**BMI:** Average Body Mass Index for entire population\n",
    "\n",
    "**Underfive_Deaths:** Number of deaths under 5 years of age per 1000 population\n",
    "\n",
    "**Polio:** Polio (Pol3) immunization coverage for 1 year olds (Percentage)\n",
    "\n",
    "**Diphtheria:** Diphtheria tetanus toxoid and pertussis (DTP3) immunization coverage for 1 year olds (Percentage)\n",
    "\n",
    "**HIV:** Deaths per 1000 live births due to HIV/AIDS (0-4 years)\n",
    "\n",
    "**GDP:** Gross Domestic Product per capita (in USD)\n",
    "\n",
    "**Population:** Population of the country\n",
    "\n",
    "**Malnourished10_19:** Prevalence of malnutrition among children and adolescents for Age 10 to 19 (Percentage)\n",
    "\n",
    "**Malnourished5_9:** Prevalence of malnutrition among children for Age 5 to 9 (Percentage)\n",
    "\n",
    "**Income_Index:** Human Development Index (HDI) in terms of national income per capita (index ranging from 0 to 1)\n",
    "\n",
    "**Schooling:** Number of years of Schooling\n",
    "\n",
    "**Life_Expectancy:** Life Expectancy in age for the country\n"
   ]
  },
  {
   "cell_type": "markdown",
   "metadata": {},
   "source": [
    "##  Table of Content\n",
    "\n",
    "1. **[Data Preparation](#eda)**\n",
    "2. **[Linear Regression](#lf)**\n",
    "3. **[Gradient Descent](#gd)**\n",
    "4. **[Regularization](#reg)**\n",
    "5. **[Grid Search](#gs)**"
   ]
  },
  {
   "cell_type": "markdown",
   "metadata": {},
   "source": [
    "**Import the required libraries**"
   ]
  },
  {
   "cell_type": "code",
   "execution_count": 1,
   "metadata": {},
   "outputs": [],
   "source": [
    "# type your code here\n",
    "import pandas as pd\n",
    "import numpy as np\n",
    "import seaborn as sns\n",
    "import matplotlib.pyplot as plt"
   ]
  },
  {
   "cell_type": "markdown",
   "metadata": {},
   "source": [
    "#### Load the Life expectancy dataset and display the first five records "
   ]
  },
  {
   "cell_type": "code",
   "execution_count": 2,
   "metadata": {},
   "outputs": [
    {
     "data": {
      "text/html": [
       "<div>\n",
       "<style scoped>\n",
       "    .dataframe tbody tr th:only-of-type {\n",
       "        vertical-align: middle;\n",
       "    }\n",
       "\n",
       "    .dataframe tbody tr th {\n",
       "        vertical-align: top;\n",
       "    }\n",
       "\n",
       "    .dataframe thead th {\n",
       "        text-align: right;\n",
       "    }\n",
       "</style>\n",
       "<table border=\"1\" class=\"dataframe\">\n",
       "  <thead>\n",
       "    <tr style=\"text-align: right;\">\n",
       "      <th></th>\n",
       "      <th>Country</th>\n",
       "      <th>Year</th>\n",
       "      <th>Status</th>\n",
       "      <th>Adult_Mortality</th>\n",
       "      <th>Infant_Deaths</th>\n",
       "      <th>Alcohol</th>\n",
       "      <th>Hepatitis B</th>\n",
       "      <th>Measles</th>\n",
       "      <th>BMI</th>\n",
       "      <th>Underfive_Deaths</th>\n",
       "      <th>Polio</th>\n",
       "      <th>Diphtheria</th>\n",
       "      <th>HIV</th>\n",
       "      <th>GDP</th>\n",
       "      <th>Population</th>\n",
       "      <th>Malnourished10_19</th>\n",
       "      <th>Malnourished5_9</th>\n",
       "      <th>Income_Index</th>\n",
       "      <th>Schooling</th>\n",
       "      <th>Life_Expectancy</th>\n",
       "    </tr>\n",
       "  </thead>\n",
       "  <tbody>\n",
       "    <tr>\n",
       "      <th>0</th>\n",
       "      <td>Afghanistan</td>\n",
       "      <td>2015</td>\n",
       "      <td>Developing</td>\n",
       "      <td>263.0</td>\n",
       "      <td>62</td>\n",
       "      <td>0.01</td>\n",
       "      <td>65.0</td>\n",
       "      <td>1154</td>\n",
       "      <td>19.1</td>\n",
       "      <td>83</td>\n",
       "      <td>6</td>\n",
       "      <td>65</td>\n",
       "      <td>0.1</td>\n",
       "      <td>584.259210</td>\n",
       "      <td>33736494.0</td>\n",
       "      <td>17.2</td>\n",
       "      <td>17.3</td>\n",
       "      <td>0.479</td>\n",
       "      <td>10.1</td>\n",
       "      <td>65.0</td>\n",
       "    </tr>\n",
       "    <tr>\n",
       "      <th>1</th>\n",
       "      <td>Albania</td>\n",
       "      <td>2015</td>\n",
       "      <td>Developing</td>\n",
       "      <td>74.0</td>\n",
       "      <td>0</td>\n",
       "      <td>4.60</td>\n",
       "      <td>99.0</td>\n",
       "      <td>0</td>\n",
       "      <td>58.0</td>\n",
       "      <td>0</td>\n",
       "      <td>99</td>\n",
       "      <td>99</td>\n",
       "      <td>0.1</td>\n",
       "      <td>3954.227830</td>\n",
       "      <td>28873.0</td>\n",
       "      <td>1.2</td>\n",
       "      <td>1.3</td>\n",
       "      <td>0.762</td>\n",
       "      <td>14.2</td>\n",
       "      <td>77.8</td>\n",
       "    </tr>\n",
       "    <tr>\n",
       "      <th>2</th>\n",
       "      <td>Algeria</td>\n",
       "      <td>2015</td>\n",
       "      <td>Developing</td>\n",
       "      <td>19.0</td>\n",
       "      <td>21</td>\n",
       "      <td>NaN</td>\n",
       "      <td>95.0</td>\n",
       "      <td>63</td>\n",
       "      <td>59.5</td>\n",
       "      <td>24</td>\n",
       "      <td>95</td>\n",
       "      <td>95</td>\n",
       "      <td>0.1</td>\n",
       "      <td>4132.762920</td>\n",
       "      <td>39871528.0</td>\n",
       "      <td>6.0</td>\n",
       "      <td>5.8</td>\n",
       "      <td>0.743</td>\n",
       "      <td>14.4</td>\n",
       "      <td>75.6</td>\n",
       "    </tr>\n",
       "    <tr>\n",
       "      <th>3</th>\n",
       "      <td>Angola</td>\n",
       "      <td>2015</td>\n",
       "      <td>Developing</td>\n",
       "      <td>335.0</td>\n",
       "      <td>66</td>\n",
       "      <td>NaN</td>\n",
       "      <td>64.0</td>\n",
       "      <td>118</td>\n",
       "      <td>23.3</td>\n",
       "      <td>98</td>\n",
       "      <td>7</td>\n",
       "      <td>64</td>\n",
       "      <td>1.9</td>\n",
       "      <td>3695.793748</td>\n",
       "      <td>2785935.0</td>\n",
       "      <td>8.3</td>\n",
       "      <td>8.2</td>\n",
       "      <td>0.531</td>\n",
       "      <td>11.4</td>\n",
       "      <td>52.4</td>\n",
       "    </tr>\n",
       "    <tr>\n",
       "      <th>4</th>\n",
       "      <td>Antigua</td>\n",
       "      <td>2015</td>\n",
       "      <td>Developing</td>\n",
       "      <td>13.0</td>\n",
       "      <td>0</td>\n",
       "      <td>NaN</td>\n",
       "      <td>99.0</td>\n",
       "      <td>0</td>\n",
       "      <td>47.7</td>\n",
       "      <td>0</td>\n",
       "      <td>86</td>\n",
       "      <td>99</td>\n",
       "      <td>0.2</td>\n",
       "      <td>13566.954100</td>\n",
       "      <td>NaN</td>\n",
       "      <td>3.3</td>\n",
       "      <td>3.3</td>\n",
       "      <td>0.784</td>\n",
       "      <td>13.9</td>\n",
       "      <td>76.4</td>\n",
       "    </tr>\n",
       "  </tbody>\n",
       "</table>\n",
       "</div>"
      ],
      "text/plain": [
       "       Country  Year      Status  Adult_Mortality  Infant_Deaths  Alcohol  \\\n",
       "0  Afghanistan  2015  Developing            263.0             62     0.01   \n",
       "1      Albania  2015  Developing             74.0              0     4.60   \n",
       "2      Algeria  2015  Developing             19.0             21      NaN   \n",
       "3       Angola  2015  Developing            335.0             66      NaN   \n",
       "4      Antigua  2015  Developing             13.0              0      NaN   \n",
       "\n",
       "   Hepatitis B  Measles    BMI  Underfive_Deaths   Polio  Diphtheria   HIV  \\\n",
       "0         65.0      1154  19.1                 83      6           65  0.1   \n",
       "1         99.0         0  58.0                  0     99           99  0.1   \n",
       "2         95.0        63  59.5                 24     95           95  0.1   \n",
       "3         64.0       118  23.3                 98      7           64  1.9   \n",
       "4         99.0         0  47.7                  0     86           99  0.2   \n",
       "\n",
       "            GDP  Population  Malnourished10_19  Malnourished5_9  Income_Index  \\\n",
       "0    584.259210  33736494.0               17.2             17.3         0.479   \n",
       "1   3954.227830     28873.0                1.2              1.3         0.762   \n",
       "2   4132.762920  39871528.0                6.0              5.8         0.743   \n",
       "3   3695.793748   2785935.0                8.3              8.2         0.531   \n",
       "4  13566.954100         NaN                3.3              3.3         0.784   \n",
       "\n",
       "   Schooling  Life_Expectancy  \n",
       "0       10.1             65.0  \n",
       "1       14.2             77.8  \n",
       "2       14.4             75.6  \n",
       "3       11.4             52.4  \n",
       "4       13.9             76.4  "
      ]
     },
     "execution_count": 2,
     "metadata": {},
     "output_type": "execute_result"
    }
   ],
   "source": [
    "# load the csv file\n",
    "\n",
    "# type your code here\n",
    "df = pd.read_csv('Life_Expectancy_1.csv')\n",
    "\n",
    "# display the first five observations\n",
    "\n",
    "# type your code here\n",
    "df.head()"
   ]
  },
  {
   "cell_type": "markdown",
   "metadata": {},
   "source": [
    "#### Check the shape of the data and display its information"
   ]
  },
  {
   "cell_type": "code",
   "execution_count": 3,
   "metadata": {
    "scrolled": true
   },
   "outputs": [
    {
     "data": {
      "text/plain": [
       "(182, 20)"
      ]
     },
     "execution_count": 3,
     "metadata": {},
     "output_type": "execute_result"
    }
   ],
   "source": [
    "# check the size of the dataframe\n",
    "\n",
    "# type your code here\n",
    "df.shape"
   ]
  },
  {
   "cell_type": "code",
   "execution_count": 4,
   "metadata": {},
   "outputs": [
    {
     "name": "stdout",
     "output_type": "stream",
     "text": [
      "<class 'pandas.core.frame.DataFrame'>\n",
      "RangeIndex: 182 entries, 0 to 181\n",
      "Data columns (total 20 columns):\n",
      " #   Column             Non-Null Count  Dtype  \n",
      "---  ------             --------------  -----  \n",
      " 0   Country            182 non-null    object \n",
      " 1   Year               182 non-null    int64  \n",
      " 2   Status             182 non-null    object \n",
      " 3   Adult_Mortality    173 non-null    float64\n",
      " 4   Infant_Deaths      182 non-null    int64  \n",
      " 5   Alcohol            15 non-null     float64\n",
      " 6   Hepatitis B        173 non-null    float64\n",
      " 7   Measles            182 non-null    int64  \n",
      " 8   BMI                178 non-null    float64\n",
      " 9   Underfive_Deaths   182 non-null    int64  \n",
      " 10  Polio              182 non-null    int64  \n",
      " 11  Diphtheria         182 non-null    int64  \n",
      " 12  HIV                182 non-null    float64\n",
      " 13  GDP                157 non-null    float64\n",
      " 14  Population         141 non-null    float64\n",
      " 15  Malnourished10_19  178 non-null    float64\n",
      " 16  Malnourished5_9    178 non-null    float64\n",
      " 17  Income_Index       169 non-null    float64\n",
      " 18  Schooling          173 non-null    float64\n",
      " 19  Life_Expectancy    173 non-null    float64\n",
      "dtypes: float64(12), int64(6), object(2)\n",
      "memory usage: 28.6+ KB\n"
     ]
    }
   ],
   "source": [
    "# display dataset information understand the dataset\n",
    "\n",
    "# type your code here\n",
    "df.info()"
   ]
  },
  {
   "cell_type": "markdown",
   "metadata": {},
   "source": [
    "### Let's begin with some hands-on practice exercises"
   ]
  },
  {
   "cell_type": "markdown",
   "metadata": {},
   "source": [
    "<a id=\"eda\"> </a>\n",
    "## 1. Data Preparation"
   ]
  },
  {
   "cell_type": "markdown",
   "metadata": {
    "collapsed": true
   },
   "source": [
    "<table align=\"left\">\n",
    "    <tr>\n",
    "        <td width=\"6%\">\n",
    "            <img src=\"question_icon.png\">\n",
    "        </td>\n",
    "        <td>\n",
    "            <div align=\"left\", style=\"font-size:120%\">\n",
    "                <font color=\"#21618C\">\n",
    "                    <b>1. The dataset gives the life expectancy for different countries. Check if any information about life expectancy is missing from the given records. How do we fix the problem if present?</b>\n",
    "                </font>\n",
    "            </div>\n",
    "        </td>\n",
    "    </tr>\n",
    "</table>"
   ]
  },
  {
   "cell_type": "code",
   "execution_count": 5,
   "metadata": {},
   "outputs": [
    {
     "data": {
      "text/plain": [
       "Country                0\n",
       "Year                   0\n",
       "Status                 0\n",
       "Adult_Mortality        9\n",
       "Infant_Deaths          0\n",
       "Alcohol              167\n",
       "Hepatitis B            9\n",
       "Measles                0\n",
       "BMI                    4\n",
       "Underfive_Deaths       0\n",
       "Polio                  0\n",
       "Diphtheria             0\n",
       "HIV                    0\n",
       "GDP                   25\n",
       "Population            41\n",
       "Malnourished10_19      4\n",
       "Malnourished5_9        4\n",
       "Income_Index          13\n",
       "Schooling              9\n",
       "Life_Expectancy        9\n",
       "dtype: int64"
      ]
     },
     "execution_count": 5,
     "metadata": {},
     "output_type": "execute_result"
    }
   ],
   "source": [
    "# type your code here\n",
    "df.isnull().sum()"
   ]
  },
  {
   "cell_type": "markdown",
   "metadata": {
    "collapsed": true
   },
   "source": [
    "<table align=\"left\">\n",
    "    <tr>\n",
    "        <td width=\"6%\">\n",
    "            <img src=\"question_icon.png\">\n",
    "        </td>\n",
    "        <td>\n",
    "            <div align=\"left\", style=\"font-size:120%\">\n",
    "                <font color=\"#21618C\">\n",
    "                    <b>2. How do we handle the missing values from the entire dataset?</b>\n",
    "                </font>\n",
    "            </div>\n",
    "        </td>\n",
    "    </tr>\n",
    "</table>"
   ]
  },
  {
   "cell_type": "code",
   "execution_count": 6,
   "metadata": {},
   "outputs": [],
   "source": [
    "# type your code here\n",
    "df = df.dropna(subset = ['Life_Expectancy'])"
   ]
  },
  {
   "cell_type": "code",
   "execution_count": 7,
   "metadata": {},
   "outputs": [],
   "source": [
    "# type your code here\n",
    "df = df.drop('Alcohol',axis=1)"
   ]
  },
  {
   "cell_type": "code",
   "execution_count": 8,
   "metadata": {},
   "outputs": [],
   "source": [
    "df = df.reset_index(drop=True)"
   ]
  },
  {
   "cell_type": "code",
   "execution_count": 9,
   "metadata": {},
   "outputs": [],
   "source": [
    "num_data = df.select_dtypes(include=np.number)\n",
    "cat_data = df.select_dtypes(exclude=np.number)"
   ]
  },
  {
   "cell_type": "code",
   "execution_count": 10,
   "metadata": {},
   "outputs": [],
   "source": [
    "from sklearn.impute import KNNImputer\n",
    "fill_mod=KNNImputer(n_neighbors=3)\n",
    "data_fill=fill_mod.fit_transform(num_data)\n",
    "data_fill=pd.DataFrame(data_fill)\n",
    "data_fill.columns=num_data.columns\n",
    "num_data = data_fill"
   ]
  },
  {
   "cell_type": "code",
   "execution_count": 11,
   "metadata": {},
   "outputs": [
    {
     "data": {
      "text/plain": [
       "Year                 0\n",
       "Adult_Mortality      0\n",
       "Infant_Deaths        0\n",
       "Hepatitis B          0\n",
       "Measles              0\n",
       "BMI                  0\n",
       "Underfive_Deaths     0\n",
       "Polio                0\n",
       "Diphtheria           0\n",
       "HIV                  0\n",
       "GDP                  0\n",
       "Population           0\n",
       "Malnourished10_19    0\n",
       "Malnourished5_9      0\n",
       "Income_Index         0\n",
       "Schooling            0\n",
       "Life_Expectancy      0\n",
       "dtype: int64"
      ]
     },
     "execution_count": 11,
     "metadata": {},
     "output_type": "execute_result"
    }
   ],
   "source": [
    "num_data.isnull().sum()"
   ]
  },
  {
   "cell_type": "markdown",
   "metadata": {
    "collapsed": true
   },
   "source": [
    "<table align=\"left\">\n",
    "    <tr>\n",
    "        <td width=\"6%\">\n",
    "            <img src=\"question_icon.png\">\n",
    "        </td>\n",
    "        <td>\n",
    "            <div align=\"left\", style=\"font-size:120%\">\n",
    "                <font color=\"#21618C\">\n",
    "                    <b>3. Are there any redundant features in the data?</b>\n",
    "                </font>\n",
    "            </div>\n",
    "        </td>\n",
    "    </tr>\n",
    "</table>"
   ]
  },
  {
   "cell_type": "code",
   "execution_count": 12,
   "metadata": {},
   "outputs": [
    {
     "data": {
      "text/plain": [
       "2015    172\n",
       "2013      1\n",
       "Name: Year, dtype: int64"
      ]
     },
     "execution_count": 12,
     "metadata": {},
     "output_type": "execute_result"
    }
   ],
   "source": [
    "df['Year'].value_counts()"
   ]
  },
  {
   "cell_type": "code",
   "execution_count": 13,
   "metadata": {},
   "outputs": [],
   "source": [
    "#df = df.drop(['Year','Country','Infant_Deaths'],axis=1)\n",
    "num_data = num_data.drop(['Year','Infant_Deaths'],axis=1)\n",
    "cat_data = cat_data.drop('Country',1)"
   ]
  },
  {
   "cell_type": "code",
   "execution_count": 14,
   "metadata": {},
   "outputs": [
    {
     "data": {
      "text/html": [
       "<div>\n",
       "<style scoped>\n",
       "    .dataframe tbody tr th:only-of-type {\n",
       "        vertical-align: middle;\n",
       "    }\n",
       "\n",
       "    .dataframe tbody tr th {\n",
       "        vertical-align: top;\n",
       "    }\n",
       "\n",
       "    .dataframe thead th {\n",
       "        text-align: right;\n",
       "    }\n",
       "</style>\n",
       "<table border=\"1\" class=\"dataframe\">\n",
       "  <thead>\n",
       "    <tr style=\"text-align: right;\">\n",
       "      <th></th>\n",
       "      <th>Adult_Mortality</th>\n",
       "      <th>Hepatitis B</th>\n",
       "      <th>Measles</th>\n",
       "      <th>BMI</th>\n",
       "      <th>Underfive_Deaths</th>\n",
       "      <th>Polio</th>\n",
       "      <th>Diphtheria</th>\n",
       "      <th>HIV</th>\n",
       "      <th>GDP</th>\n",
       "      <th>Population</th>\n",
       "      <th>Malnourished10_19</th>\n",
       "      <th>Malnourished5_9</th>\n",
       "      <th>Income_Index</th>\n",
       "      <th>Schooling</th>\n",
       "      <th>Life_Expectancy</th>\n",
       "      <th>Status</th>\n",
       "    </tr>\n",
       "  </thead>\n",
       "  <tbody>\n",
       "    <tr>\n",
       "      <th>0</th>\n",
       "      <td>263.0</td>\n",
       "      <td>65.0</td>\n",
       "      <td>1154.0</td>\n",
       "      <td>19.1</td>\n",
       "      <td>83.0</td>\n",
       "      <td>6.0</td>\n",
       "      <td>65.0</td>\n",
       "      <td>0.1</td>\n",
       "      <td>584.259210</td>\n",
       "      <td>3.373649e+07</td>\n",
       "      <td>17.2</td>\n",
       "      <td>17.3</td>\n",
       "      <td>0.479</td>\n",
       "      <td>10.1</td>\n",
       "      <td>65.0</td>\n",
       "      <td>Developing</td>\n",
       "    </tr>\n",
       "    <tr>\n",
       "      <th>1</th>\n",
       "      <td>74.0</td>\n",
       "      <td>99.0</td>\n",
       "      <td>0.0</td>\n",
       "      <td>58.0</td>\n",
       "      <td>0.0</td>\n",
       "      <td>99.0</td>\n",
       "      <td>99.0</td>\n",
       "      <td>0.1</td>\n",
       "      <td>3954.227830</td>\n",
       "      <td>2.887300e+04</td>\n",
       "      <td>1.2</td>\n",
       "      <td>1.3</td>\n",
       "      <td>0.762</td>\n",
       "      <td>14.2</td>\n",
       "      <td>77.8</td>\n",
       "      <td>Developing</td>\n",
       "    </tr>\n",
       "    <tr>\n",
       "      <th>2</th>\n",
       "      <td>19.0</td>\n",
       "      <td>95.0</td>\n",
       "      <td>63.0</td>\n",
       "      <td>59.5</td>\n",
       "      <td>24.0</td>\n",
       "      <td>95.0</td>\n",
       "      <td>95.0</td>\n",
       "      <td>0.1</td>\n",
       "      <td>4132.762920</td>\n",
       "      <td>3.987153e+07</td>\n",
       "      <td>6.0</td>\n",
       "      <td>5.8</td>\n",
       "      <td>0.743</td>\n",
       "      <td>14.4</td>\n",
       "      <td>75.6</td>\n",
       "      <td>Developing</td>\n",
       "    </tr>\n",
       "    <tr>\n",
       "      <th>3</th>\n",
       "      <td>335.0</td>\n",
       "      <td>64.0</td>\n",
       "      <td>118.0</td>\n",
       "      <td>23.3</td>\n",
       "      <td>98.0</td>\n",
       "      <td>7.0</td>\n",
       "      <td>64.0</td>\n",
       "      <td>1.9</td>\n",
       "      <td>3695.793748</td>\n",
       "      <td>2.785935e+06</td>\n",
       "      <td>8.3</td>\n",
       "      <td>8.2</td>\n",
       "      <td>0.531</td>\n",
       "      <td>11.4</td>\n",
       "      <td>52.4</td>\n",
       "      <td>Developing</td>\n",
       "    </tr>\n",
       "    <tr>\n",
       "      <th>4</th>\n",
       "      <td>13.0</td>\n",
       "      <td>99.0</td>\n",
       "      <td>0.0</td>\n",
       "      <td>47.7</td>\n",
       "      <td>0.0</td>\n",
       "      <td>86.0</td>\n",
       "      <td>99.0</td>\n",
       "      <td>0.2</td>\n",
       "      <td>13566.954100</td>\n",
       "      <td>2.105266e+07</td>\n",
       "      <td>3.3</td>\n",
       "      <td>3.3</td>\n",
       "      <td>0.784</td>\n",
       "      <td>13.9</td>\n",
       "      <td>76.4</td>\n",
       "      <td>Developing</td>\n",
       "    </tr>\n",
       "    <tr>\n",
       "      <th>...</th>\n",
       "      <td>...</td>\n",
       "      <td>...</td>\n",
       "      <td>...</td>\n",
       "      <td>...</td>\n",
       "      <td>...</td>\n",
       "      <td>...</td>\n",
       "      <td>...</td>\n",
       "      <td>...</td>\n",
       "      <td>...</td>\n",
       "      <td>...</td>\n",
       "      <td>...</td>\n",
       "      <td>...</td>\n",
       "      <td>...</td>\n",
       "      <td>...</td>\n",
       "      <td>...</td>\n",
       "      <td>...</td>\n",
       "    </tr>\n",
       "    <tr>\n",
       "      <th>168</th>\n",
       "      <td>157.0</td>\n",
       "      <td>87.0</td>\n",
       "      <td>0.0</td>\n",
       "      <td>62.1</td>\n",
       "      <td>10.0</td>\n",
       "      <td>87.0</td>\n",
       "      <td>87.0</td>\n",
       "      <td>0.1</td>\n",
       "      <td>6926.526855</td>\n",
       "      <td>1.724487e+07</td>\n",
       "      <td>1.6</td>\n",
       "      <td>1.5</td>\n",
       "      <td>0.769</td>\n",
       "      <td>14.3</td>\n",
       "      <td>74.1</td>\n",
       "      <td>Developing</td>\n",
       "    </tr>\n",
       "    <tr>\n",
       "      <th>169</th>\n",
       "      <td>127.0</td>\n",
       "      <td>97.0</td>\n",
       "      <td>256.0</td>\n",
       "      <td>17.5</td>\n",
       "      <td>35.0</td>\n",
       "      <td>97.0</td>\n",
       "      <td>97.0</td>\n",
       "      <td>0.1</td>\n",
       "      <td>7689.930440</td>\n",
       "      <td>1.417156e+06</td>\n",
       "      <td>14.2</td>\n",
       "      <td>14.5</td>\n",
       "      <td>0.678</td>\n",
       "      <td>12.6</td>\n",
       "      <td>76.0</td>\n",
       "      <td>Developing</td>\n",
       "    </tr>\n",
       "    <tr>\n",
       "      <th>170</th>\n",
       "      <td>224.0</td>\n",
       "      <td>69.0</td>\n",
       "      <td>468.0</td>\n",
       "      <td>41.3</td>\n",
       "      <td>47.0</td>\n",
       "      <td>63.0</td>\n",
       "      <td>69.0</td>\n",
       "      <td>0.1</td>\n",
       "      <td>1539.509068</td>\n",
       "      <td>5.998595e+06</td>\n",
       "      <td>13.6</td>\n",
       "      <td>13.4</td>\n",
       "      <td>0.499</td>\n",
       "      <td>9.0</td>\n",
       "      <td>65.7</td>\n",
       "      <td>Developing</td>\n",
       "    </tr>\n",
       "    <tr>\n",
       "      <th>171</th>\n",
       "      <td>33.0</td>\n",
       "      <td>9.0</td>\n",
       "      <td>9.0</td>\n",
       "      <td>23.4</td>\n",
       "      <td>40.0</td>\n",
       "      <td>9.0</td>\n",
       "      <td>9.0</td>\n",
       "      <td>4.1</td>\n",
       "      <td>1313.889646</td>\n",
       "      <td>1.615870e+05</td>\n",
       "      <td>6.3</td>\n",
       "      <td>6.1</td>\n",
       "      <td>0.576</td>\n",
       "      <td>12.5</td>\n",
       "      <td>61.8</td>\n",
       "      <td>Developing</td>\n",
       "    </tr>\n",
       "    <tr>\n",
       "      <th>172</th>\n",
       "      <td>336.0</td>\n",
       "      <td>87.0</td>\n",
       "      <td>0.0</td>\n",
       "      <td>31.8</td>\n",
       "      <td>32.0</td>\n",
       "      <td>88.0</td>\n",
       "      <td>87.0</td>\n",
       "      <td>6.2</td>\n",
       "      <td>118.693830</td>\n",
       "      <td>1.577745e+07</td>\n",
       "      <td>5.6</td>\n",
       "      <td>5.5</td>\n",
       "      <td>0.507</td>\n",
       "      <td>10.3</td>\n",
       "      <td>67.0</td>\n",
       "      <td>Developing</td>\n",
       "    </tr>\n",
       "  </tbody>\n",
       "</table>\n",
       "<p>173 rows × 16 columns</p>\n",
       "</div>"
      ],
      "text/plain": [
       "     Adult_Mortality  Hepatitis B  Measles    BMI  Underfive_Deaths   Polio  \\\n",
       "0              263.0         65.0    1154.0  19.1               83.0    6.0   \n",
       "1               74.0         99.0       0.0  58.0                0.0   99.0   \n",
       "2               19.0         95.0      63.0  59.5               24.0   95.0   \n",
       "3              335.0         64.0     118.0  23.3               98.0    7.0   \n",
       "4               13.0         99.0       0.0  47.7                0.0   86.0   \n",
       "..               ...          ...       ...   ...                ...    ...   \n",
       "168            157.0         87.0       0.0  62.1               10.0   87.0   \n",
       "169            127.0         97.0     256.0  17.5               35.0   97.0   \n",
       "170            224.0         69.0     468.0  41.3               47.0   63.0   \n",
       "171             33.0          9.0       9.0  23.4               40.0    9.0   \n",
       "172            336.0         87.0       0.0  31.8               32.0   88.0   \n",
       "\n",
       "     Diphtheria   HIV           GDP    Population  Malnourished10_19  \\\n",
       "0           65.0  0.1    584.259210  3.373649e+07               17.2   \n",
       "1           99.0  0.1   3954.227830  2.887300e+04                1.2   \n",
       "2           95.0  0.1   4132.762920  3.987153e+07                6.0   \n",
       "3           64.0  1.9   3695.793748  2.785935e+06                8.3   \n",
       "4           99.0  0.2  13566.954100  2.105266e+07                3.3   \n",
       "..           ...  ...           ...           ...                ...   \n",
       "168         87.0  0.1   6926.526855  1.724487e+07                1.6   \n",
       "169         97.0  0.1   7689.930440  1.417156e+06               14.2   \n",
       "170         69.0  0.1   1539.509068  5.998595e+06               13.6   \n",
       "171          9.0  4.1   1313.889646  1.615870e+05                6.3   \n",
       "172         87.0  6.2    118.693830  1.577745e+07                5.6   \n",
       "\n",
       "     Malnourished5_9  Income_Index  Schooling  Life_Expectancy      Status  \n",
       "0               17.3         0.479       10.1             65.0  Developing  \n",
       "1                1.3         0.762       14.2             77.8  Developing  \n",
       "2                5.8         0.743       14.4             75.6  Developing  \n",
       "3                8.2         0.531       11.4             52.4  Developing  \n",
       "4                3.3         0.784       13.9             76.4  Developing  \n",
       "..               ...           ...        ...              ...         ...  \n",
       "168              1.5         0.769       14.3             74.1  Developing  \n",
       "169             14.5         0.678       12.6             76.0  Developing  \n",
       "170             13.4         0.499        9.0             65.7  Developing  \n",
       "171              6.1         0.576       12.5             61.8  Developing  \n",
       "172              5.5         0.507       10.3             67.0  Developing  \n",
       "\n",
       "[173 rows x 16 columns]"
      ]
     },
     "execution_count": 14,
     "metadata": {},
     "output_type": "execute_result"
    }
   ],
   "source": [
    "df = pd.concat((num_data,cat_data),axis=1)\n",
    "df"
   ]
  },
  {
   "cell_type": "markdown",
   "metadata": {
    "collapsed": true
   },
   "source": [
    "<table align=\"left\">\n",
    "    <tr>\n",
    "        <td width=\"6%\">\n",
    "            <img src=\"question_icon.png\">\n",
    "        </td>\n",
    "        <td>\n",
    "            <div align=\"left\", style=\"font-size:120%\">\n",
    "                <font color=\"#21618C\">\n",
    "                    <b>4. Perform dummy encoding for appropriate variables of the dataset if required</b>\n",
    "                </font>\n",
    "            </div>\n",
    "        </td>\n",
    "    </tr>\n",
    "</table>"
   ]
  },
  {
   "cell_type": "code",
   "execution_count": 15,
   "metadata": {
    "scrolled": true
   },
   "outputs": [],
   "source": [
    "# type your code here\n",
    "df = pd.get_dummies(df,drop_first=True)"
   ]
  },
  {
   "cell_type": "markdown",
   "metadata": {},
   "source": [
    "<a id=\"lf\"> </a>\n",
    "## 2. Linear Regression"
   ]
  },
  {
   "cell_type": "markdown",
   "metadata": {
    "collapsed": true
   },
   "source": [
    "<table align=\"left\">\n",
    "    <tr>\n",
    "        <td width=\"6%\">\n",
    "            <img src=\"question_icon.png\">\n",
    "        </td>\n",
    "        <td>\n",
    "            <div align=\"left\", style=\"font-size:120%\">\n",
    "                <font color=\"#21618C\">\n",
    "                    <b>5.  Build a full model on the given data. Check whether the obtained residuals have constant variance\n",
    "</b>\n",
    "                </font>\n",
    "            </div>\n",
    "        </td>\n",
    "    </tr>\n",
    "</table>"
   ]
  },
  {
   "cell_type": "code",
   "execution_count": 16,
   "metadata": {},
   "outputs": [],
   "source": [
    "import statsmodels.api as sm"
   ]
  },
  {
   "cell_type": "code",
   "execution_count": 17,
   "metadata": {},
   "outputs": [
    {
     "name": "stdout",
     "output_type": "stream",
     "text": [
      "-1.659830672906537e-08\n"
     ]
    },
    {
     "data": {
      "image/png": "[encoded data removed]",
      "text/plain": [
       "<Figure size 432x288 with 1 Axes>"
      ]
     },
     "metadata": {
      "needs_background": "light"
     },
     "output_type": "display_data"
    }
   ],
   "source": [
    "# type your code here\n",
    "inp = df.drop('Life_Expectancy',axis = 1)\n",
    "out = df['Life_Expectancy']\n",
    "inpc = sm.add_constant(inp)\n",
    "ols = sm.OLS(out,inpc)\n",
    "ols_mod = ols.fit()\n",
    "ols_mod.summary()\n",
    "print(ols_mod.resid.sum())\n",
    "sns.scatterplot(ols_mod.predict(),ols_mod.resid)\n",
    "plt.show()"
   ]
  },
  {
   "cell_type": "markdown",
   "metadata": {
    "collapsed": true
   },
   "source": [
    "<table align=\"left\">\n",
    "    <tr>\n",
    "        <td width=\"6%\">\n",
    "            <img src=\"question_icon.png\">\n",
    "        </td>\n",
    "        <td>\n",
    "            <div align=\"left\", style=\"font-size:120%\">\n",
    "                <font color=\"#21618C\">\n",
    "                    <b>6. Build a model to study the impact of immunization on life expectancy, using least squares regression. Find the unexplained variation for the model\n",
    "</b>\n",
    "                </font>\n",
    "            </div>\n",
    "        </td>\n",
    "    </tr>\n",
    "</table>"
   ]
  },
  {
   "cell_type": "code",
   "execution_count": 18,
   "metadata": {},
   "outputs": [
    {
     "data": {
      "text/html": [
       "<table class=\"simpletable\">\n",
       "<caption>OLS Regression Results</caption>\n",
       "<tr>\n",
       "  <th>Dep. Variable:</th>     <td>Life_Expectancy</td> <th>  R-squared:         </th> <td>   0.342</td>\n",
       "</tr>\n",
       "<tr>\n",
       "  <th>Model:</th>                   <td>OLS</td>       <th>  Adj. R-squared:    </th> <td>   0.331</td>\n",
       "</tr>\n",
       "<tr>\n",
       "  <th>Method:</th>             <td>Least Squares</td>  <th>  F-statistic:       </th> <td>   29.31</td>\n",
       "</tr>\n",
       "<tr>\n",
       "  <th>Date:</th>             <td>Fri, 02 Oct 2020</td> <th>  Prob (F-statistic):</th> <td>2.61e-15</td>\n",
       "</tr>\n",
       "<tr>\n",
       "  <th>Time:</th>                 <td>16:18:01</td>     <th>  Log-Likelihood:    </th> <td> -569.18</td>\n",
       "</tr>\n",
       "<tr>\n",
       "  <th>No. Observations:</th>      <td>   173</td>      <th>  AIC:               </th> <td>   1146.</td>\n",
       "</tr>\n",
       "<tr>\n",
       "  <th>Df Residuals:</th>          <td>   169</td>      <th>  BIC:               </th> <td>   1159.</td>\n",
       "</tr>\n",
       "<tr>\n",
       "  <th>Df Model:</th>              <td>     3</td>      <th>                     </th>     <td> </td>   \n",
       "</tr>\n",
       "<tr>\n",
       "  <th>Covariance Type:</th>      <td>nonrobust</td>    <th>                     </th>     <td> </td>   \n",
       "</tr>\n",
       "</table>\n",
       "<table class=\"simpletable\">\n",
       "<tr>\n",
       "       <td></td>          <th>coef</th>     <th>std err</th>      <th>t</th>      <th>P>|t|</th>  <th>[0.025</th>    <th>0.975]</th>  \n",
       "</tr>\n",
       "<tr>\n",
       "  <th>const</th>       <td>   53.9433</td> <td>    2.022</td> <td>   26.683</td> <td> 0.000</td> <td>   49.952</td> <td>   57.934</td>\n",
       "</tr>\n",
       "<tr>\n",
       "  <th>Diphtheria </th> <td>    0.1440</td> <td>    0.059</td> <td>    2.459</td> <td> 0.015</td> <td>    0.028</td> <td>    0.260</td>\n",
       "</tr>\n",
       "<tr>\n",
       "  <th>Polio</th>       <td>    0.1107</td> <td>    0.027</td> <td>    4.127</td> <td> 0.000</td> <td>    0.058</td> <td>    0.164</td>\n",
       "</tr>\n",
       "<tr>\n",
       "  <th>Hepatitis B</th> <td>   -0.0398</td> <td>    0.052</td> <td>   -0.771</td> <td> 0.442</td> <td>   -0.142</td> <td>    0.062</td>\n",
       "</tr>\n",
       "</table>\n",
       "<table class=\"simpletable\">\n",
       "<tr>\n",
       "  <th>Omnibus:</th>       <td> 6.613</td> <th>  Durbin-Watson:     </th> <td>   2.033</td>\n",
       "</tr>\n",
       "<tr>\n",
       "  <th>Prob(Omnibus):</th> <td> 0.037</td> <th>  Jarque-Bera (JB):  </th> <td>   6.844</td>\n",
       "</tr>\n",
       "<tr>\n",
       "  <th>Skew:</th>          <td>-0.480</td> <th>  Prob(JB):          </th> <td>  0.0326</td>\n",
       "</tr>\n",
       "<tr>\n",
       "  <th>Kurtosis:</th>      <td> 2.835</td> <th>  Cond. No.          </th> <td>    604.</td>\n",
       "</tr>\n",
       "</table><br/><br/>Warnings:<br/>[1] Standard Errors assume that the covariance matrix of the errors is correctly specified."
      ],
      "text/plain": [
       "<class 'statsmodels.iolib.summary.Summary'>\n",
       "\"\"\"\n",
       "                            OLS Regression Results                            \n",
       "==============================================================================\n",
       "Dep. Variable:        Life_Expectancy   R-squared:                       0.342\n",
       "Model:                            OLS   Adj. R-squared:                  0.331\n",
       "Method:                 Least Squares   F-statistic:                     29.31\n",
       "Date:                Fri, 02 Oct 2020   Prob (F-statistic):           2.61e-15\n",
       "Time:                        16:18:01   Log-Likelihood:                -569.18\n",
       "No. Observations:                 173   AIC:                             1146.\n",
       "Df Residuals:                     169   BIC:                             1159.\n",
       "Df Model:                           3                                         \n",
       "Covariance Type:            nonrobust                                         \n",
       "===============================================================================\n",
       "                  coef    std err          t      P>|t|      [0.025      0.975]\n",
       "-------------------------------------------------------------------------------\n",
       "const          53.9433      2.022     26.683      0.000      49.952      57.934\n",
       "Diphtheria      0.1440      0.059      2.459      0.015       0.028       0.260\n",
       "Polio           0.1107      0.027      4.127      0.000       0.058       0.164\n",
       "Hepatitis B    -0.0398      0.052     -0.771      0.442      -0.142       0.062\n",
       "==============================================================================\n",
       "Omnibus:                        6.613   Durbin-Watson:                   2.033\n",
       "Prob(Omnibus):                  0.037   Jarque-Bera (JB):                6.844\n",
       "Skew:                          -0.480   Prob(JB):                       0.0326\n",
       "Kurtosis:                       2.835   Cond. No.                         604.\n",
       "==============================================================================\n",
       "\n",
       "Warnings:\n",
       "[1] Standard Errors assume that the covariance matrix of the errors is correctly specified.\n",
       "\"\"\""
      ]
     },
     "execution_count": 18,
     "metadata": {},
     "output_type": "execute_result"
    }
   ],
   "source": [
    "inp = df[['Diphtheria ','Polio','Hepatitis B']]\n",
    "out = df['Life_Expectancy']\n",
    "inpc = sm.add_constant(inp)\n",
    "ols = sm.OLS(out,inpc)\n",
    "ols_mod = ols.fit()\n",
    "ols_mod.summary()"
   ]
  },
  {
   "cell_type": "code",
   "execution_count": 19,
   "metadata": {},
   "outputs": [],
   "source": [
    "# Polio is not a significant feature as P(t-stat) >0.05\n",
    "# Diptheria is a significant feature as P(t-stat)  < 0.05\n",
    "# Hepatitis b is not a significant feature as P(t-stat) > 0.05"
   ]
  },
  {
   "cell_type": "markdown",
   "metadata": {
    "collapsed": true
   },
   "source": [
    "<table align=\"left\">\n",
    "    <tr>\n",
    "        <td width=\"6%\">\n",
    "            <img src=\"question_icon.png\">\n",
    "        </td>\n",
    "        <td>\n",
    "            <div align=\"left\", style=\"font-size:120%\">\n",
    "                <font color=\"#21618C\">\n",
    "                    <b>7. Build a model to study the impact of malnutrition on life expectancy, using least squares regression. Interpret the coeffients</b>\n",
    "                </font>\n",
    "            </div>\n",
    "        </td>\n",
    "    </tr>\n",
    "</table>"
   ]
  },
  {
   "cell_type": "code",
   "execution_count": 20,
   "metadata": {},
   "outputs": [
    {
     "data": {
      "text/html": [
       "<table class=\"simpletable\">\n",
       "<caption>OLS Regression Results</caption>\n",
       "<tr>\n",
       "  <th>Dep. Variable:</th>     <td>Life_Expectancy</td> <th>  R-squared:         </th> <td>   0.240</td>\n",
       "</tr>\n",
       "<tr>\n",
       "  <th>Model:</th>                   <td>OLS</td>       <th>  Adj. R-squared:    </th> <td>   0.231</td>\n",
       "</tr>\n",
       "<tr>\n",
       "  <th>Method:</th>             <td>Least Squares</td>  <th>  F-statistic:       </th> <td>   26.87</td>\n",
       "</tr>\n",
       "<tr>\n",
       "  <th>Date:</th>             <td>Fri, 02 Oct 2020</td> <th>  Prob (F-statistic):</th> <td>7.25e-11</td>\n",
       "</tr>\n",
       "<tr>\n",
       "  <th>Time:</th>                 <td>16:18:02</td>     <th>  Log-Likelihood:    </th> <td> -581.66</td>\n",
       "</tr>\n",
       "<tr>\n",
       "  <th>No. Observations:</th>      <td>   173</td>      <th>  AIC:               </th> <td>   1169.</td>\n",
       "</tr>\n",
       "<tr>\n",
       "  <th>Df Residuals:</th>          <td>   170</td>      <th>  BIC:               </th> <td>   1179.</td>\n",
       "</tr>\n",
       "<tr>\n",
       "  <th>Df Model:</th>              <td>     2</td>      <th>                     </th>     <td> </td>   \n",
       "</tr>\n",
       "<tr>\n",
       "  <th>Covariance Type:</th>      <td>nonrobust</td>    <th>                     </th>     <td> </td>   \n",
       "</tr>\n",
       "</table>\n",
       "<table class=\"simpletable\">\n",
       "<tr>\n",
       "          <td></td>             <th>coef</th>     <th>std err</th>      <th>t</th>      <th>P>|t|</th>  <th>[0.025</th>    <th>0.975]</th>  \n",
       "</tr>\n",
       "<tr>\n",
       "  <th>const</th>             <td>   76.3263</td> <td>    0.797</td> <td>   95.808</td> <td> 0.000</td> <td>   74.754</td> <td>   77.899</td>\n",
       "</tr>\n",
       "<tr>\n",
       "  <th>Malnourished10_19</th> <td>   -0.4515</td> <td>    0.557</td> <td>   -0.810</td> <td> 0.419</td> <td>   -1.552</td> <td>    0.649</td>\n",
       "</tr>\n",
       "<tr>\n",
       "  <th>Malnourished5_9</th>   <td>   -0.4933</td> <td>    0.546</td> <td>   -0.903</td> <td> 0.368</td> <td>   -1.572</td> <td>    0.585</td>\n",
       "</tr>\n",
       "</table>\n",
       "<table class=\"simpletable\">\n",
       "<tr>\n",
       "  <th>Omnibus:</th>       <td> 5.222</td> <th>  Durbin-Watson:     </th> <td>   1.883</td>\n",
       "</tr>\n",
       "<tr>\n",
       "  <th>Prob(Omnibus):</th> <td> 0.073</td> <th>  Jarque-Bera (JB):  </th> <td>   5.331</td>\n",
       "</tr>\n",
       "<tr>\n",
       "  <th>Skew:</th>          <td>-0.422</td> <th>  Prob(JB):          </th> <td>  0.0696</td>\n",
       "</tr>\n",
       "<tr>\n",
       "  <th>Kurtosis:</th>      <td> 2.837</td> <th>  Cond. No.          </th> <td>    13.2</td>\n",
       "</tr>\n",
       "</table><br/><br/>Warnings:<br/>[1] Standard Errors assume that the covariance matrix of the errors is correctly specified."
      ],
      "text/plain": [
       "<class 'statsmodels.iolib.summary.Summary'>\n",
       "\"\"\"\n",
       "                            OLS Regression Results                            \n",
       "==============================================================================\n",
       "Dep. Variable:        Life_Expectancy   R-squared:                       0.240\n",
       "Model:                            OLS   Adj. R-squared:                  0.231\n",
       "Method:                 Least Squares   F-statistic:                     26.87\n",
       "Date:                Fri, 02 Oct 2020   Prob (F-statistic):           7.25e-11\n",
       "Time:                        16:18:02   Log-Likelihood:                -581.66\n",
       "No. Observations:                 173   AIC:                             1169.\n",
       "Df Residuals:                     170   BIC:                             1179.\n",
       "Df Model:                           2                                         \n",
       "Covariance Type:            nonrobust                                         \n",
       "=====================================================================================\n",
       "                        coef    std err          t      P>|t|      [0.025      0.975]\n",
       "-------------------------------------------------------------------------------------\n",
       "const                76.3263      0.797     95.808      0.000      74.754      77.899\n",
       "Malnourished10_19    -0.4515      0.557     -0.810      0.419      -1.552       0.649\n",
       "Malnourished5_9      -0.4933      0.546     -0.903      0.368      -1.572       0.585\n",
       "==============================================================================\n",
       "Omnibus:                        5.222   Durbin-Watson:                   1.883\n",
       "Prob(Omnibus):                  0.073   Jarque-Bera (JB):                5.331\n",
       "Skew:                          -0.422   Prob(JB):                       0.0696\n",
       "Kurtosis:                       2.837   Cond. No.                         13.2\n",
       "==============================================================================\n",
       "\n",
       "Warnings:\n",
       "[1] Standard Errors assume that the covariance matrix of the errors is correctly specified.\n",
       "\"\"\""
      ]
     },
     "execution_count": 20,
     "metadata": {},
     "output_type": "execute_result"
    }
   ],
   "source": [
    "# type your code here\n",
    "inp = df[['Malnourished10_19','Malnourished5_9']]\n",
    "out = df['Life_Expectancy']\n",
    "inpc = sm.add_constant(inp)\n",
    "ols = sm.OLS(out,inpc)\n",
    "ols_mod = ols.fit()\n",
    "ols_mod.summary()"
   ]
  },
  {
   "cell_type": "code",
   "execution_count": 21,
   "metadata": {},
   "outputs": [],
   "source": [
    "# Malnourished10_19 is not a significant feature as P(t-stat) > 0.05\n",
    "# Malnourished5_9 is not a significant feature as P(t-stat)  > 0.05"
   ]
  },
  {
   "cell_type": "markdown",
   "metadata": {},
   "source": [
    "<a id=\"gd\"> </a>\n",
    "## 3. Gradient Descent"
   ]
  },
  {
   "cell_type": "markdown",
   "metadata": {
    "collapsed": true
   },
   "source": [
    "<table align=\"left\">\n",
    "    <tr>\n",
    "        <td width=\"6%\">\n",
    "            <img src=\"question_icon.png\">\n",
    "        </td>\n",
    "        <td>\n",
    "            <div align=\"left\", style=\"font-size:120%\">\n",
    "                <font color=\"#21618C\">\n",
    "                    <b>8. Build a model to study the influence of adult mortality rate on life expectancy using both the least squares regression and gradient descent approach. Are the fits for both the models different?</b>\n",
    "                </font>\n",
    "            </div>\n",
    "        </td>\n",
    "    </tr>\n",
    "</table>"
   ]
  },
  {
   "cell_type": "code",
   "execution_count": 62,
   "metadata": {},
   "outputs": [],
   "source": [
    "from sklearn.preprocessing import StandardScaler\n",
    "sc=StandardScaler()\n",
    "data_sc=sc.fit_transform(df)\n",
    "data_sc=pd.DataFrame(data_sc,columns=df.columns)"
   ]
  },
  {
   "cell_type": "code",
   "execution_count": 23,
   "metadata": {},
   "outputs": [
    {
     "data": {
      "text/html": [
       "<table class=\"simpletable\">\n",
       "<caption>OLS Regression Results</caption>\n",
       "<tr>\n",
       "  <th>Dep. Variable:</th>     <td>Life_Expectancy</td> <th>  R-squared:         </th> <td>   0.599</td>\n",
       "</tr>\n",
       "<tr>\n",
       "  <th>Model:</th>                   <td>OLS</td>       <th>  Adj. R-squared:    </th> <td>   0.597</td>\n",
       "</tr>\n",
       "<tr>\n",
       "  <th>Method:</th>             <td>Least Squares</td>  <th>  F-statistic:       </th> <td>   255.3</td>\n",
       "</tr>\n",
       "<tr>\n",
       "  <th>Date:</th>             <td>Fri, 02 Oct 2020</td> <th>  Prob (F-statistic):</th> <td>9.38e-36</td>\n",
       "</tr>\n",
       "<tr>\n",
       "  <th>Time:</th>                 <td>16:18:02</td>     <th>  Log-Likelihood:    </th> <td> -166.45</td>\n",
       "</tr>\n",
       "<tr>\n",
       "  <th>No. Observations:</th>      <td>   173</td>      <th>  AIC:               </th> <td>   336.9</td>\n",
       "</tr>\n",
       "<tr>\n",
       "  <th>Df Residuals:</th>          <td>   171</td>      <th>  BIC:               </th> <td>   343.2</td>\n",
       "</tr>\n",
       "<tr>\n",
       "  <th>Df Model:</th>              <td>     1</td>      <th>                     </th>     <td> </td>   \n",
       "</tr>\n",
       "<tr>\n",
       "  <th>Covariance Type:</th>      <td>nonrobust</td>    <th>                     </th>     <td> </td>   \n",
       "</tr>\n",
       "</table>\n",
       "<table class=\"simpletable\">\n",
       "<tr>\n",
       "         <td></td>            <th>coef</th>     <th>std err</th>      <th>t</th>      <th>P>|t|</th>  <th>[0.025</th>    <th>0.975]</th>  \n",
       "</tr>\n",
       "<tr>\n",
       "  <th>const</th>           <td> 3.331e-16</td> <td>    0.048</td> <td> 6.88e-15</td> <td> 1.000</td> <td>   -0.096</td> <td>    0.096</td>\n",
       "</tr>\n",
       "<tr>\n",
       "  <th>Adult_Mortality</th> <td>   -0.7739</td> <td>    0.048</td> <td>  -15.979</td> <td> 0.000</td> <td>   -0.869</td> <td>   -0.678</td>\n",
       "</tr>\n",
       "</table>\n",
       "<table class=\"simpletable\">\n",
       "<tr>\n",
       "  <th>Omnibus:</th>       <td>75.666</td> <th>  Durbin-Watson:     </th> <td>   2.010</td>\n",
       "</tr>\n",
       "<tr>\n",
       "  <th>Prob(Omnibus):</th> <td> 0.000</td> <th>  Jarque-Bera (JB):  </th> <td> 253.048</td>\n",
       "</tr>\n",
       "<tr>\n",
       "  <th>Skew:</th>          <td>-1.761</td> <th>  Prob(JB):          </th> <td>1.13e-55</td>\n",
       "</tr>\n",
       "<tr>\n",
       "  <th>Kurtosis:</th>      <td> 7.764</td> <th>  Cond. No.          </th> <td>    1.00</td>\n",
       "</tr>\n",
       "</table><br/><br/>Warnings:<br/>[1] Standard Errors assume that the covariance matrix of the errors is correctly specified."
      ],
      "text/plain": [
       "<class 'statsmodels.iolib.summary.Summary'>\n",
       "\"\"\"\n",
       "                            OLS Regression Results                            \n",
       "==============================================================================\n",
       "Dep. Variable:        Life_Expectancy   R-squared:                       0.599\n",
       "Model:                            OLS   Adj. R-squared:                  0.597\n",
       "Method:                 Least Squares   F-statistic:                     255.3\n",
       "Date:                Fri, 02 Oct 2020   Prob (F-statistic):           9.38e-36\n",
       "Time:                        16:18:02   Log-Likelihood:                -166.45\n",
       "No. Observations:                 173   AIC:                             336.9\n",
       "Df Residuals:                     171   BIC:                             343.2\n",
       "Df Model:                           1                                         \n",
       "Covariance Type:            nonrobust                                         \n",
       "===================================================================================\n",
       "                      coef    std err          t      P>|t|      [0.025      0.975]\n",
       "-----------------------------------------------------------------------------------\n",
       "const            3.331e-16      0.048   6.88e-15      1.000      -0.096       0.096\n",
       "Adult_Mortality    -0.7739      0.048    -15.979      0.000      -0.869      -0.678\n",
       "==============================================================================\n",
       "Omnibus:                       75.666   Durbin-Watson:                   2.010\n",
       "Prob(Omnibus):                  0.000   Jarque-Bera (JB):              253.048\n",
       "Skew:                          -1.761   Prob(JB):                     1.13e-55\n",
       "Kurtosis:                       7.764   Cond. No.                         1.00\n",
       "==============================================================================\n",
       "\n",
       "Warnings:\n",
       "[1] Standard Errors assume that the covariance matrix of the errors is correctly specified.\n",
       "\"\"\""
      ]
     },
     "execution_count": 23,
     "metadata": {},
     "output_type": "execute_result"
    }
   ],
   "source": [
    "# type your code here\n",
    "\n",
    "inp = data_sc[['Adult_Mortality']]\n",
    "out = data_sc['Life_Expectancy']\n",
    "inpc = sm.add_constant(inp)\n",
    "ols = sm.OLS(out,inpc)\n",
    "ols_mod = ols.fit()\n",
    "ols_mod.summary()"
   ]
  },
  {
   "cell_type": "code",
   "execution_count": 24,
   "metadata": {},
   "outputs": [],
   "source": [
    "from sklearn.linear_model import SGDRegressor\n",
    "from sklearn.metrics import r2_score,mean_squared_error"
   ]
  },
  {
   "cell_type": "code",
   "execution_count": 25,
   "metadata": {},
   "outputs": [
    {
     "data": {
      "text/plain": [
       "0.5986944802919478"
      ]
     },
     "execution_count": 25,
     "metadata": {},
     "output_type": "execute_result"
    }
   ],
   "source": [
    "sgd = SGDRegressor()\n",
    "sgd.fit(inp,out)\n",
    "ypred = sgd.predict(inp)\n",
    "r2 = r2_score(out,ypred)\n",
    "r2"
   ]
  },
  {
   "cell_type": "code",
   "execution_count": 26,
   "metadata": {},
   "outputs": [
    {
     "data": {
      "text/plain": [
       "array([-0.75954301])"
      ]
     },
     "execution_count": 26,
     "metadata": {},
     "output_type": "execute_result"
    }
   ],
   "source": [
    "sgd.coef_"
   ]
  },
  {
   "cell_type": "code",
   "execution_count": null,
   "metadata": {},
   "outputs": [],
   "source": []
  },
  {
   "cell_type": "markdown",
   "metadata": {
    "collapsed": true
   },
   "source": [
    "<table align=\"left\">\n",
    "    <tr>\n",
    "        <td width=\"6%\">\n",
    "            <img src=\"question_icon.png\">\n",
    "        </td>\n",
    "        <td>\n",
    "            <div align=\"left\", style=\"font-size:120%\">\n",
    "                <font color=\"#21618C\">\n",
    "                    <b>9. Build a model to analyze the influence of immunization on life expectancy. Use SGD and plot a horizontal multiple barchart to compare the values of beta coefficients with values obtained by the full model build least squares regression.</b>\n",
    "                </font>\n",
    "            </div>\n",
    "        </td>\n",
    "    </tr>\n",
    "</table>"
   ]
  },
  {
   "cell_type": "code",
   "execution_count": 29,
   "metadata": {},
   "outputs": [
    {
     "data": {
      "text/plain": [
       "array([ 0.40674649,  0.34222688, -0.11963392])"
      ]
     },
     "execution_count": 29,
     "metadata": {},
     "output_type": "execute_result"
    }
   ],
   "source": [
    "from sklearn.linear_model import LinearRegression,Ridge,Lasso\n",
    "inp = data_sc[['Diphtheria ','Polio','Hepatitis B']]\n",
    "lr = LinearRegression()\n",
    "lr.fit(inp,out)\n",
    "ypred = lr.predict(inp)\n",
    "r2 = r2_score(out,ypred)\n",
    "lr.coef_"
   ]
  },
  {
   "cell_type": "code",
   "execution_count": 30,
   "metadata": {},
   "outputs": [
    {
     "data": {
      "text/plain": [
       "array([0.22564445, 0.32622371, 0.0726312 ])"
      ]
     },
     "execution_count": 30,
     "metadata": {},
     "output_type": "execute_result"
    }
   ],
   "source": [
    "# type your code here\n",
    "inp = data_sc[['Diphtheria ','Polio','Hepatitis B']]\n",
    "sgd = SGDRegressor()\n",
    "sgd.fit(inp,out)\n",
    "ypred = sgd.predict(inp)\n",
    "r2 = r2_score(out,ypred)\n",
    "sgd.coef_"
   ]
  },
  {
   "cell_type": "code",
   "execution_count": 31,
   "metadata": {},
   "outputs": [
    {
     "data": {
      "text/html": [
       "<div>\n",
       "<style scoped>\n",
       "    .dataframe tbody tr th:only-of-type {\n",
       "        vertical-align: middle;\n",
       "    }\n",
       "\n",
       "    .dataframe tbody tr th {\n",
       "        vertical-align: top;\n",
       "    }\n",
       "\n",
       "    .dataframe thead th {\n",
       "        text-align: right;\n",
       "    }\n",
       "</style>\n",
       "<table border=\"1\" class=\"dataframe\">\n",
       "  <thead>\n",
       "    <tr style=\"text-align: right;\">\n",
       "      <th></th>\n",
       "      <th>LR</th>\n",
       "      <th>SGD</th>\n",
       "    </tr>\n",
       "  </thead>\n",
       "  <tbody>\n",
       "    <tr>\n",
       "      <th>Diphtheria</th>\n",
       "      <td>0.406746</td>\n",
       "      <td>0.225644</td>\n",
       "    </tr>\n",
       "    <tr>\n",
       "      <th>Polio</th>\n",
       "      <td>0.342227</td>\n",
       "      <td>0.326224</td>\n",
       "    </tr>\n",
       "    <tr>\n",
       "      <th>Hepatitis B</th>\n",
       "      <td>-0.119634</td>\n",
       "      <td>0.072631</td>\n",
       "    </tr>\n",
       "  </tbody>\n",
       "</table>\n",
       "</div>"
      ],
      "text/plain": [
       "                   LR       SGD\n",
       "Diphtheria   0.406746  0.225644\n",
       "Polio        0.342227  0.326224\n",
       "Hepatitis B -0.119634  0.072631"
      ]
     },
     "execution_count": 31,
     "metadata": {},
     "output_type": "execute_result"
    }
   ],
   "source": [
    "coeff = pd.DataFrame()\n",
    "coeff['LR'] = lr.coef_\n",
    "coeff['SGD'] = sgd.coef_\n",
    "coeff.index = inp.columns\n",
    "coeff"
   ]
  },
  {
   "cell_type": "code",
   "execution_count": 32,
   "metadata": {},
   "outputs": [
    {
     "data": {
      "image/png": "[encoded data removed]",
      "text/plain": [
       "<Figure size 432x288 with 1 Axes>"
      ]
     },
     "metadata": {
      "needs_background": "light"
     },
     "output_type": "display_data"
    }
   ],
   "source": [
    "coeff.plot(kind='bar')\n",
    "plt.show()"
   ]
  },
  {
   "cell_type": "markdown",
   "metadata": {
    "collapsed": true
   },
   "source": [
    "<table align=\"left\">\n",
    "    <tr>\n",
    "        <td width=\"6%\">\n",
    "            <img src=\"question_icon.png\">\n",
    "        </td>\n",
    "        <td>\n",
    "            <div align=\"left\", style=\"font-size:120%\">\n",
    "                <font color=\"#21618C\">\n",
    "                    <b>10. Build a full model using least squares regression. Check whether the model overfits the training data or not.\n",
    "</b>\n",
    "                </font>\n",
    "            </div>\n",
    "        </td>\n",
    "    </tr>\n",
    "</table>"
   ]
  },
  {
   "cell_type": "code",
   "execution_count": 36,
   "metadata": {},
   "outputs": [],
   "source": [
    "from sklearn.preprocessing import StandardScaler\n",
    "sc=StandardScaler()\n",
    "inp_sc=sc.fit_transform(inp)\n",
    "inp_sc=pd.DataFrame(inp_sc,columns=inp.columns)"
   ]
  },
  {
   "cell_type": "code",
   "execution_count": 75,
   "metadata": {},
   "outputs": [],
   "source": [
    "# type your code here\n",
    "from sklearn.model_selection import train_test_split\n",
    "inp = data_sc.drop('Life_Expectancy',axis = 1)\n",
    "out = data_sc['Life_Expectancy']\n",
    "xtrain,xtest,ytrain,ytest = train_test_split(inp,out,test_size = 0.3,random_state = 48)"
   ]
  },
  {
   "cell_type": "code",
   "execution_count": 81,
   "metadata": {},
   "outputs": [
    {
     "data": {
      "text/plain": [
       "0.28534166359045"
      ]
     },
     "execution_count": 81,
     "metadata": {},
     "output_type": "execute_result"
    }
   ],
   "source": [
    "from sklearn.model_selection import cross_val_score\n",
    "lr = LinearRegression()\n",
    "mse = abs(cross_val_score(lr,xtrain,ytrain,cv=5,scoring='neg_mean_squared_error'))\n",
    "cva = np.std(mse)/np.mean(mse)\n",
    "cva # as the co-efficient of variance is 0.28, the model is variating 28%. So the model is overfitting model."
   ]
  },
  {
   "cell_type": "markdown",
   "metadata": {
    "collapsed": true
   },
   "source": [
    "<table align=\"left\">\n",
    "    <tr>\n",
    "        <td width=\"6%\">\n",
    "            <img src=\"question_icon.png\">\n",
    "        </td>\n",
    "        <td>\n",
    "            <div align=\"left\", style=\"font-size:120%\">\n",
    "                <font color=\"#21618C\">\n",
    "                    <b>11. Can we use a linear regression model to analyze how all features from the dataset impact life expectancy?</b>\n",
    "                </font>\n",
    "            </div>\n",
    "        </td>\n",
    "    </tr>\n",
    "</table>"
   ]
  },
  {
   "cell_type": "code",
   "execution_count": 34,
   "metadata": {},
   "outputs": [],
   "source": [
    "# type your code here\n",
    "# As my target variable is continuous data we can use Linear Regression.\n",
    "# We need to check all the assumptions are satisfied or not."
   ]
  },
  {
   "cell_type": "code",
   "execution_count": 84,
   "metadata": {},
   "outputs": [
    {
     "data": {
      "text/html": [
       "<div>\n",
       "<style scoped>\n",
       "    .dataframe tbody tr th:only-of-type {\n",
       "        vertical-align: middle;\n",
       "    }\n",
       "\n",
       "    .dataframe tbody tr th {\n",
       "        vertical-align: top;\n",
       "    }\n",
       "\n",
       "    .dataframe thead th {\n",
       "        text-align: right;\n",
       "    }\n",
       "</style>\n",
       "<table border=\"1\" class=\"dataframe\">\n",
       "  <thead>\n",
       "    <tr style=\"text-align: right;\">\n",
       "      <th></th>\n",
       "      <th>VIF</th>\n",
       "      <th>Feature</th>\n",
       "    </tr>\n",
       "  </thead>\n",
       "  <tbody>\n",
       "    <tr>\n",
       "      <th>12</th>\n",
       "      <td>178.408692</td>\n",
       "      <td>Income_Index</td>\n",
       "    </tr>\n",
       "    <tr>\n",
       "      <th>13</th>\n",
       "      <td>148.919827</td>\n",
       "      <td>Schooling</td>\n",
       "    </tr>\n",
       "    <tr>\n",
       "      <th>6</th>\n",
       "      <td>115.956799</td>\n",
       "      <td>Diphtheria</td>\n",
       "    </tr>\n",
       "    <tr>\n",
       "      <th>1</th>\n",
       "      <td>84.203184</td>\n",
       "      <td>Hepatitis B</td>\n",
       "    </tr>\n",
       "    <tr>\n",
       "      <th>10</th>\n",
       "      <td>46.492019</td>\n",
       "      <td>Malnourished10_19</td>\n",
       "    </tr>\n",
       "    <tr>\n",
       "      <th>11</th>\n",
       "      <td>46.052577</td>\n",
       "      <td>Malnourished5_9</td>\n",
       "    </tr>\n",
       "    <tr>\n",
       "      <th>5</th>\n",
       "      <td>25.841489</td>\n",
       "      <td>Polio</td>\n",
       "    </tr>\n",
       "    <tr>\n",
       "      <th>3</th>\n",
       "      <td>9.758160</td>\n",
       "      <td>BMI</td>\n",
       "    </tr>\n",
       "    <tr>\n",
       "      <th>14</th>\n",
       "      <td>7.010269</td>\n",
       "      <td>Status_Developing</td>\n",
       "    </tr>\n",
       "    <tr>\n",
       "      <th>0</th>\n",
       "      <td>6.842320</td>\n",
       "      <td>Adult_Mortality</td>\n",
       "    </tr>\n",
       "    <tr>\n",
       "      <th>4</th>\n",
       "      <td>3.985354</td>\n",
       "      <td>Underfive_Deaths</td>\n",
       "    </tr>\n",
       "    <tr>\n",
       "      <th>2</th>\n",
       "      <td>2.844972</td>\n",
       "      <td>Measles</td>\n",
       "    </tr>\n",
       "    <tr>\n",
       "      <th>7</th>\n",
       "      <td>2.361382</td>\n",
       "      <td>HIV</td>\n",
       "    </tr>\n",
       "    <tr>\n",
       "      <th>8</th>\n",
       "      <td>2.042996</td>\n",
       "      <td>GDP</td>\n",
       "    </tr>\n",
       "    <tr>\n",
       "      <th>9</th>\n",
       "      <td>1.501572</td>\n",
       "      <td>Population</td>\n",
       "    </tr>\n",
       "  </tbody>\n",
       "</table>\n",
       "</div>"
      ],
      "text/plain": [
       "           VIF            Feature\n",
       "12  178.408692       Income_Index\n",
       "13  148.919827          Schooling\n",
       "6   115.956799        Diphtheria \n",
       "1    84.203184        Hepatitis B\n",
       "10   46.492019  Malnourished10_19\n",
       "11   46.052577    Malnourished5_9\n",
       "5    25.841489              Polio\n",
       "3     9.758160                BMI\n",
       "14    7.010269  Status_Developing\n",
       "0     6.842320    Adult_Mortality\n",
       "4     3.985354  Underfive_Deaths \n",
       "2     2.844972           Measles \n",
       "7     2.361382                HIV\n",
       "8     2.042996                GDP\n",
       "9     1.501572         Population"
      ]
     },
     "execution_count": 84,
     "metadata": {},
     "output_type": "execute_result"
    }
   ],
   "source": [
    "#Multicollinearity\n",
    "from statsmodels.stats.outliers_influence import variance_inflation_factor\n",
    "vif = pd.DataFrame()\n",
    "inp = df.drop('Life_Expectancy',axis = 1)\n",
    "out = df['Life_Expectancy']\n",
    "vif['VIF'] = [variance_inflation_factor(inp.values,i) for i in range(inp.shape[1])]\n",
    "vif['Feature'] = inp.columns\n",
    "vif = vif.sort_values('VIF',ascending=False)\n",
    "vif"
   ]
  },
  {
   "cell_type": "code",
   "execution_count": 85,
   "metadata": {},
   "outputs": [
    {
     "data": {
      "text/html": [
       "<div>\n",
       "<style scoped>\n",
       "    .dataframe tbody tr th:only-of-type {\n",
       "        vertical-align: middle;\n",
       "    }\n",
       "\n",
       "    .dataframe tbody tr th {\n",
       "        vertical-align: top;\n",
       "    }\n",
       "\n",
       "    .dataframe thead th {\n",
       "        text-align: right;\n",
       "    }\n",
       "</style>\n",
       "<table border=\"1\" class=\"dataframe\">\n",
       "  <thead>\n",
       "    <tr style=\"text-align: right;\">\n",
       "      <th></th>\n",
       "      <th>VIF</th>\n",
       "      <th>Feature</th>\n",
       "    </tr>\n",
       "  </thead>\n",
       "  <tbody>\n",
       "    <tr>\n",
       "      <th>6</th>\n",
       "      <td>112.589845</td>\n",
       "      <td>Diphtheria</td>\n",
       "    </tr>\n",
       "    <tr>\n",
       "      <th>1</th>\n",
       "      <td>82.219492</td>\n",
       "      <td>Hepatitis B</td>\n",
       "    </tr>\n",
       "    <tr>\n",
       "      <th>10</th>\n",
       "      <td>46.471863</td>\n",
       "      <td>Malnourished10_19</td>\n",
       "    </tr>\n",
       "    <tr>\n",
       "      <th>11</th>\n",
       "      <td>45.990670</td>\n",
       "      <td>Malnourished5_9</td>\n",
       "    </tr>\n",
       "    <tr>\n",
       "      <th>12</th>\n",
       "      <td>30.385699</td>\n",
       "      <td>Schooling</td>\n",
       "    </tr>\n",
       "    <tr>\n",
       "      <th>5</th>\n",
       "      <td>24.666085</td>\n",
       "      <td>Polio</td>\n",
       "    </tr>\n",
       "    <tr>\n",
       "      <th>3</th>\n",
       "      <td>9.274556</td>\n",
       "      <td>BMI</td>\n",
       "    </tr>\n",
       "    <tr>\n",
       "      <th>13</th>\n",
       "      <td>6.833883</td>\n",
       "      <td>Status_Developing</td>\n",
       "    </tr>\n",
       "    <tr>\n",
       "      <th>0</th>\n",
       "      <td>6.654566</td>\n",
       "      <td>Adult_Mortality</td>\n",
       "    </tr>\n",
       "    <tr>\n",
       "      <th>4</th>\n",
       "      <td>3.976656</td>\n",
       "      <td>Underfive_Deaths</td>\n",
       "    </tr>\n",
       "    <tr>\n",
       "      <th>2</th>\n",
       "      <td>2.838544</td>\n",
       "      <td>Measles</td>\n",
       "    </tr>\n",
       "    <tr>\n",
       "      <th>7</th>\n",
       "      <td>2.361350</td>\n",
       "      <td>HIV</td>\n",
       "    </tr>\n",
       "    <tr>\n",
       "      <th>8</th>\n",
       "      <td>1.951497</td>\n",
       "      <td>GDP</td>\n",
       "    </tr>\n",
       "    <tr>\n",
       "      <th>9</th>\n",
       "      <td>1.498860</td>\n",
       "      <td>Population</td>\n",
       "    </tr>\n",
       "  </tbody>\n",
       "</table>\n",
       "</div>"
      ],
      "text/plain": [
       "           VIF            Feature\n",
       "6   112.589845        Diphtheria \n",
       "1    82.219492        Hepatitis B\n",
       "10   46.471863  Malnourished10_19\n",
       "11   45.990670    Malnourished5_9\n",
       "12   30.385699          Schooling\n",
       "5    24.666085              Polio\n",
       "3     9.274556                BMI\n",
       "13    6.833883  Status_Developing\n",
       "0     6.654566    Adult_Mortality\n",
       "4     3.976656  Underfive_Deaths \n",
       "2     2.838544           Measles \n",
       "7     2.361350                HIV\n",
       "8     1.951497                GDP\n",
       "9     1.498860         Population"
      ]
     },
     "execution_count": 85,
     "metadata": {},
     "output_type": "execute_result"
    }
   ],
   "source": [
    "inpv1 = inp.drop('Income_Index',axis=1)\n",
    "vif = pd.DataFrame()\n",
    "vif['VIF'] = [variance_inflation_factor(inpv1.values,i) for i in range(inpv1.shape[1])]\n",
    "vif['Feature'] = inpv1.columns\n",
    "vif = vif.sort_values('VIF',ascending=False)\n",
    "vif"
   ]
  },
  {
   "cell_type": "code",
   "execution_count": 87,
   "metadata": {},
   "outputs": [
    {
     "data": {
      "text/html": [
       "<div>\n",
       "<style scoped>\n",
       "    .dataframe tbody tr th:only-of-type {\n",
       "        vertical-align: middle;\n",
       "    }\n",
       "\n",
       "    .dataframe tbody tr th {\n",
       "        vertical-align: top;\n",
       "    }\n",
       "\n",
       "    .dataframe thead th {\n",
       "        text-align: right;\n",
       "    }\n",
       "</style>\n",
       "<table border=\"1\" class=\"dataframe\">\n",
       "  <thead>\n",
       "    <tr style=\"text-align: right;\">\n",
       "      <th></th>\n",
       "      <th>VIF</th>\n",
       "      <th>Feature</th>\n",
       "    </tr>\n",
       "  </thead>\n",
       "  <tbody>\n",
       "    <tr>\n",
       "      <th>9</th>\n",
       "      <td>45.531407</td>\n",
       "      <td>Malnourished10_19</td>\n",
       "    </tr>\n",
       "    <tr>\n",
       "      <th>10</th>\n",
       "      <td>45.373823</td>\n",
       "      <td>Malnourished5_9</td>\n",
       "    </tr>\n",
       "    <tr>\n",
       "      <th>11</th>\n",
       "      <td>28.490698</td>\n",
       "      <td>Schooling</td>\n",
       "    </tr>\n",
       "    <tr>\n",
       "      <th>1</th>\n",
       "      <td>23.743801</td>\n",
       "      <td>Hepatitis B</td>\n",
       "    </tr>\n",
       "    <tr>\n",
       "      <th>5</th>\n",
       "      <td>22.245443</td>\n",
       "      <td>Polio</td>\n",
       "    </tr>\n",
       "    <tr>\n",
       "      <th>3</th>\n",
       "      <td>9.204940</td>\n",
       "      <td>BMI</td>\n",
       "    </tr>\n",
       "    <tr>\n",
       "      <th>12</th>\n",
       "      <td>6.829358</td>\n",
       "      <td>Status_Developing</td>\n",
       "    </tr>\n",
       "    <tr>\n",
       "      <th>0</th>\n",
       "      <td>6.642848</td>\n",
       "      <td>Adult_Mortality</td>\n",
       "    </tr>\n",
       "    <tr>\n",
       "      <th>4</th>\n",
       "      <td>3.962879</td>\n",
       "      <td>Underfive_Deaths</td>\n",
       "    </tr>\n",
       "    <tr>\n",
       "      <th>2</th>\n",
       "      <td>2.837436</td>\n",
       "      <td>Measles</td>\n",
       "    </tr>\n",
       "    <tr>\n",
       "      <th>6</th>\n",
       "      <td>2.335439</td>\n",
       "      <td>HIV</td>\n",
       "    </tr>\n",
       "    <tr>\n",
       "      <th>7</th>\n",
       "      <td>1.932548</td>\n",
       "      <td>GDP</td>\n",
       "    </tr>\n",
       "    <tr>\n",
       "      <th>8</th>\n",
       "      <td>1.494736</td>\n",
       "      <td>Population</td>\n",
       "    </tr>\n",
       "  </tbody>\n",
       "</table>\n",
       "</div>"
      ],
      "text/plain": [
       "          VIF            Feature\n",
       "9   45.531407  Malnourished10_19\n",
       "10  45.373823    Malnourished5_9\n",
       "11  28.490698          Schooling\n",
       "1   23.743801        Hepatitis B\n",
       "5   22.245443              Polio\n",
       "3    9.204940                BMI\n",
       "12   6.829358  Status_Developing\n",
       "0    6.642848    Adult_Mortality\n",
       "4    3.962879  Underfive_Deaths \n",
       "2    2.837436           Measles \n",
       "6    2.335439                HIV\n",
       "7    1.932548                GDP\n",
       "8    1.494736         Population"
      ]
     },
     "execution_count": 87,
     "metadata": {},
     "output_type": "execute_result"
    }
   ],
   "source": [
    "inpv2 = inpv1.drop('Diphtheria ',axis=1)\n",
    "vif = pd.DataFrame()\n",
    "vif['VIF'] = [variance_inflation_factor(inpv2.values,i) for i in range(inpv2.shape[1])]\n",
    "vif['Feature'] = inpv2.columns\n",
    "vif = vif.sort_values('VIF',ascending=False)\n",
    "vif"
   ]
  },
  {
   "cell_type": "code",
   "execution_count": 89,
   "metadata": {},
   "outputs": [
    {
     "data": {
      "text/html": [
       "<div>\n",
       "<style scoped>\n",
       "    .dataframe tbody tr th:only-of-type {\n",
       "        vertical-align: middle;\n",
       "    }\n",
       "\n",
       "    .dataframe tbody tr th {\n",
       "        vertical-align: top;\n",
       "    }\n",
       "\n",
       "    .dataframe thead th {\n",
       "        text-align: right;\n",
       "    }\n",
       "</style>\n",
       "<table border=\"1\" class=\"dataframe\">\n",
       "  <thead>\n",
       "    <tr style=\"text-align: right;\">\n",
       "      <th></th>\n",
       "      <th>VIF</th>\n",
       "      <th>Feature</th>\n",
       "    </tr>\n",
       "  </thead>\n",
       "  <tbody>\n",
       "    <tr>\n",
       "      <th>10</th>\n",
       "      <td>27.635452</td>\n",
       "      <td>Schooling</td>\n",
       "    </tr>\n",
       "    <tr>\n",
       "      <th>5</th>\n",
       "      <td>22.086780</td>\n",
       "      <td>Polio</td>\n",
       "    </tr>\n",
       "    <tr>\n",
       "      <th>1</th>\n",
       "      <td>21.993957</td>\n",
       "      <td>Hepatitis B</td>\n",
       "    </tr>\n",
       "    <tr>\n",
       "      <th>3</th>\n",
       "      <td>9.139869</td>\n",
       "      <td>BMI</td>\n",
       "    </tr>\n",
       "    <tr>\n",
       "      <th>11</th>\n",
       "      <td>6.824508</td>\n",
       "      <td>Status_Developing</td>\n",
       "    </tr>\n",
       "    <tr>\n",
       "      <th>0</th>\n",
       "      <td>6.581902</td>\n",
       "      <td>Adult_Mortality</td>\n",
       "    </tr>\n",
       "    <tr>\n",
       "      <th>9</th>\n",
       "      <td>4.022546</td>\n",
       "      <td>Malnourished5_9</td>\n",
       "    </tr>\n",
       "    <tr>\n",
       "      <th>4</th>\n",
       "      <td>3.957635</td>\n",
       "      <td>Underfive_Deaths</td>\n",
       "    </tr>\n",
       "    <tr>\n",
       "      <th>2</th>\n",
       "      <td>2.835860</td>\n",
       "      <td>Measles</td>\n",
       "    </tr>\n",
       "    <tr>\n",
       "      <th>6</th>\n",
       "      <td>2.264763</td>\n",
       "      <td>HIV</td>\n",
       "    </tr>\n",
       "    <tr>\n",
       "      <th>7</th>\n",
       "      <td>1.929223</td>\n",
       "      <td>GDP</td>\n",
       "    </tr>\n",
       "    <tr>\n",
       "      <th>8</th>\n",
       "      <td>1.494603</td>\n",
       "      <td>Population</td>\n",
       "    </tr>\n",
       "  </tbody>\n",
       "</table>\n",
       "</div>"
      ],
      "text/plain": [
       "          VIF            Feature\n",
       "10  27.635452          Schooling\n",
       "5   22.086780              Polio\n",
       "1   21.993957        Hepatitis B\n",
       "3    9.139869                BMI\n",
       "11   6.824508  Status_Developing\n",
       "0    6.581902    Adult_Mortality\n",
       "9    4.022546    Malnourished5_9\n",
       "4    3.957635  Underfive_Deaths \n",
       "2    2.835860           Measles \n",
       "6    2.264763                HIV\n",
       "7    1.929223                GDP\n",
       "8    1.494603         Population"
      ]
     },
     "execution_count": 89,
     "metadata": {},
     "output_type": "execute_result"
    }
   ],
   "source": [
    "inpv3 = inpv2.drop('Malnourished10_19',axis=1)\n",
    "vif = pd.DataFrame()\n",
    "vif['VIF'] = [variance_inflation_factor(inpv3.values,i) for i in range(inpv3.shape[1])]\n",
    "vif['Feature'] = inpv3.columns\n",
    "vif = vif.sort_values('VIF',ascending=False)\n",
    "vif"
   ]
  },
  {
   "cell_type": "code",
   "execution_count": 90,
   "metadata": {},
   "outputs": [
    {
     "data": {
      "text/html": [
       "<div>\n",
       "<style scoped>\n",
       "    .dataframe tbody tr th:only-of-type {\n",
       "        vertical-align: middle;\n",
       "    }\n",
       "\n",
       "    .dataframe tbody tr th {\n",
       "        vertical-align: top;\n",
       "    }\n",
       "\n",
       "    .dataframe thead th {\n",
       "        text-align: right;\n",
       "    }\n",
       "</style>\n",
       "<table border=\"1\" class=\"dataframe\">\n",
       "  <thead>\n",
       "    <tr style=\"text-align: right;\">\n",
       "      <th></th>\n",
       "      <th>VIF</th>\n",
       "      <th>Feature</th>\n",
       "    </tr>\n",
       "  </thead>\n",
       "  <tbody>\n",
       "    <tr>\n",
       "      <th>1</th>\n",
       "      <td>19.977404</td>\n",
       "      <td>Hepatitis B</td>\n",
       "    </tr>\n",
       "    <tr>\n",
       "      <th>5</th>\n",
       "      <td>18.524795</td>\n",
       "      <td>Polio</td>\n",
       "    </tr>\n",
       "    <tr>\n",
       "      <th>10</th>\n",
       "      <td>6.818939</td>\n",
       "      <td>Status_Developing</td>\n",
       "    </tr>\n",
       "    <tr>\n",
       "      <th>3</th>\n",
       "      <td>6.591098</td>\n",
       "      <td>BMI</td>\n",
       "    </tr>\n",
       "    <tr>\n",
       "      <th>0</th>\n",
       "      <td>6.571912</td>\n",
       "      <td>Adult_Mortality</td>\n",
       "    </tr>\n",
       "    <tr>\n",
       "      <th>9</th>\n",
       "      <td>4.010995</td>\n",
       "      <td>Malnourished5_9</td>\n",
       "    </tr>\n",
       "    <tr>\n",
       "      <th>4</th>\n",
       "      <td>3.937384</td>\n",
       "      <td>Underfive_Deaths</td>\n",
       "    </tr>\n",
       "    <tr>\n",
       "      <th>2</th>\n",
       "      <td>2.825527</td>\n",
       "      <td>Measles</td>\n",
       "    </tr>\n",
       "    <tr>\n",
       "      <th>6</th>\n",
       "      <td>2.219529</td>\n",
       "      <td>HIV</td>\n",
       "    </tr>\n",
       "    <tr>\n",
       "      <th>7</th>\n",
       "      <td>1.854164</td>\n",
       "      <td>GDP</td>\n",
       "    </tr>\n",
       "    <tr>\n",
       "      <th>8</th>\n",
       "      <td>1.449394</td>\n",
       "      <td>Population</td>\n",
       "    </tr>\n",
       "  </tbody>\n",
       "</table>\n",
       "</div>"
      ],
      "text/plain": [
       "          VIF            Feature\n",
       "1   19.977404        Hepatitis B\n",
       "5   18.524795              Polio\n",
       "10   6.818939  Status_Developing\n",
       "3    6.591098                BMI\n",
       "0    6.571912    Adult_Mortality\n",
       "9    4.010995    Malnourished5_9\n",
       "4    3.937384  Underfive_Deaths \n",
       "2    2.825527           Measles \n",
       "6    2.219529                HIV\n",
       "7    1.854164                GDP\n",
       "8    1.449394         Population"
      ]
     },
     "execution_count": 90,
     "metadata": {},
     "output_type": "execute_result"
    }
   ],
   "source": [
    "inpv4 = inpv3.drop('Schooling',axis=1)\n",
    "vif = pd.DataFrame()\n",
    "vif['VIF'] = [variance_inflation_factor(inpv4.values,i) for i in range(inpv4.shape[1])]\n",
    "vif['Feature'] = inpv4.columns\n",
    "vif = vif.sort_values('VIF',ascending=False)\n",
    "vif"
   ]
  },
  {
   "cell_type": "code",
   "execution_count": 91,
   "metadata": {},
   "outputs": [
    {
     "data": {
      "text/html": [
       "<div>\n",
       "<style scoped>\n",
       "    .dataframe tbody tr th:only-of-type {\n",
       "        vertical-align: middle;\n",
       "    }\n",
       "\n",
       "    .dataframe tbody tr th {\n",
       "        vertical-align: top;\n",
       "    }\n",
       "\n",
       "    .dataframe thead th {\n",
       "        text-align: right;\n",
       "    }\n",
       "</style>\n",
       "<table border=\"1\" class=\"dataframe\">\n",
       "  <thead>\n",
       "    <tr style=\"text-align: right;\">\n",
       "      <th></th>\n",
       "      <th>VIF</th>\n",
       "      <th>Feature</th>\n",
       "    </tr>\n",
       "  </thead>\n",
       "  <tbody>\n",
       "    <tr>\n",
       "      <th>4</th>\n",
       "      <td>8.602417</td>\n",
       "      <td>Polio</td>\n",
       "    </tr>\n",
       "    <tr>\n",
       "      <th>9</th>\n",
       "      <td>6.809807</td>\n",
       "      <td>Status_Developing</td>\n",
       "    </tr>\n",
       "    <tr>\n",
       "      <th>0</th>\n",
       "      <td>6.279390</td>\n",
       "      <td>Adult_Mortality</td>\n",
       "    </tr>\n",
       "    <tr>\n",
       "      <th>2</th>\n",
       "      <td>6.240907</td>\n",
       "      <td>BMI</td>\n",
       "    </tr>\n",
       "    <tr>\n",
       "      <th>8</th>\n",
       "      <td>3.928962</td>\n",
       "      <td>Malnourished5_9</td>\n",
       "    </tr>\n",
       "    <tr>\n",
       "      <th>3</th>\n",
       "      <td>3.875119</td>\n",
       "      <td>Underfive_Deaths</td>\n",
       "    </tr>\n",
       "    <tr>\n",
       "      <th>1</th>\n",
       "      <td>2.802214</td>\n",
       "      <td>Measles</td>\n",
       "    </tr>\n",
       "    <tr>\n",
       "      <th>5</th>\n",
       "      <td>2.157626</td>\n",
       "      <td>HIV</td>\n",
       "    </tr>\n",
       "    <tr>\n",
       "      <th>6</th>\n",
       "      <td>1.853681</td>\n",
       "      <td>GDP</td>\n",
       "    </tr>\n",
       "    <tr>\n",
       "      <th>7</th>\n",
       "      <td>1.414716</td>\n",
       "      <td>Population</td>\n",
       "    </tr>\n",
       "  </tbody>\n",
       "</table>\n",
       "</div>"
      ],
      "text/plain": [
       "        VIF            Feature\n",
       "4  8.602417              Polio\n",
       "9  6.809807  Status_Developing\n",
       "0  6.279390    Adult_Mortality\n",
       "2  6.240907                BMI\n",
       "8  3.928962    Malnourished5_9\n",
       "3  3.875119  Underfive_Deaths \n",
       "1  2.802214           Measles \n",
       "5  2.157626                HIV\n",
       "6  1.853681                GDP\n",
       "7  1.414716         Population"
      ]
     },
     "execution_count": 91,
     "metadata": {},
     "output_type": "execute_result"
    }
   ],
   "source": [
    "inpv5 = inpv4.drop('Hepatitis B',axis=1)\n",
    "vif = pd.DataFrame()\n",
    "vif['VIF'] = [variance_inflation_factor(inpv5.values,i) for i in range(inpv5.shape[1])]\n",
    "vif['Feature'] = inpv5.columns\n",
    "vif = vif.sort_values('VIF',ascending=False)\n",
    "vif"
   ]
  },
  {
   "cell_type": "code",
   "execution_count": 92,
   "metadata": {},
   "outputs": [
    {
     "data": {
      "text/html": [
       "<table class=\"simpletable\">\n",
       "<caption>OLS Regression Results</caption>\n",
       "<tr>\n",
       "  <th>Dep. Variable:</th>     <td>Life_Expectancy</td> <th>  R-squared:         </th> <td>   0.781</td>\n",
       "</tr>\n",
       "<tr>\n",
       "  <th>Model:</th>                   <td>OLS</td>       <th>  Adj. R-squared:    </th> <td>   0.767</td>\n",
       "</tr>\n",
       "<tr>\n",
       "  <th>Method:</th>             <td>Least Squares</td>  <th>  F-statistic:       </th> <td>   57.67</td>\n",
       "</tr>\n",
       "<tr>\n",
       "  <th>Date:</th>             <td>Fri, 02 Oct 2020</td> <th>  Prob (F-statistic):</th> <td>3.22e-48</td>\n",
       "</tr>\n",
       "<tr>\n",
       "  <th>Time:</th>                 <td>22:01:57</td>     <th>  Log-Likelihood:    </th> <td> -474.17</td>\n",
       "</tr>\n",
       "<tr>\n",
       "  <th>No. Observations:</th>      <td>   173</td>      <th>  AIC:               </th> <td>   970.3</td>\n",
       "</tr>\n",
       "<tr>\n",
       "  <th>Df Residuals:</th>          <td>   162</td>      <th>  BIC:               </th> <td>   1005.</td>\n",
       "</tr>\n",
       "<tr>\n",
       "  <th>Df Model:</th>              <td>    10</td>      <th>                     </th>     <td> </td>   \n",
       "</tr>\n",
       "<tr>\n",
       "  <th>Covariance Type:</th>      <td>nonrobust</td>    <th>                     </th>     <td> </td>   \n",
       "</tr>\n",
       "</table>\n",
       "<table class=\"simpletable\">\n",
       "<tr>\n",
       "          <td></td>             <th>coef</th>     <th>std err</th>      <th>t</th>      <th>P>|t|</th>  <th>[0.025</th>    <th>0.975]</th>  \n",
       "</tr>\n",
       "<tr>\n",
       "  <th>const</th>             <td>   74.2574</td> <td>    1.908</td> <td>   38.922</td> <td> 0.000</td> <td>   70.490</td> <td>   78.025</td>\n",
       "</tr>\n",
       "<tr>\n",
       "  <th>Adult_Mortality</th>   <td>   -0.0346</td> <td>    0.004</td> <td>   -7.854</td> <td> 0.000</td> <td>   -0.043</td> <td>   -0.026</td>\n",
       "</tr>\n",
       "<tr>\n",
       "  <th>Measles </th>          <td> 6.667e-05</td> <td> 6.03e-05</td> <td>    1.106</td> <td> 0.271</td> <td>-5.24e-05</td> <td>    0.000</td>\n",
       "</tr>\n",
       "<tr>\n",
       "  <th>BMI</th>               <td>    0.0412</td> <td>    0.018</td> <td>    2.317</td> <td> 0.022</td> <td>    0.006</td> <td>    0.076</td>\n",
       "</tr>\n",
       "<tr>\n",
       "  <th>Underfive_Deaths </th> <td>   -0.0038</td> <td>    0.005</td> <td>   -0.726</td> <td> 0.469</td> <td>   -0.014</td> <td>    0.006</td>\n",
       "</tr>\n",
       "<tr>\n",
       "  <th>Polio</th>             <td>    0.0631</td> <td>    0.014</td> <td>    4.543</td> <td> 0.000</td> <td>    0.036</td> <td>    0.091</td>\n",
       "</tr>\n",
       "<tr>\n",
       "  <th>HIV</th>               <td>   -0.9306</td> <td>    0.291</td> <td>   -3.201</td> <td> 0.002</td> <td>   -1.505</td> <td>   -0.356</td>\n",
       "</tr>\n",
       "<tr>\n",
       "  <th>GDP</th>               <td> 6.832e-05</td> <td> 2.96e-05</td> <td>    2.307</td> <td> 0.022</td> <td> 9.85e-06</td> <td>    0.000</td>\n",
       "</tr>\n",
       "<tr>\n",
       "  <th>Population</th>        <td> 9.014e-10</td> <td>  1.2e-08</td> <td>    0.075</td> <td> 0.940</td> <td>-2.27e-08</td> <td> 2.45e-08</td>\n",
       "</tr>\n",
       "<tr>\n",
       "  <th>Malnourished5_9</th>   <td>   -0.2763</td> <td>    0.098</td> <td>   -2.813</td> <td> 0.006</td> <td>   -0.470</td> <td>   -0.082</td>\n",
       "</tr>\n",
       "<tr>\n",
       "  <th>Status_Developing</th> <td>   -3.3602</td> <td>    0.901</td> <td>   -3.731</td> <td> 0.000</td> <td>   -5.138</td> <td>   -1.582</td>\n",
       "</tr>\n",
       "</table>\n",
       "<table class=\"simpletable\">\n",
       "<tr>\n",
       "  <th>Omnibus:</th>       <td> 9.331</td> <th>  Durbin-Watson:     </th> <td>   1.983</td>\n",
       "</tr>\n",
       "<tr>\n",
       "  <th>Prob(Omnibus):</th> <td> 0.009</td> <th>  Jarque-Bera (JB):  </th> <td>  11.807</td>\n",
       "</tr>\n",
       "<tr>\n",
       "  <th>Skew:</th>          <td>-0.367</td> <th>  Prob(JB):          </th> <td> 0.00273</td>\n",
       "</tr>\n",
       "<tr>\n",
       "  <th>Kurtosis:</th>      <td> 4.048</td> <th>  Cond. No.          </th> <td>1.97e+08</td>\n",
       "</tr>\n",
       "</table><br/><br/>Warnings:<br/>[1] Standard Errors assume that the covariance matrix of the errors is correctly specified.<br/>[2] The condition number is large, 1.97e+08. This might indicate that there are<br/>strong multicollinearity or other numerical problems."
      ],
      "text/plain": [
       "<class 'statsmodels.iolib.summary.Summary'>\n",
       "\"\"\"\n",
       "                            OLS Regression Results                            \n",
       "==============================================================================\n",
       "Dep. Variable:        Life_Expectancy   R-squared:                       0.781\n",
       "Model:                            OLS   Adj. R-squared:                  0.767\n",
       "Method:                 Least Squares   F-statistic:                     57.67\n",
       "Date:                Fri, 02 Oct 2020   Prob (F-statistic):           3.22e-48\n",
       "Time:                        22:01:57   Log-Likelihood:                -474.17\n",
       "No. Observations:                 173   AIC:                             970.3\n",
       "Df Residuals:                     162   BIC:                             1005.\n",
       "Df Model:                          10                                         \n",
       "Covariance Type:            nonrobust                                         \n",
       "=====================================================================================\n",
       "                        coef    std err          t      P>|t|      [0.025      0.975]\n",
       "-------------------------------------------------------------------------------------\n",
       "const                74.2574      1.908     38.922      0.000      70.490      78.025\n",
       "Adult_Mortality      -0.0346      0.004     -7.854      0.000      -0.043      -0.026\n",
       "Measles            6.667e-05   6.03e-05      1.106      0.271   -5.24e-05       0.000\n",
       "BMI                   0.0412      0.018      2.317      0.022       0.006       0.076\n",
       "Underfive_Deaths     -0.0038      0.005     -0.726      0.469      -0.014       0.006\n",
       "Polio                 0.0631      0.014      4.543      0.000       0.036       0.091\n",
       "HIV                  -0.9306      0.291     -3.201      0.002      -1.505      -0.356\n",
       "GDP                6.832e-05   2.96e-05      2.307      0.022    9.85e-06       0.000\n",
       "Population         9.014e-10    1.2e-08      0.075      0.940   -2.27e-08    2.45e-08\n",
       "Malnourished5_9      -0.2763      0.098     -2.813      0.006      -0.470      -0.082\n",
       "Status_Developing    -3.3602      0.901     -3.731      0.000      -5.138      -1.582\n",
       "==============================================================================\n",
       "Omnibus:                        9.331   Durbin-Watson:                   1.983\n",
       "Prob(Omnibus):                  0.009   Jarque-Bera (JB):               11.807\n",
       "Skew:                          -0.367   Prob(JB):                      0.00273\n",
       "Kurtosis:                       4.048   Cond. No.                     1.97e+08\n",
       "==============================================================================\n",
       "\n",
       "Warnings:\n",
       "[1] Standard Errors assume that the covariance matrix of the errors is correctly specified.\n",
       "[2] The condition number is large, 1.97e+08. This might indicate that there are\n",
       "strong multicollinearity or other numerical problems.\n",
       "\"\"\""
      ]
     },
     "execution_count": 92,
     "metadata": {},
     "output_type": "execute_result"
    }
   ],
   "source": [
    "inpc = sm.add_constant(inpv5)\n",
    "ols = sm.OLS(out,inpc)\n",
    "ols_mod = ols.fit()\n",
    "ols_mod.summary()"
   ]
  },
  {
   "cell_type": "code",
   "execution_count": 93,
   "metadata": {},
   "outputs": [],
   "source": [
    "from statsmodels.stats.diagnostic import linear_rainbow"
   ]
  },
  {
   "cell_type": "code",
   "execution_count": 94,
   "metadata": {},
   "outputs": [
    {
     "data": {
      "text/plain": [
       "(1.114220452445604, 0.31647159957112264)"
      ]
     },
     "execution_count": 94,
     "metadata": {},
     "output_type": "execute_result"
    }
   ],
   "source": [
    "linear_rainbow(res = ols_mod,frac=0.5)  # Linear"
   ]
  },
  {
   "cell_type": "code",
   "execution_count": 96,
   "metadata": {},
   "outputs": [
    {
     "data": {
      "text/plain": [
       "-0.37052348273029134"
      ]
     },
     "execution_count": 96,
     "metadata": {},
     "output_type": "execute_result"
    }
   ],
   "source": [
    "ols_mod.resid.skew() # Normal"
   ]
  },
  {
   "cell_type": "code",
   "execution_count": 97,
   "metadata": {},
   "outputs": [],
   "source": [
    "# No autocorrelation as Durbin-Watson test value(1.91) is in range 1.5 - 2.5"
   ]
  },
  {
   "cell_type": "code",
   "execution_count": 98,
   "metadata": {},
   "outputs": [
    {
     "data": {
      "text/plain": [
       "(1.0589527255046365, 0.40185959129574217, 'increasing')"
      ]
     },
     "execution_count": 98,
     "metadata": {},
     "output_type": "execute_result"
    }
   ],
   "source": [
    "from statsmodels.stats.api import het_goldfeldquandt\n",
    "het_goldfeldquandt(ols_mod.resid,ols_mod.model.exog)"
   ]
  },
  {
   "cell_type": "code",
   "execution_count": null,
   "metadata": {},
   "outputs": [],
   "source": [
    "# The model is homoscadastic"
   ]
  },
  {
   "cell_type": "markdown",
   "metadata": {},
   "source": [
    "<a id=\"reg\"> </a>\n",
    "## 4. Regularization"
   ]
  },
  {
   "cell_type": "markdown",
   "metadata": {
    "collapsed": true
   },
   "source": [
    "<table align=\"left\">\n",
    "    <tr>\n",
    "        <td width=\"6%\">\n",
    "            <img src=\"question_icon.png\">\n",
    "        </td>\n",
    "        <td>\n",
    "            <div align=\"left\", style=\"font-size:120%\">\n",
    "                <font color=\"#21618C\">\n",
    "                    <b>12. Can we perform regression analysis without eliminating features involved in multicollinearity detected in question 11?</b>\n",
    "                </font>\n",
    "            </div>\n",
    "        </td>\n",
    "    </tr>\n",
    "</table>"
   ]
  },
  {
   "cell_type": "code",
   "execution_count": 35,
   "metadata": {},
   "outputs": [],
   "source": [
    "inp = df.drop('Life_Expectancy',axis = 1)\n",
    "out = df['Life_Expectancy']\n",
    "import scipy.stats as stats\n",
    "box_out,lam=stats.boxcox(out)"
   ]
  },
  {
   "cell_type": "code",
   "execution_count": 37,
   "metadata": {
    "scrolled": true
   },
   "outputs": [
    {
     "data": {
      "text/plain": [
       "array([-1.91451162,  0.81187116,  0.        , -0.25161784, -0.01344604,\n",
       "        0.18653257,  0.        , -0.80783779, -0.        , -0.18814934,\n",
       "       -0.32963999, -0.03526499,  4.99925123,  0.        , -0.14427802])"
      ]
     },
     "execution_count": 37,
     "metadata": {},
     "output_type": "execute_result"
    }
   ],
   "source": [
    "# type your code here\n",
    "#Lasso\n",
    "from sklearn.linear_model import Lasso\n",
    "mod_lasso = Lasso(alpha=0.05)\n",
    "mod_lasso.fit(inp_sc,out)\n",
    "mod_lasso.coef_"
   ]
  },
  {
   "cell_type": "markdown",
   "metadata": {
    "collapsed": true
   },
   "source": [
    "<table align=\"left\">\n",
    "    <tr>\n",
    "        <td width=\"6%\">\n",
    "            <img src=\"question_icon.png\">\n",
    "        </td>\n",
    "        <td>\n",
    "            <div align=\"left\", style=\"font-size:120%\">\n",
    "                <font color=\"#21618C\">\n",
    "                    <b>13. Build a model to study the impact of diseases and immunization on life expectancy. Identify the significant variables from the model. Use 'alpha = 1.5' if required.\n",
    "</b>\n",
    "                </font>\n",
    "            </div>\n",
    "        </td>\n",
    "    </tr>\n",
    "</table>"
   ]
  },
  {
   "cell_type": "code",
   "execution_count": 38,
   "metadata": {},
   "outputs": [],
   "source": [
    "# type your code here\n",
    "# create Lasso and Ridge with all 5 deseases and check which coeff drcrease drastically\n",
    "inp = df[['Diphtheria ','Polio','Hepatitis B','Measles ','HIV']]\n",
    "from sklearn.preprocessing import StandardScaler\n",
    "sc=StandardScaler()\n",
    "inp_sc=sc.fit_transform(inp)\n",
    "inp_sc=pd.DataFrame(inp_sc,columns=inp.columns)"
   ]
  },
  {
   "cell_type": "code",
   "execution_count": 39,
   "metadata": {},
   "outputs": [
    {
     "data": {
      "text/plain": [
       "array([ 1.89259761,  2.0112169 , -0.65007108, -0.68392732, -3.46763413])"
      ]
     },
     "execution_count": 39,
     "metadata": {},
     "output_type": "execute_result"
    }
   ],
   "source": [
    "from sklearn.linear_model import LinearRegression,Ridge,Lasso\n",
    "mod_lr = LinearRegression()\n",
    "mod_lr.fit(inp_sc,out)\n",
    "mod_lr.coef_"
   ]
  },
  {
   "cell_type": "code",
   "execution_count": 40,
   "metadata": {},
   "outputs": [
    {
     "data": {
      "text/plain": [
       "array([ 0.66913415,  1.33729331,  0.        , -0.        , -2.51861867])"
      ]
     },
     "execution_count": 40,
     "metadata": {},
     "output_type": "execute_result"
    }
   ],
   "source": [
    "mod_lasso = Lasso(alpha=1.5)\n",
    "mod_lasso.fit(inp_sc,out)\n",
    "mod_lasso.coef_"
   ]
  },
  {
   "cell_type": "code",
   "execution_count": 41,
   "metadata": {},
   "outputs": [
    {
     "data": {
      "text/plain": [
       "array([ 1.78854635,  2.00521981, -0.53619908, -0.67888073, -3.4415349 ])"
      ]
     },
     "execution_count": 41,
     "metadata": {},
     "output_type": "execute_result"
    }
   ],
   "source": [
    "mod_rid = Ridge(alpha=1.5)\n",
    "mod_rid.fit(inp_sc,out)\n",
    "mod_rid.coef_"
   ]
  },
  {
   "cell_type": "code",
   "execution_count": 42,
   "metadata": {},
   "outputs": [
    {
     "data": {
      "text/html": [
       "<div>\n",
       "<style scoped>\n",
       "    .dataframe tbody tr th:only-of-type {\n",
       "        vertical-align: middle;\n",
       "    }\n",
       "\n",
       "    .dataframe tbody tr th {\n",
       "        vertical-align: top;\n",
       "    }\n",
       "\n",
       "    .dataframe thead th {\n",
       "        text-align: right;\n",
       "    }\n",
       "</style>\n",
       "<table border=\"1\" class=\"dataframe\">\n",
       "  <thead>\n",
       "    <tr style=\"text-align: right;\">\n",
       "      <th></th>\n",
       "      <th>Linear Regression</th>\n",
       "      <th>Lasso_1.5</th>\n",
       "      <th>Ridge_1.5</th>\n",
       "    </tr>\n",
       "  </thead>\n",
       "  <tbody>\n",
       "    <tr>\n",
       "      <th>Diphtheria</th>\n",
       "      <td>1.892598</td>\n",
       "      <td>0.669134</td>\n",
       "      <td>1.788546</td>\n",
       "    </tr>\n",
       "    <tr>\n",
       "      <th>Polio</th>\n",
       "      <td>2.011217</td>\n",
       "      <td>1.337293</td>\n",
       "      <td>2.005220</td>\n",
       "    </tr>\n",
       "    <tr>\n",
       "      <th>Hepatitis B</th>\n",
       "      <td>-0.650071</td>\n",
       "      <td>0.000000</td>\n",
       "      <td>-0.536199</td>\n",
       "    </tr>\n",
       "    <tr>\n",
       "      <th>Measles</th>\n",
       "      <td>-0.683927</td>\n",
       "      <td>-0.000000</td>\n",
       "      <td>-0.678881</td>\n",
       "    </tr>\n",
       "    <tr>\n",
       "      <th>HIV</th>\n",
       "      <td>-3.467634</td>\n",
       "      <td>-2.518619</td>\n",
       "      <td>-3.441535</td>\n",
       "    </tr>\n",
       "  </tbody>\n",
       "</table>\n",
       "</div>"
      ],
      "text/plain": [
       "             Linear Regression  Lasso_1.5  Ridge_1.5\n",
       "Diphtheria            1.892598   0.669134   1.788546\n",
       "Polio                 2.011217   1.337293   2.005220\n",
       "Hepatitis B          -0.650071   0.000000  -0.536199\n",
       "Measles              -0.683927  -0.000000  -0.678881\n",
       "HIV                  -3.467634  -2.518619  -3.441535"
      ]
     },
     "execution_count": 42,
     "metadata": {},
     "output_type": "execute_result"
    }
   ],
   "source": [
    "scorecard = pd.DataFrame()\n",
    "scorecard['Linear Regression'] = mod_lr.coef_\n",
    "scorecard['Lasso_1.5'] = mod_lasso.coef_\n",
    "scorecard['Ridge_1.5'] = mod_rid.coef_\n",
    "scorecard.index = inp_sc.columns\n",
    "scorecard"
   ]
  },
  {
   "cell_type": "code",
   "execution_count": 43,
   "metadata": {},
   "outputs": [],
   "source": [
    "#Hepatitis B and Measles are not significant features.Diptheria, Polio and HIV are significant features."
   ]
  },
  {
   "cell_type": "markdown",
   "metadata": {
    "collapsed": true
   },
   "source": [
    "<table align=\"left\">\n",
    "    <tr>\n",
    "        <td width=\"6%\">\n",
    "            <img src=\"question_icon.png\">\n",
    "        </td>\n",
    "        <td>\n",
    "            <div align=\"left\", style=\"font-size:120%\">\n",
    "                <font color=\"#21618C\">\n",
    "                    <b>14. Build a model to study the impact of malnutrition and diseases on life expectancy. Identify the insignificant variables from the model. Use 'alpha = 1' if required.</b>\n",
    "                </font>\n",
    "            </div>\n",
    "        </td>\n",
    "    </tr>\n",
    "</table>"
   ]
  },
  {
   "cell_type": "code",
   "execution_count": 44,
   "metadata": {},
   "outputs": [],
   "source": [
    "inp = df[['Measles ','HIV','Malnourished10_19','Malnourished5_9']]\n",
    "from sklearn.preprocessing import StandardScaler\n",
    "sc=StandardScaler()\n",
    "inp_sc=sc.fit_transform(inp)\n",
    "inp_sc=pd.DataFrame(inp_sc,columns=inp.columns)"
   ]
  },
  {
   "cell_type": "code",
   "execution_count": 45,
   "metadata": {},
   "outputs": [
    {
     "data": {
      "text/plain": [
       "array([ 0.35089667, -4.29276345, -0.30410356, -2.98968435])"
      ]
     },
     "execution_count": 45,
     "metadata": {},
     "output_type": "execute_result"
    }
   ],
   "source": [
    "from sklearn.linear_model import LinearRegression,Ridge,Lasso,ElasticNet\n",
    "mod_lr = LinearRegression()\n",
    "mod_lr.fit(inp_sc,out)\n",
    "mod_lr.coef_"
   ]
  },
  {
   "cell_type": "code",
   "execution_count": 46,
   "metadata": {},
   "outputs": [
    {
     "data": {
      "text/plain": [
       "array([ 0.        , -3.4754184 , -0.02478068, -2.28232815])"
      ]
     },
     "execution_count": 46,
     "metadata": {},
     "output_type": "execute_result"
    }
   ],
   "source": [
    "mod_lasso = Lasso(alpha=1)\n",
    "mod_lasso.fit(inp_sc,out)\n",
    "mod_lasso.coef_"
   ]
  },
  {
   "cell_type": "code",
   "execution_count": 47,
   "metadata": {},
   "outputs": [
    {
     "data": {
      "text/plain": [
       "array([ 0.34907689, -4.26520583, -0.54260658, -2.74592144])"
      ]
     },
     "execution_count": 47,
     "metadata": {},
     "output_type": "execute_result"
    }
   ],
   "source": [
    "mod_rid = Ridge(alpha=1)\n",
    "mod_rid.fit(inp_sc,out)\n",
    "mod_rid.coef_"
   ]
  },
  {
   "cell_type": "code",
   "execution_count": 48,
   "metadata": {},
   "outputs": [
    {
     "data": {
      "text/html": [
       "<div>\n",
       "<style scoped>\n",
       "    .dataframe tbody tr th:only-of-type {\n",
       "        vertical-align: middle;\n",
       "    }\n",
       "\n",
       "    .dataframe tbody tr th {\n",
       "        vertical-align: top;\n",
       "    }\n",
       "\n",
       "    .dataframe thead th {\n",
       "        text-align: right;\n",
       "    }\n",
       "</style>\n",
       "<table border=\"1\" class=\"dataframe\">\n",
       "  <thead>\n",
       "    <tr style=\"text-align: right;\">\n",
       "      <th></th>\n",
       "      <th>Linear Regression</th>\n",
       "      <th>Lasso_1</th>\n",
       "      <th>Ridge_1</th>\n",
       "    </tr>\n",
       "  </thead>\n",
       "  <tbody>\n",
       "    <tr>\n",
       "      <th>Measles</th>\n",
       "      <td>0.350897</td>\n",
       "      <td>0.000000</td>\n",
       "      <td>0.349077</td>\n",
       "    </tr>\n",
       "    <tr>\n",
       "      <th>HIV</th>\n",
       "      <td>-4.292763</td>\n",
       "      <td>-3.475418</td>\n",
       "      <td>-4.265206</td>\n",
       "    </tr>\n",
       "    <tr>\n",
       "      <th>Malnourished10_19</th>\n",
       "      <td>-0.304104</td>\n",
       "      <td>-0.024781</td>\n",
       "      <td>-0.542607</td>\n",
       "    </tr>\n",
       "    <tr>\n",
       "      <th>Malnourished5_9</th>\n",
       "      <td>-2.989684</td>\n",
       "      <td>-2.282328</td>\n",
       "      <td>-2.745921</td>\n",
       "    </tr>\n",
       "  </tbody>\n",
       "</table>\n",
       "</div>"
      ],
      "text/plain": [
       "                   Linear Regression   Lasso_1   Ridge_1\n",
       "Measles                     0.350897  0.000000  0.349077\n",
       "HIV                        -4.292763 -3.475418 -4.265206\n",
       "Malnourished10_19          -0.304104 -0.024781 -0.542607\n",
       "Malnourished5_9            -2.989684 -2.282328 -2.745921"
      ]
     },
     "execution_count": 48,
     "metadata": {},
     "output_type": "execute_result"
    }
   ],
   "source": [
    "scorecard = pd.DataFrame()\n",
    "scorecard['Linear Regression'] = mod_lr.coef_\n",
    "scorecard['Lasso_1'] = mod_lasso.coef_\n",
    "scorecard['Ridge_1'] = mod_rid.coef_\n",
    "scorecard.index = inp_sc.columns\n",
    "scorecard"
   ]
  },
  {
   "cell_type": "code",
   "execution_count": 49,
   "metadata": {},
   "outputs": [],
   "source": [
    "#Measles is the insignificant feature."
   ]
  },
  {
   "cell_type": "markdown",
   "metadata": {
    "collapsed": true
   },
   "source": [
    "<table align=\"left\">\n",
    "    <tr>\n",
    "        <td width=\"6%\">\n",
    "            <img src=\"question_icon.png\">\n",
    "        </td>\n",
    "        <td>\n",
    "            <div align=\"left\", style=\"font-size:120%\">\n",
    "                <font color=\"#21618C\">\n",
    "                    <b>15. Build a full model using the elastic net regression. Use 'alpha = 0.1' and 'l1_ratio=0.001'. Also, compute the RMSE for train and test sets.\n",
    " </b>\n",
    "                </font>\n",
    "            </div>\n",
    "        </td>\n",
    "    </tr>\n",
    "</table>"
   ]
  },
  {
   "cell_type": "code",
   "execution_count": 63,
   "metadata": {
    "scrolled": true
   },
   "outputs": [
    {
     "name": "stdout",
     "output_type": "stream",
     "text": [
      "{'alpha': 0.1, 'l1_ratio': 0.001}\n",
      "0.12704965560099984\n"
     ]
    }
   ],
   "source": [
    "# type your code here\n",
    "from sklearn.model_selection import GridSearchCV\n",
    "enet = ElasticNet()\n",
    "param = {'alpha':[0.1],\n",
    "        'l1_ratio':[0.001]}\n",
    "inp = data_sc.drop('Life_Expectancy',axis=1)\n",
    "out = data_sc['Life_Expectancy']\n",
    "grid = GridSearchCV(enet,param_grid = param, cv = 3 , scoring = 'neg_mean_squared_error')\n",
    "mod_hyp = grid.fit(inp,out)\n",
    "print(mod_hyp.best_params_)\n",
    "print(abs(mod_hyp.best_score_))"
   ]
  },
  {
   "cell_type": "markdown",
   "metadata": {
    "collapsed": true
   },
   "source": [
    "<table align=\"left\">\n",
    "    <tr>\n",
    "        <td width=\"6%\">\n",
    "            <img src=\"question_icon.png\">\n",
    "        </td>\n",
    "        <td>\n",
    "            <div align=\"left\", style=\"font-size:120%\">\n",
    "                <font color=\"#21618C\">\n",
    "                    <b>16. Build a full model. Identify the features that are significantly influencing the life expectancy. Use 'alpha = 0.5' if required. </b>\n",
    "                </font>\n",
    "            </div>\n",
    "        </td>\n",
    "    </tr>\n",
    "</table>"
   ]
  },
  {
   "cell_type": "code",
   "execution_count": 51,
   "metadata": {
    "scrolled": true
   },
   "outputs": [],
   "source": [
    "# type your code here\n",
    "inp = df.drop('Life_Expectancy',axis = 1)\n",
    "sc=StandardScaler()\n",
    "inp_sc=sc.fit_transform(inp)\n",
    "inp_sc=pd.DataFrame(inp_sc,columns=inp.columns)"
   ]
  },
  {
   "cell_type": "code",
   "execution_count": 52,
   "metadata": {},
   "outputs": [
    {
     "data": {
      "text/plain": [
       "array([-1.91747617,  1.12102693,  0.13000607, -0.40430458, -0.15296753,\n",
       "        0.22836507, -0.36750498, -0.84607881, -0.05043129, -0.20995694,\n",
       "       -0.24218729, -0.1607139 ,  5.15292703, -0.04506628, -0.18759349])"
      ]
     },
     "execution_count": 52,
     "metadata": {},
     "output_type": "execute_result"
    }
   ],
   "source": [
    "from sklearn.linear_model import LinearRegression,Ridge,Lasso\n",
    "mod_lr = LinearRegression()\n",
    "mod_lr.fit(inp_sc,out)\n",
    "mod_lr.coef_"
   ]
  },
  {
   "cell_type": "code",
   "execution_count": 53,
   "metadata": {},
   "outputs": [
    {
     "data": {
      "text/plain": [
       "array([-1.7476948 ,  0.53211224, -0.        ,  0.        , -0.        ,\n",
       "        0.13656166,  0.        , -0.61467294,  0.        , -0.        ,\n",
       "       -0.        , -0.        ,  5.01363423,  0.        , -0.        ])"
      ]
     },
     "execution_count": 53,
     "metadata": {},
     "output_type": "execute_result"
    }
   ],
   "source": [
    "mod_lasso = Lasso(alpha=0.5)\n",
    "mod_lasso.fit(inp_sc,out)\n",
    "mod_lasso.coef_"
   ]
  },
  {
   "cell_type": "code",
   "execution_count": 54,
   "metadata": {},
   "outputs": [
    {
     "data": {
      "text/plain": [
       "array([-1.93041627,  1.07854357,  0.12810397, -0.3886355 , -0.14854368,\n",
       "        0.23793762, -0.32463951, -0.85124349, -0.03738655, -0.2094628 ,\n",
       "       -0.24683241, -0.16160432,  5.01019298,  0.05087586, -0.1916237 ])"
      ]
     },
     "execution_count": 54,
     "metadata": {},
     "output_type": "execute_result"
    }
   ],
   "source": [
    "mod_rid = Ridge(alpha=0.5)\n",
    "mod_rid.fit(inp_sc,out)\n",
    "mod_rid.coef_"
   ]
  },
  {
   "cell_type": "code",
   "execution_count": 55,
   "metadata": {},
   "outputs": [
    {
     "data": {
      "text/html": [
       "<div>\n",
       "<style scoped>\n",
       "    .dataframe tbody tr th:only-of-type {\n",
       "        vertical-align: middle;\n",
       "    }\n",
       "\n",
       "    .dataframe tbody tr th {\n",
       "        vertical-align: top;\n",
       "    }\n",
       "\n",
       "    .dataframe thead th {\n",
       "        text-align: right;\n",
       "    }\n",
       "</style>\n",
       "<table border=\"1\" class=\"dataframe\">\n",
       "  <thead>\n",
       "    <tr style=\"text-align: right;\">\n",
       "      <th></th>\n",
       "      <th>Linear Regression</th>\n",
       "      <th>Lasso_0.5</th>\n",
       "      <th>Ridge_0.5</th>\n",
       "    </tr>\n",
       "  </thead>\n",
       "  <tbody>\n",
       "    <tr>\n",
       "      <th>Adult_Mortality</th>\n",
       "      <td>-1.917476</td>\n",
       "      <td>-1.747695</td>\n",
       "      <td>-1.930416</td>\n",
       "    </tr>\n",
       "    <tr>\n",
       "      <th>Hepatitis B</th>\n",
       "      <td>1.121027</td>\n",
       "      <td>0.532112</td>\n",
       "      <td>1.078544</td>\n",
       "    </tr>\n",
       "    <tr>\n",
       "      <th>Measles</th>\n",
       "      <td>0.130006</td>\n",
       "      <td>-0.000000</td>\n",
       "      <td>0.128104</td>\n",
       "    </tr>\n",
       "    <tr>\n",
       "      <th>BMI</th>\n",
       "      <td>-0.404305</td>\n",
       "      <td>0.000000</td>\n",
       "      <td>-0.388636</td>\n",
       "    </tr>\n",
       "    <tr>\n",
       "      <th>Underfive_Deaths</th>\n",
       "      <td>-0.152968</td>\n",
       "      <td>-0.000000</td>\n",
       "      <td>-0.148544</td>\n",
       "    </tr>\n",
       "    <tr>\n",
       "      <th>Polio</th>\n",
       "      <td>0.228365</td>\n",
       "      <td>0.136562</td>\n",
       "      <td>0.237938</td>\n",
       "    </tr>\n",
       "    <tr>\n",
       "      <th>Diphtheria</th>\n",
       "      <td>-0.367505</td>\n",
       "      <td>0.000000</td>\n",
       "      <td>-0.324640</td>\n",
       "    </tr>\n",
       "    <tr>\n",
       "      <th>HIV</th>\n",
       "      <td>-0.846079</td>\n",
       "      <td>-0.614673</td>\n",
       "      <td>-0.851243</td>\n",
       "    </tr>\n",
       "    <tr>\n",
       "      <th>GDP</th>\n",
       "      <td>-0.050431</td>\n",
       "      <td>0.000000</td>\n",
       "      <td>-0.037387</td>\n",
       "    </tr>\n",
       "    <tr>\n",
       "      <th>Population</th>\n",
       "      <td>-0.209957</td>\n",
       "      <td>-0.000000</td>\n",
       "      <td>-0.209463</td>\n",
       "    </tr>\n",
       "    <tr>\n",
       "      <th>Malnourished10_19</th>\n",
       "      <td>-0.242187</td>\n",
       "      <td>-0.000000</td>\n",
       "      <td>-0.246832</td>\n",
       "    </tr>\n",
       "    <tr>\n",
       "      <th>Malnourished5_9</th>\n",
       "      <td>-0.160714</td>\n",
       "      <td>-0.000000</td>\n",
       "      <td>-0.161604</td>\n",
       "    </tr>\n",
       "    <tr>\n",
       "      <th>Income_Index</th>\n",
       "      <td>5.152927</td>\n",
       "      <td>5.013634</td>\n",
       "      <td>5.010193</td>\n",
       "    </tr>\n",
       "    <tr>\n",
       "      <th>Schooling</th>\n",
       "      <td>-0.045066</td>\n",
       "      <td>0.000000</td>\n",
       "      <td>0.050876</td>\n",
       "    </tr>\n",
       "    <tr>\n",
       "      <th>Status_Developing</th>\n",
       "      <td>-0.187593</td>\n",
       "      <td>-0.000000</td>\n",
       "      <td>-0.191624</td>\n",
       "    </tr>\n",
       "  </tbody>\n",
       "</table>\n",
       "</div>"
      ],
      "text/plain": [
       "                   Linear Regression  Lasso_0.5  Ridge_0.5\n",
       "Adult_Mortality            -1.917476  -1.747695  -1.930416\n",
       "Hepatitis B                 1.121027   0.532112   1.078544\n",
       "Measles                     0.130006  -0.000000   0.128104\n",
       "BMI                        -0.404305   0.000000  -0.388636\n",
       "Underfive_Deaths           -0.152968  -0.000000  -0.148544\n",
       "Polio                       0.228365   0.136562   0.237938\n",
       "Diphtheria                 -0.367505   0.000000  -0.324640\n",
       "HIV                        -0.846079  -0.614673  -0.851243\n",
       "GDP                        -0.050431   0.000000  -0.037387\n",
       "Population                 -0.209957  -0.000000  -0.209463\n",
       "Malnourished10_19          -0.242187  -0.000000  -0.246832\n",
       "Malnourished5_9            -0.160714  -0.000000  -0.161604\n",
       "Income_Index                5.152927   5.013634   5.010193\n",
       "Schooling                  -0.045066   0.000000   0.050876\n",
       "Status_Developing          -0.187593  -0.000000  -0.191624"
      ]
     },
     "execution_count": 55,
     "metadata": {},
     "output_type": "execute_result"
    }
   ],
   "source": [
    "scorecard = pd.DataFrame()\n",
    "scorecard['Linear Regression'] = mod_lr.coef_\n",
    "scorecard['Lasso_0.5'] = mod_lasso.coef_\n",
    "scorecard['Ridge_0.5'] = mod_rid.coef_\n",
    "scorecard.index = inp_sc.columns\n",
    "scorecard"
   ]
  },
  {
   "cell_type": "code",
   "execution_count": 56,
   "metadata": {},
   "outputs": [],
   "source": [
    "#Adult_Mortality , Hepatitis B, Polio , HIV , Income_Index are significant features."
   ]
  },
  {
   "cell_type": "markdown",
   "metadata": {},
   "source": [
    "<a id=\"gs\"> </a>\n",
    "## 5. Grid Search "
   ]
  },
  {
   "cell_type": "markdown",
   "metadata": {
    "collapsed": true
   },
   "source": [
    "<table align=\"left\">\n",
    "    <tr>\n",
    "        <td width=\"6%\">\n",
    "            <img src=\"question_icon.png\">\n",
    "        </td>\n",
    "        <td>\n",
    "            <div align=\"left\", style=\"font-size:120%\">\n",
    "                <font color=\"#21618C\">\n",
    "                    <b>17. If ridge regression is used to build a full model. Which value is the best alpha from the list of values?<br><br>Consider the alpha values: [7,8,9,10,11]</b>\n",
    "                </font>\n",
    "            </div>\n",
    "        </td>\n",
    "    </tr>\n",
    "</table>"
   ]
  },
  {
   "cell_type": "code",
   "execution_count": 65,
   "metadata": {
    "scrolled": true
   },
   "outputs": [
    {
     "name": "stdout",
     "output_type": "stream",
     "text": [
      "{'alpha': 7}\n",
      "0.12590149345058535\n"
     ]
    }
   ],
   "source": [
    "# type your code here\n",
    "rid = Ridge()\n",
    "param = {'alpha':[7,8,9,10,11]}\n",
    "grid = GridSearchCV(rid,param_grid=param,cv=3,scoring='neg_mean_squared_error')\n",
    "grid_mod = grid.fit(inp,out)\n",
    "print(grid_mod.best_params_)\n",
    "print(abs(grid_mod.best_score_))"
   ]
  },
  {
   "cell_type": "markdown",
   "metadata": {
    "collapsed": true
   },
   "source": [
    "<table align=\"left\">\n",
    "    <tr>\n",
    "        <td width=\"6%\">\n",
    "            <img src=\"question_icon.png\">\n",
    "        </td>\n",
    "        <td>\n",
    "            <div align=\"left\", style=\"font-size:120%\">\n",
    "                <font color=\"#21618C\">\n",
    "                    <b>18. If lasso regression is used to build a full model. Which value is the best alpha from the list of values?<br><br>Consider the alpha values: [7,8,9,10,11]</b>\n",
    "                </font>\n",
    "            </div>\n",
    "        </td>\n",
    "    </tr>\n",
    "</table>"
   ]
  },
  {
   "cell_type": "code",
   "execution_count": 66,
   "metadata": {},
   "outputs": [
    {
     "name": "stdout",
     "output_type": "stream",
     "text": [
      "{'alpha': 7}\n",
      "1.0016933211988035\n"
     ]
    }
   ],
   "source": [
    "# type your code here\n",
    "las = Lasso()\n",
    "param = {'alpha':[7,8,9,10,11]}\n",
    "grid = GridSearchCV(las,param_grid=param,cv=3,scoring='neg_mean_squared_error')\n",
    "grid_mod = grid.fit(inp,out)\n",
    "print(grid_mod.best_params_)\n",
    "print(abs(grid_mod.best_score_))"
   ]
  },
  {
   "cell_type": "markdown",
   "metadata": {
    "collapsed": true
   },
   "source": [
    "<table align=\"left\">\n",
    "    <tr>\n",
    "        <td width=\"6%\">\n",
    "            <img src=\"question_icon.png\">\n",
    "        </td>\n",
    "        <td>\n",
    "            <div align=\"left\", style=\"font-size:120%\">\n",
    "                <font color=\"#21618C\">\n",
    "                    <b>19. Perform regression analysis to study the impact of malnutrition and diseases on life expectancy. Determine the optimal value of alpha and mixing parameter if elastic net regression is used to build the model. Consider the following list of values:<br><br> alpha : [0.1,0.5,1,1.5,2,2.5,3,3.5,4]<br> l1_ratio : [0.5,0.55,0.6,0.65,0.7,0.75,0.8,0.85,0.9] </b>\n",
    "                </font>\n",
    "            </div>\n",
    "        </td>\n",
    "    </tr>\n",
    "</table>"
   ]
  },
  {
   "cell_type": "code",
   "execution_count": 68,
   "metadata": {},
   "outputs": [
    {
     "name": "stdout",
     "output_type": "stream",
     "text": [
      "{'alpha': 0.1, 'l1_ratio': 0.5}\n",
      "0.5152196835492617\n"
     ]
    }
   ],
   "source": [
    "# type your code here\n",
    "enet = ElasticNet()\n",
    "param = {'alpha':[0.1,0.5,1,1.5,2,2.5,3,3.5,4],\n",
    "        'l1_ratio':[0.5,0.55,0.6,0.65,0.7,0.75,0.8,0.85,0.9]}\n",
    "inp = data_sc[['Measles ','HIV','Malnourished10_19','Malnourished5_9']]\n",
    "out = data_sc['Life_Expectancy']\n",
    "grid = GridSearchCV(enet,param_grid = param, cv = 3 , scoring = 'neg_mean_squared_error')\n",
    "mod_hyp = grid.fit(inp,out)\n",
    "print(mod_hyp.best_params_)\n",
    "print(abs(mod_hyp.best_score_))"
   ]
  },
  {
   "cell_type": "markdown",
   "metadata": {
    "collapsed": true
   },
   "source": [
    "<table align=\"left\">\n",
    "    <tr>\n",
    "        <td width=\"6%\">\n",
    "            <img src=\"question_icon.png\">\n",
    "        </td>\n",
    "        <td>\n",
    "            <div align=\"left\", style=\"font-size:120%\">\n",
    "                <font color=\"#21618C\">\n",
    "                    <b>20. Build a full model. Select the optimal value for elastic net mixing parameter if the alpha value is 0.8<br><br>Consider the values: l1_ratio : [0.001, 0.005, 0.01, 0.05, 0.1, 0.5, 1]</b>\n",
    "                </font>\n",
    "            </div>\n",
    "        </td>\n",
    "    </tr>\n",
    "</table>"
   ]
  },
  {
   "cell_type": "code",
   "execution_count": 69,
   "metadata": {
    "scrolled": true
   },
   "outputs": [
    {
     "name": "stdout",
     "output_type": "stream",
     "text": [
      "{'alpha': 0.8, 'l1_ratio': 0.001}\n",
      "0.16180453714801185\n"
     ]
    }
   ],
   "source": [
    "# type your code here\n",
    "enet = ElasticNet()\n",
    "param = {'alpha':[0.8],\n",
    "        'l1_ratio':[0.001, 0.005, 0.01, 0.05, 0.1, 0.5, 1]}\n",
    "inp = data_sc.drop('Life_Expectancy',axis=1)\n",
    "out = data_sc['Life_Expectancy']\n",
    "grid = GridSearchCV(enet,param_grid = param, cv = 3 , scoring = 'neg_mean_squared_error')\n",
    "mod_hyp = grid.fit(inp,out)\n",
    "print(mod_hyp.best_params_)\n",
    "print(abs(mod_hyp.best_score_))"
   ]
  },
  {
   "cell_type": "code",
   "execution_count": null,
   "metadata": {},
   "outputs": [],
   "source": []
  }
 ],
 "metadata": {
  "kernelspec": {
   "display_name": "Python 3",
   "language": "python",
   "name": "python3"
  },
  "language_info": {
   "codemirror_mode": {
    "name": "ipython",
    "version": 3
   },
   "file_extension": ".py",
   "mimetype": "text/x-python",
   "name": "python",
   "nbconvert_exporter": "python",
   "pygments_lexer": "ipython3",
   "version": "3.8.3"
  }
 },
 "nbformat": 4,
 "nbformat_minor": 2
}
